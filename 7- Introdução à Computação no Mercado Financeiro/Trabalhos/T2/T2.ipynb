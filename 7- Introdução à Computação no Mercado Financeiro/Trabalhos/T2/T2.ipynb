{
 "cells": [
  {
   "attachments": {},
   "cell_type": "markdown",
   "metadata": {},
   "source": [
    "# Trabalho 2 - Combinação de Fatores para Seleção de Portifólios de Ações\n",
    "\n",
    "**Aluno:** Luiz Fernando Rabelo (11796893)"
   ]
  },
  {
   "attachments": {},
   "cell_type": "markdown",
   "metadata": {},
   "source": [
    "## Bibliotecas Utilizadas\n",
    "\n",
    "Para a resolução do trabalho, foram utilizadas as bibliotecas numpy, pandas e riskfolio, as quais são importadas abaixo:"
   ]
  },
  {
   "cell_type": "code",
   "execution_count": null,
   "metadata": {},
   "outputs": [],
   "source": [
    "import numpy as np\n",
    "import pandas as pd\n",
    "import riskfolio"
   ]
  },
  {
   "attachments": {},
   "cell_type": "markdown",
   "metadata": {},
   "source": [
    "## Dados Considerados\n",
    "\n",
    "Foram considerados dados de mercado e de fatores coletados pela plataforma Economatica. Os dados estão dispostos em arqivos xlsx na pasta `/data` e são lidos abaixo."
   ]
  },
  {
   "cell_type": "code",
   "execution_count": null,
   "metadata": {},
   "outputs": [],
   "source": [
    "# Inicialização de dicionário para os dados de mercado:\n",
    "dados_mercado = {\n",
    "    'Comp-IBRX': None,   # composição do índice IBX\n",
    "    'Fechamento': None,  # preços de fechamento dos ativos\n",
    "    'Base': None,        # índices de referência (Ibov, IBX, Selic, etc)\n",
    "}\n",
    "\n",
    "# Leitura dos dados de mercado dos arquivos:\n",
    "for chave in dados_mercado.keys():\n",
    "    dados_mercado[chave] = pd.read_excel(f'./data/Dados-{chave}.xlsx', engine='openpyxl')\n",
    "    dados_mercado[chave].set_index(keys='Data', inplace=True)\n",
    "\n",
    "# Inicialização de dicionário para os dados de fatores:\n",
    "dados_fatores = {\n",
    "    'ROIC-A2': None,     # fator qualidade\n",
    "    'Momentum-12': None, # fator momentum\n",
    "    'Val-Merc': None,    # fator tamanho \n",
    "    'PVP': None,         # fator valor\n",
    "    'Vol-12': None       # fator volatilidade\n",
    "}\n",
    "\n",
    "# Leitura dos dados de fatores dos arquivos:\n",
    "for chave in dados_fatores.keys():\n",
    "    dados_fatores[chave] = pd.read_excel(f'./data/Dados-{chave}.xlsx', engine='openpyxl')\n",
    "    dados_fatores[chave].set_index(keys='Data', inplace=True)\n",
    "    crescente = False if chave in ['ROIC-A2', 'Momentum-12'] else True\n",
    "    dados_fatores[chave] = dados_fatores[chave].rank(axis=1, numeric_only=True, ascending=crescente, method='first')\n",
    "\n",
    "# Definição de constantes complementares:\n",
    "linha_inicio_dados = 13                     # correspondente à 01/2005\n",
    "linha_fim_dados = linha_inicio_dados + 192  # correspondente à 12/2020\n",
    "colunas = len(dados_mercado['Comp-IBRX'].columns)\n",
    "passos_portifolio = 1\n",
    "passos_avaliacao = 1\n",
    "\n",
    "# Impressão dos dados de avaliação / rebalanceamento:\n",
    "print(f'Período de avaliação - de: {dados_mercado[\"Base\"].index[linha_inicio_dados]} ({linha_inicio_dados}) até: {dados_mercado[\"Base\"].index[linha_fim_dados - 1]} ({linha_fim_dados - 1})')\n",
    "print(f'Rebalanceamento a cada {passos_avaliacao}/{passos_portifolio} meses.')"
   ]
  },
  {
   "attachments": {},
   "cell_type": "markdown",
   "metadata": {},
   "source": [
    "## Definição de Funções Auxiliares\n",
    "\n",
    "Com referência ao material utilizado nas aulas teóricas, foram aproveitadas as seguintes funções, que são usadas invocadas no decorrer do trabalho:"
   ]
  },
  {
   "attachments": {},
   "cell_type": "markdown",
   "metadata": {},
   "source": [
    "#### Função para Seleção de Portifólio por Fator\n",
    "\n",
    "Dadas as informações que descrevem o fator e dada a fatia do ranking considerada (o ranking deverá estar ordenado de forma que a primeira posição é a melhor e a última a pior), a função retorna um dataframe com as ações selecionadas para o portifólio, separando-as por mês.\n"
   ]
  },
  {
   "cell_type": "code",
   "execution_count": null,
   "metadata": {},
   "outputs": [],
   "source": [
    "def seleciona_port_1_fator(portifolio_original, inicio, fim):\n",
    "    portifolio_final = portifolio_original.copy()\n",
    "    portifolio_final.loc[:, :] = 0\n",
    "    for lin in range(linha_inicio_dados, linha_fim_dados, passos_portifolio):\n",
    "        for col in range(colunas):\n",
    "            if inicio <= portifolio_original.iat[lin-1, col] <= fim:\n",
    "                portifolio_final.iat[lin-1, col] = 1    \n",
    "    return portifolio_final"
   ]
  },
  {
   "attachments": {},
   "cell_type": "markdown",
   "metadata": {},
   "source": [
    "#### Função para Intersecção de Portifólios\n",
    "\n",
    "Funciona de forma semelhante à primeira função, mas considera a intersecção dos ranking de 2 fatores (n primeiras ações do primeiro + n primeiras ações do segundo) para a formação do portifólio. Retorna um dataframe com as ações selecionadas, separando-as por mês."
   ]
  },
  {
   "cell_type": "code",
   "execution_count": null,
   "metadata": {},
   "outputs": [],
   "source": [
    "def seleciona_port_2_fatores(portifolio1, fim1, portifolio2, fim2):\n",
    "    portifolio_final = portifolio1.copy()\n",
    "    portifolio_final.loc[:, :] = 0\n",
    "    for lin in range(linha_inicio_dados, linha_fim_dados, passos_portifolio):\n",
    "        for col in range(colunas):\n",
    "            if 1 <= portifolio1.iat[lin-1, col] <= fim1 and 1 <= portifolio2.iat[lin-1, col] <= fim2:\n",
    "                portifolio_final.iat[lin-1, col] = 1                \n",
    "    return portifolio_final"
   ]
  },
  {
   "attachments": {},
   "cell_type": "markdown",
   "metadata": {},
   "source": [
    "#### Função para Avaliação de Portifólio\n",
    "\n",
    "Recebe o portifólio montado e os preços de fechamento e retorna vários dados sobre o portifólio: lista de retorno acumulado, lista com retornos periódicos, lista com drawdown e retorno e volatilidade anualizados."
   ]
  },
  {
   "cell_type": "code",
   "execution_count": null,
   "metadata": {},
   "outputs": [],
   "source": [
    "def avalia_portifolio(portifolio, fechamentos):\n",
    "    retornos_acumulados = [1]\n",
    "    retornos_periodicos = []\n",
    "    drawdowns = []\n",
    "    retorno_acumulado = 1.0\n",
    "    custo_trans = 0.0006\n",
    "    \n",
    "    for lin in range(linha_inicio_dados, linha_fim_dados, passos_avaliacao):\n",
    "        contagem_ativos = 0.0\n",
    "        rentabilidade_ativos = 0.0\n",
    "        for col in range(colunas):\n",
    "            if portifolio.iat[lin-1, col] > 0 and fechamentos.iat[lin-1, col] > 0 and fechamentos.iat[lin-1+passos_avaliacao, col] > 0:\n",
    "                rentabilidade_ativos += (fechamentos.iat[lin-1+passos_avaliacao,col] / fechamentos.iat[lin-1,col]-1) * (portifolio.iat[lin-1, col])\n",
    "                contagem_ativos += portifolio.iat[lin-1, col]\n",
    "        if contagem_ativos == 0:\n",
    "        #   return [1,1], [1,1], [0,0], 0, 0.000001\n",
    "            return None\n",
    "        retorno_acumulado *= (1.0 + rentabilidade_ativos / contagem_ativos - custo_trans)\n",
    "        retornos_periodicos.append(rentabilidade_ativos / contagem_ativos - custo_trans)\n",
    "        retornos_acumulados.append(retorno_acumulado)\n",
    "        drawdowns.append(retorno_acumulado / np.max(retornos_acumulados) - 1)\n",
    "\n",
    "    retorno_anualizado = pow(retorno_acumulado, 12 / (linha_fim_dados - linha_inicio_dados)) - 1\n",
    "    volatilidade_anualizada = np.std(retornos_periodicos) * ((12 / passos_avaliacao) ** (1/2))\n",
    "\n",
    "    return {\n",
    "        'ret_accs': retornos_acumulados,\n",
    "        'variacoes': retornos_periodicos,\n",
    "        'draw_downs': drawdowns,\n",
    "        'ret_aa': retorno_anualizado,\n",
    "        'vol_aa': volatilidade_anualizada\n",
    "    }\n"
   ]
  },
  {
   "attachments": {},
   "cell_type": "markdown",
   "metadata": {},
   "source": [
    "#### Função para Avaliação de Referência\n",
    "\n",
    "Recebe a referência a ser considerada e retorna vários dados sobre a mesma: lista de retorno acumulado, lista com retornos periódicos, lista com drawdown e retorno e volatilidade anualizados."
   ]
  },
  {
   "cell_type": "code",
   "execution_count": null,
   "metadata": {},
   "outputs": [],
   "source": [
    "INDICE_IBOVESPA = 0\n",
    "INDICE_IBX = 1\n",
    "INDICE_SELIC = 2\n",
    "INDICE_IPCA = 3\n",
    "\n",
    "def avalia_referencia(referencia, indice):\n",
    "    retornos_acumulados = [1]\n",
    "    retornos_periodicos = []\n",
    "    drawdowns = []\n",
    "    retorno_acumulado = 1.0\n",
    "\n",
    "    for lin in range(linha_inicio_dados, linha_fim_dados, passos_avaliacao):\n",
    "        rentabilidade = referencia.iat[lin - 1 + passos_avaliacao, indice] / referencia.iat[lin - 1, indice]\n",
    "        retorno_acumulado *= rentabilidade\n",
    "        retornos_periodicos.append(rentabilidade-1)\n",
    "        retornos_acumulados.append(retorno_acumulado)\n",
    "        drawdowns.append(retorno_acumulado / np.max(retornos_acumulados) - 1)\n",
    "    \n",
    "    retorno_anualizado = pow(retorno_acumulado, 12 / (linha_fim_dados - linha_inicio_dados)) - 1\n",
    "    volatilidade_anualizada = np.std(retornos_periodicos) * ((12 / passos_avaliacao) ** (1/2))\n",
    "\n",
    "    return {\n",
    "        'ret_accs': retornos_acumulados,\n",
    "        'variacoes': retornos_periodicos,\n",
    "        'draw_downs': drawdowns,\n",
    "        'ret_aa': retorno_anualizado,\n",
    "        'vol_aa': volatilidade_anualizada\n",
    "    }"
   ]
  },
  {
   "attachments": {},
   "cell_type": "markdown",
   "metadata": {},
   "source": [
    "#### Função de Otimização do Riskfolio"
   ]
  },
  {
   "cell_type": "code",
   "execution_count": null,
   "metadata": {},
   "outputs": [],
   "source": [
    "def seleciona_portifolio_otimizado(portifolio, tipo_otimizacao, fechamentos):\n",
    "    total_meses = 24  # total de meses p/ cálculo da volatilidade\n",
    "    portifolio_copia = portifolio.copy()\n",
    "\n",
    "    for lin in range(linha_inicio_dados + total_meses, linha_fim_dados):\n",
    "        df = pd.DataFrame()\n",
    "        for col in range(colunas):\n",
    "            if portifolio_copia.iat[lin-1, col] > 0:\n",
    "                df[portifolio_copia.columns[col]] = fechamentos[portifolio_copia.columns[col]].iloc[lin-1-total_meses:lin-1]\n",
    "        df.fillna(method='backfill', axis=0, inplace=True)\n",
    "        df_mudancas = df.pct_change().dropna()\n",
    "\n",
    "        if tipo_otimizacao == 'RP':  # risk parity\n",
    "            portifolio_rp = riskfolio.Portfolio(returns=df_mudancas)\n",
    "            portifolio_rp.assets_stats(d=0.94, method_cov='hist')\n",
    "            dados_pesos = portifolio_rp.rp_optimization(rm='MV', b=None)\n",
    "        elif tipo_otimizacao == 'GMV':  # minimum variance\n",
    "            portifolio_gmv = riskfolio.Portfolio(returns=df_mudancas)\n",
    "            portifolio_gmv.assets_stats(d=0.94)\n",
    "            dados_pesos = portifolio_gmv.optimization(model='Classic', rm='MV', obj='MinRisk')\n",
    "        elif tipo_otimizacao == 'MDP':  # maximum decorrelation\n",
    "            portifolio_mdp = riskfolio.Portfolio(returns=df_mudancas)\n",
    "            portifolio_mdp.assets_stats(d=0.94)\n",
    "            portifolio_mdp.cov = df_mudancas.corr()\n",
    "            dados_pesos = portifolio_mdp.optimization(model='Classic', rm='MV', obj='MinRisk')\n",
    "\n",
    "        tamanho_colunas = len(df_mudancas.columns) \n",
    "        for at in range(tamanho_colunas):\n",
    "            portifolio_copia.at[portifolio_copia.index[lin-1], df.columns[at]] = dados_pesos['weights'].iat[at]\n",
    "    \n",
    "    return portifolio_copia.copy()\n",
    "            "
   ]
  },
  {
   "attachments": {},
   "cell_type": "markdown",
   "metadata": {},
   "source": [
    "## Cálculo da Rentabilidade, Volatilidade e Drawdown de Índices\n",
    "\n",
    "A fins de comparação foram avaliados os desempenhos da taxa selic e índices Ibovespa e IBX."
   ]
  },
  {
   "cell_type": "code",
   "execution_count": null,
   "metadata": {},
   "outputs": [],
   "source": [
    "indices = {'SELIC': INDICE_SELIC, 'Ibov': INDICE_IBOVESPA, 'IBX': INDICE_IBX}\n",
    "dados_indices = {}\n",
    "\n",
    "for chave in indices.keys():\n",
    "    dados_idc = avalia_referencia(dados_mercado['Base'], indices[chave])\n",
    "    dados_indices[chave] = dados_idc\n",
    "    print(f'Referência: {chave}')\n",
    "    print(f'- Retorno acumulado: {round(dados_idc[\"ret_accs\"][-1] * 100-100, 2)}%')\n",
    "    print(f'- Retorno anualizado: {round(dados_idc[\"ret_aa\"] * 100, 2)}%')\n",
    "    print(f'- Volatilidade anualizada: {round(dados_idc[\"vol_aa\"] * 100, 2)}%')\n",
    "    print(f'- Relação Retorno/Volatilidade: {round(dados_idc[\"ret_aa\"] / dados_idc[\"vol_aa\"], 2)}')\n",
    "    print(f'- Draw Down: {round(np.min(dados_idc[\"draw_downs\"]) * 100, 2)}%\\n')"
   ]
  },
  {
   "attachments": {},
   "cell_type": "markdown",
   "metadata": {},
   "source": [
    "## Avaliação de Portifólios Individuais (por Fator)\n",
    "\n",
    "Podemos analisar cada fator, de forma individual, para compor os ativos de um portifólio. Nesse sentido, na célula abaixo estão dispostos os dados coletados por backtesting:"
   ]
  },
  {
   "cell_type": "code",
   "execution_count": null,
   "metadata": {},
   "outputs": [],
   "source": [
    "dados_portifolios = {}\n",
    "\n",
    "for chave in dados_fatores.keys():\n",
    "    portifolio = seleciona_port_1_fator(dados_fatores[chave], 0, 30)\n",
    "    dados_port = avalia_portifolio(portifolio, dados_mercado['Fechamento'])\n",
    "    dados_portifolios[chave] = dados_port\n",
    "    beta, alpha = np.polyfit(dados_indices['IBX']['variacoes'], dados_port['variacoes'], 1)\n",
    "    print(f'Fator considerado: {chave}')\n",
    "    print(f'- Retorno acumulado: {round(dados_port[\"ret_accs\"][-1] * 100-100, 2)}%')\n",
    "    print(f'- Retorno anualizado: {round(dados_port[\"ret_aa\"] * 100, 2)}%')\n",
    "    print(f'- Volatilidade anualizada: {round(dados_port[\"vol_aa\"] * 100, 2)}%')\n",
    "    print(f'- Relação Retorno/Volatilidade: {round(dados_port[\"ret_aa\"] / dados_port[\"vol_aa\"], 2)}')\n",
    "    print(f'- Draw Down: {round(np.min(dados_port[\"draw_downs\"]) * 100, 2)}%')\n",
    "    print(f'- Alfa: {round(alpha * (12 / passos_avaliacao) * 100, 2)}%, Beta: {round(beta,2)}\\n')"
   ]
  },
  {
   "attachments": {},
   "cell_type": "markdown",
   "metadata": {},
   "source": [
    "### Análise da Rentabilidade"
   ]
  },
  {
   "cell_type": "code",
   "execution_count": null,
   "metadata": {},
   "outputs": [],
   "source": [
    "# Evolução das cotas de cada portifólio comparadas com o índice de referência IBX:\n",
    "df = pd.DataFrame(index=dados_fatores['ROIC-A2'].iloc[linha_inicio_dados:linha_fim_dados+1].index)\n",
    "for chave in dados_fatores.keys():\n",
    "    df[chave] = dados_portifolios[chave]['ret_accs']\n",
    "df['IBX'] = dados_indices['IBX']['ret_accs']\n",
    "df.iloc[0:].plot(figsize=(18,6), grid=True, title='Evolução das cotas e índice');"
   ]
  },
  {
   "attachments": {},
   "cell_type": "markdown",
   "metadata": {},
   "source": [
    "Como se pode observar, o ranking de fatores de maior rentabilidade acumulada, considerando as 30 melhores ações de cada fator no período considerado, é dado por:\n",
    "\n",
    "1. Fator Momentum;\n",
    "2. Fator Volatilidade;\n",
    "3. Fator Qualidade (ROIC);\n",
    "4. Fator Preço (PVP);\n",
    "5. Fator Tamanho (Valor de Mercado)."
   ]
  },
  {
   "attachments": {},
   "cell_type": "markdown",
   "metadata": {},
   "source": [
    "### Análise da Volatilidade"
   ]
  },
  {
   "cell_type": "code",
   "execution_count": null,
   "metadata": {},
   "outputs": [],
   "source": [
    "# Evolução da volatilidade dos últimos 12 meses de cada portfólio comparadas com o índice de referência IBX:\n",
    "df = pd.DataFrame()\n",
    "for chave in dados_fatores.keys():\n",
    "    df[chave] = pd \\\n",
    "        .Series(dados_portifolios[chave]['variacoes']) \\\n",
    "        .rolling(int(12 / passos_avaliacao)) \\\n",
    "        .std() * (int(12 / passos_avaliacao) ** (1/2))\n",
    "df['IBX'] = pd \\\n",
    "    .Series(dados_indices['IBX']['variacoes']) \\\n",
    "    .rolling(int(12/passos_avaliacao)) \\\n",
    "    .std()*(int(12/passos_avaliacao)**(1/2))\n",
    "df.plot(figsize=(18,6), grid=True, title='Volatilidade nos últimos 12 meses');"
   ]
  },
  {
   "attachments": {},
   "cell_type": "markdown",
   "metadata": {},
   "source": [
    "Já com relação à menor volatilidade, considerando-se as 30 melhores ações de cada fator, o ranking de fatores é dado por:\n",
    "\n",
    "1. Fator Volatilidade;\n",
    "2. Fator Qualidade (ROIC);\n",
    "3. Fator Momentum;\n",
    "4. Fator Preço (PVP);\n",
    "5. Fator Tamanho (Valor de Mercado)."
   ]
  },
  {
   "attachments": {},
   "cell_type": "markdown",
   "metadata": {},
   "source": [
    "## Composição dos Portifólios"
   ]
  },
  {
   "attachments": {},
   "cell_type": "markdown",
   "metadata": {},
   "source": [
    "### Portifólio com Foco em Rentabilidade (Composição Intuitiva)\n",
    "\n",
    "Para compor o portifólio \"mais agressivo\", com foco em rentabilidade, podemos considerar intuitivamente, a análise anterior (30 melhores ativos por fator) e usar os 2 fatores que apresentaram melhor desempenho individual na rentabilidade acumulada: _Momentum_ e _Volatilidade_."
   ]
  },
  {
   "cell_type": "code",
   "execution_count": null,
   "metadata": {},
   "outputs": [],
   "source": [
    "portifolio_rentabilidade = seleciona_port_2_fatores(dados_fatores['Momentum-12'], 30, dados_fatores['Vol-12'], 30)\n",
    "dados_port = avalia_portifolio(portifolio_rentabilidade, dados_mercado['Fechamento'])\n",
    "beta, alpha = np.polyfit(dados_indices['IBX']['variacoes'], dados_port['variacoes'], 1)\n",
    "\n",
    "print(f'Fatores Momentum e Volatilidade')\n",
    "print(f'- Retorno acumulado: {round(dados_port[\"ret_accs\"][-1] * 100-100, 2)}%')\n",
    "print(f'- Retorno anualizado: {round(dados_port[\"ret_aa\"] * 100, 2)}%')\n",
    "print(f'- Volatilidade anualizada: {round(dados_port[\"vol_aa\"] * 100, 2)}%')\n",
    "print(f'- Relação Retorno/Volatilidade: {round(dados_port[\"ret_aa\"] / dados_port[\"vol_aa\"], 2)}')\n",
    "print(f'- Draw Down: {round(np.min(dados_port[\"draw_downs\"]) * 100, 2)}%')\n",
    "print(f'- Alfa: {round(alpha * (12 / passos_avaliacao) * 100, 2)}%, Beta: {round(beta,2)}\\n')"
   ]
  },
  {
   "cell_type": "code",
   "execution_count": null,
   "metadata": {},
   "outputs": [],
   "source": [
    "# Evolução das cotas do portifólio comparadas com o índice de referência IBX:\n",
    "df = pd.DataFrame(index=dados_fatores['ROIC-A2'].iloc[linha_inicio_dados:linha_fim_dados+1].index)\n",
    "df['Momentum & Volatilidade'] = dados_port['ret_accs']\n",
    "df['IBX'] = dados_indices['IBX']['ret_accs']\n",
    "df.iloc[0:].plot(figsize=(18,6), grid=True, title='Evolução das cotas e índice');"
   ]
  },
  {
   "attachments": {},
   "cell_type": "markdown",
   "metadata": {},
   "source": [
    "Percebe-se que o retorno acumulado do portifólio é bastante superior ao retorno acumulado do _IBX_."
   ]
  },
  {
   "cell_type": "code",
   "execution_count": null,
   "metadata": {},
   "outputs": [],
   "source": [
    "# Retorno anual de um portfólio comparado à referência IBX\n",
    "df2 = pd.DataFrame(columns=['Data', 'Momentum & Volatilidade', 'IBX'])\n",
    "for ind in range(0, len(df.index) - 12, 12):\n",
    "    tempo = df.iloc[ind+12] / df.iloc[ind] - 1\n",
    "    df2 = df2.append(tempo, ignore_index=True)\n",
    "    df2.iat[len(df2) - 1, 0] = df.index[ind]\n",
    "df2.set_index(keys='Data', inplace=True)\n",
    "df2.plot.bar(figsize=(18,6), grid=True);"
   ]
  },
  {
   "attachments": {},
   "cell_type": "markdown",
   "metadata": {},
   "source": [
    "### Portifólio com Foco em Rentabilidade (Composição Intuitiva Otimizada)\n",
    "\n",
    "É possível, ainda, distribuir os pesos de alocação considerando os métodos de otimização da biblioteca _Riskfolio_: \n",
    "\n",
    "- RP: Risk Parity;\n",
    "- GMV: Minimum Variance;\n",
    "- MDP: Maximum Decorrelation."
   ]
  },
  {
   "cell_type": "code",
   "execution_count": null,
   "metadata": {},
   "outputs": [],
   "source": [
    "labels_otimizacao = ['RP', 'GMV', 'MDP']\n",
    "\n",
    "for label in labels_otimizacao:\n",
    "    portifolio_rent_otimizado = seleciona_portifolio_otimizado(portifolio_rentabilidade, label, dados_mercado['Fechamento'])\n",
    "    dados_port = avalia_portifolio(portifolio_rent_otimizado, dados_mercado['Fechamento'])\n",
    "    beta, alpha = np.polyfit(dados_indices['IBX']['variacoes'], dados_port['variacoes'], 1)\n",
    "    print(f'Fatores Momentum e Volatilidade - Otimização {label}')\n",
    "    print(f'- Retorno acumulado: {round(dados_port[\"ret_accs\"][-1] * 100-100, 2)}%')\n",
    "    print(f'- Retorno anualizado: {round(dados_port[\"ret_aa\"] * 100, 2)}%')\n",
    "    print(f'- Volatilidade anualizada: {round(dados_port[\"vol_aa\"] * 100, 2)}%')\n",
    "    print(f'- Relação Retorno/Volatilidade: {round(dados_port[\"ret_aa\"] / dados_port[\"vol_aa\"], 2)}')\n",
    "    print(f'- Draw Down: {round(np.min(dados_port[\"draw_downs\"]) * 100, 2)}%')\n",
    "    print(f'- Alfa: {round(alpha * (12 / passos_avaliacao) * 100, 2)}%, Beta: {round(beta,2)}\\n')"
   ]
  },
  {
   "attachments": {},
   "cell_type": "markdown",
   "metadata": {},
   "source": [
    "Percebe-se que, com o portifólio otimizado, a rentabilidade acumulada foi reduzida para todos os métodos de otimização. Entretanto os valores de volatilidades anualizadas foram parecidos com os do portifólio original e os valores de draw down foram relativamente piores. A otimização mais adequada para o foco em rentabilidade, nesse caso, é a _RP_, uma vez que tem a maior rentabilidade acumulada."
   ]
  },
  {
   "cell_type": "code",
   "execution_count": null,
   "metadata": {},
   "outputs": [],
   "source": [
    "# Otimização RP:\n",
    "portifolio_rp = seleciona_portifolio_otimizado(portifolio_rentabilidade, 'RP', dados_mercado['Fechamento'])\n",
    "dados_port = avalia_portifolio(portifolio_rp, dados_mercado['Fechamento'])\n",
    "\n",
    "# Evolução das cotas do portifólio comparadas com o índice de referência IBX:\n",
    "df = pd.DataFrame(index=dados_fatores['ROIC-A2'].iloc[linha_inicio_dados:linha_fim_dados+1].index)\n",
    "df['Momentum & Volatilidade - Otimização RP'] = dados_port['ret_accs']\n",
    "df['IBX'] = dados_indices['IBX']['ret_accs']\n",
    "df.iloc[0:].plot(figsize=(18,6), grid=True, title='Evolução das cotas e índice');"
   ]
  },
  {
   "cell_type": "code",
   "execution_count": null,
   "metadata": {},
   "outputs": [],
   "source": [
    "# Retorno anual de um portfólio comparado à referência IBX\n",
    "df2 = pd.DataFrame(columns=['Data', 'Momentum & Volatilidade - Otimização RP', 'IBX'])\n",
    "for ind in range(0, len(df.index) - 12, 12):\n",
    "    tempo = df.iloc[ind+12] / df.iloc[ind] - 1\n",
    "    df2 = df2.append(tempo, ignore_index=True)\n",
    "    df2.iat[len(df2) - 1, 0] = df.index[ind]\n",
    "df2.set_index(keys='Data', inplace=True)\n",
    "df2.plot.bar(figsize=(18,6), grid=True);"
   ]
  },
  {
   "attachments": {},
   "cell_type": "markdown",
   "metadata": {},
   "source": [
    "### Portifólio com Foco em Rentabilidade (Composição com Teste de Variação de Parâmetros Otimizada)\n",
    "\n",
    "No intuito de testar diferentes fatores e alterar a quantidade de ativos alocados sobre cada fator, foi desenvolvido o seguinte teste com dados passados:\n",
    "\n",
    "```\n",
    "  para cada par de fatores:\n",
    "    para cada quantidade de ativos do fator 1 no intervalo [15,50] (pulando de 5 em 5)\n",
    "      para cada quantidade de ativos do fator 2 no intervalo [15,50] (pulando de 5 em 5)\n",
    "        se as quantidades supracitadas atuais produzem otimização válida pela biblioteca Riskfolio:\n",
    "          verificar rentabilidade das otimizações considerando as quantidades atuais\n",
    "```\n",
    "\n",
    "O resultado encontrado foi que, embora os fatores Momentum e Volatilidade tenham tido os melhores desempenhos individuais para 30 ações, os fatores Momentum e Qualidade com 25 e 40 ações, respectivamente, obtiveram um desempenho consideravelmente melhor para a rentabilidade quando otimizado pelo método Maximum Decorrelation:"
   ]
  },
  {
   "cell_type": "code",
   "execution_count": null,
   "metadata": {},
   "outputs": [],
   "source": [
    "# Composição do portifólio:\n",
    "portifolio_rentabilidade2 = seleciona_port_2_fatores(dados_fatores['ROIC-A2'], 40, dados_fatores['Momentum-12'], 25)\n",
    "\n",
    "# Otimização do portifólio:\n",
    "portifolio_rent_otimizado2 = seleciona_portifolio_otimizado(portifolio_rentabilidade2, 'MDP', dados_mercado['Fechamento'])\n",
    "dados_port = avalia_portifolio(portifolio_rent_otimizado2, dados_mercado['Fechamento'])\n",
    "beta, alpha = np.polyfit(dados_indices['IBX']['variacoes'], dados_port['variacoes'], 1)\n",
    "\n",
    "# Exibição de resultados:\n",
    "print(f'Fatores Qualidade e Momentum - Otimização MDP')\n",
    "print(f'- Retorno acumulado: {round(dados_port[\"ret_accs\"][-1] * 100-100, 2)}%')\n",
    "print(f'- Retorno anualizado: {round(dados_port[\"ret_aa\"] * 100, 2)}%')\n",
    "print(f'- Volatilidade anualizada: {round(dados_port[\"vol_aa\"] * 100, 2)}%')\n",
    "print(f'- Relação Retorno/Volatilidade: {round(dados_port[\"ret_aa\"] / dados_port[\"vol_aa\"], 2)}')\n",
    "print(f'- Draw Down: {round(np.min(dados_port[\"draw_downs\"]) * 100, 2)}%')\n",
    "print(f'- Alfa: {round(alpha * (12 / passos_avaliacao) * 100, 2)}%, Beta: {round(beta,2)}\\n')"
   ]
  },
  {
   "cell_type": "code",
   "execution_count": null,
   "metadata": {},
   "outputs": [],
   "source": [
    "# Evolução das cotas do portifólio comparadas com o índice de referência IBX:\n",
    "df = pd.DataFrame(index=dados_fatores['ROIC-A2'].iloc[linha_inicio_dados:linha_fim_dados+1].index)\n",
    "df['Momentum & Qualidade - Otimização MDP'] = dados_port['ret_accs']\n",
    "df['IBX'] = dados_indices['IBX']['ret_accs']\n",
    "df.iloc[0:].plot(figsize=(18,6), grid=True, title='Evolução das cotas e índice');"
   ]
  },
  {
   "cell_type": "code",
   "execution_count": null,
   "metadata": {},
   "outputs": [],
   "source": [
    "# Retorno anual de um portfólio comparado à referência IBX\n",
    "df2 = pd.DataFrame(columns=['Data', 'Momentum & Qualidade - Otimização MDP', 'IBX'])\n",
    "for ind in range(0, len(df.index) - 12, 12):\n",
    "    tempo = df.iloc[ind+12] / df.iloc[ind] - 1\n",
    "    df2 = df2.append(tempo, ignore_index=True)\n",
    "    df2.iat[len(df2) - 1, 0] = df.index[ind]\n",
    "df2.set_index(keys='Data', inplace=True)\n",
    "df2.plot.bar(figsize=(18,6), grid=True);"
   ]
  },
  {
   "attachments": {},
   "cell_type": "markdown",
   "metadata": {},
   "source": [
    "### Portifólio com Foco em Volatilidade (Composição Intuitiva)\n",
    "\n",
    "Para compor o portifólio \"mais moderado\", com foco em menor volatilidade, podemos usar, inicialmente, a mesma ideia intuitiva de considerar a análise dos 30 melhores ativos por fator e usar os 2 fatores que apresentaram melhor desempenho individual na volatilidade: _Volatilidade_ e _Qualidade_."
   ]
  },
  {
   "cell_type": "code",
   "execution_count": null,
   "metadata": {},
   "outputs": [],
   "source": [
    "portifolio_volatilidade = seleciona_port_2_fatores(dados_fatores['Vol-12'], 30, dados_fatores['ROIC-A2'], 30)\n",
    "dados_port = avalia_portifolio(portifolio_volatilidade, dados_mercado['Fechamento'])\n",
    "beta, alpha = np.polyfit(dados_indices['IBX']['variacoes'], dados_port['variacoes'], 1)\n",
    "\n",
    "print(f'Fatores Volatilidade e Qualidade')\n",
    "print(f'- Retorno acumulado: {round(dados_port[\"ret_accs\"][-1] * 100-100, 2)}%')\n",
    "print(f'- Retorno anualizado: {round(dados_port[\"ret_aa\"] * 100, 2)}%')\n",
    "print(f'- Volatilidade anualizada: {round(dados_port[\"vol_aa\"] * 100, 2)}%')\n",
    "print(f'- Relação Retorno/Volatilidade: {round(dados_port[\"ret_aa\"] / dados_port[\"vol_aa\"], 2)}')\n",
    "print(f'- Draw Down: {round(np.min(dados_port[\"draw_downs\"]) * 100, 2)}%')\n",
    "print(f'- Alfa: {round(alpha * (12 / passos_avaliacao) * 100, 2)}%, Beta: {round(beta,2)}\\n')"
   ]
  },
  {
   "cell_type": "code",
   "execution_count": null,
   "metadata": {},
   "outputs": [],
   "source": [
    "# Evolução da volatilidade dos últimos 12 meses de cada portfólio comparadas com o índice de referência IBX:\n",
    "df = pd.DataFrame()\n",
    "df['Volatilidade & Qualidade'] = pd \\\n",
    "    .Series(dados_port['variacoes']) \\\n",
    "    .rolling(int(12 / passos_avaliacao)) \\\n",
    "    .std() * (int(12 / passos_avaliacao) ** (1/2))\n",
    "df['IBX'] = pd \\\n",
    "    .Series(dados_indices['IBX']['variacoes']) \\\n",
    "    .rolling(int(12 / passos_avaliacao)) \\\n",
    "    .std()*(int(12 / passos_avaliacao) ** (1/2))\n",
    "df.plot(figsize=(18,6), grid=True, title='Volatilidade nos últimos 12 meses');"
   ]
  },
  {
   "attachments": {},
   "cell_type": "markdown",
   "metadata": {},
   "source": [
    "Percebe-se no resultado, a volatilidade é consideravelmente menor em relação ao índice IBX."
   ]
  },
  {
   "cell_type": "code",
   "execution_count": null,
   "metadata": {},
   "outputs": [],
   "source": [
    "# Retorno anual de um portfólio comparado à referência IBX\n",
    "df2 = pd.DataFrame(columns=['Data', 'Volatilidade & Qualidade', 'IBX'])\n",
    "for ind in range(0, len(df.index) - 12, 12):\n",
    "    tempo = df.iloc[ind+12] / df.iloc[ind] - 1\n",
    "    df2 = df2.append(tempo, ignore_index=True)\n",
    "    df2.iat[len(df2) - 1, 0] = df.index[ind]\n",
    "df2.set_index(keys='Data', inplace=True)\n",
    "df2.plot.bar(figsize=(18,6), grid=True);"
   ]
  },
  {
   "attachments": {},
   "cell_type": "markdown",
   "metadata": {},
   "source": [
    "### Portifólio com Foco em Volatilidade (Composição Intuitiva Otimizada)\n",
    "\n",
    "Otimizando o portifólio com os métodos do _Riskfolio_, obtemos:"
   ]
  },
  {
   "cell_type": "code",
   "execution_count": null,
   "metadata": {},
   "outputs": [],
   "source": [
    "labels_otimizacao = ['RP', 'GMV', 'MDP']\n",
    "\n",
    "for label in labels_otimizacao:\n",
    "    portifolio_vol_otimizado = seleciona_portifolio_otimizado(portifolio_volatilidade, label, dados_mercado['Fechamento'])\n",
    "    dados_port = avalia_portifolio(portifolio_vol_otimizado, dados_mercado['Fechamento'])\n",
    "    beta, alpha = np.polyfit(dados_indices['IBX']['variacoes'], dados_port['variacoes'], 1)\n",
    "    print(f'Fatores Volatilidade e Qualidade - Otimização {label}')\n",
    "    print(f'- Retorno acumulado: {round(dados_port[\"ret_accs\"][-1] * 100-100, 2)}%')\n",
    "    print(f'- Retorno anualizado: {round(dados_port[\"ret_aa\"] * 100, 2)}%')\n",
    "    print(f'- Volatilidade anualizada: {round(dados_port[\"vol_aa\"] * 100, 2)}%')\n",
    "    print(f'- Relação Retorno/Volatilidade: {round(dados_port[\"ret_aa\"] / dados_port[\"vol_aa\"], 2)}')\n",
    "    print(f'- Draw Down: {round(np.min(dados_port[\"draw_downs\"]) * 100, 2)}%')\n",
    "    print(f'- Alfa: {round(alpha * (12 / passos_avaliacao) * 100, 2)}%, Beta: {round(beta,2)}\\n')"
   ]
  },
  {
   "attachments": {},
   "cell_type": "markdown",
   "metadata": {},
   "source": [
    "A otimização reduziu um pouco mais a volatilidade para o método GMV."
   ]
  },
  {
   "cell_type": "code",
   "execution_count": null,
   "metadata": {},
   "outputs": [],
   "source": [
    "portifolio_gmv = seleciona_portifolio_otimizado(portifolio_volatilidade, 'GMV', dados_mercado['Fechamento'])\n",
    "dados_port = avalia_portifolio(portifolio_gmv, dados_mercado['Fechamento'])\n",
    "\n",
    "# Evolução da volatilidade dos últimos 12 meses de cada portfólio comparadas com o índice de referência IBX:\n",
    "df = pd.DataFrame()\n",
    "df['Volatilidade & Qualidade - Otimização GMV'] = pd \\\n",
    "    .Series(dados_port['variacoes']) \\\n",
    "    .rolling(int(12 / passos_avaliacao)) \\\n",
    "    .std() * (int(12 / passos_avaliacao) ** (1/2))\n",
    "df['IBX'] = pd \\\n",
    "    .Series(dados_indices['IBX']['variacoes']) \\\n",
    "    .rolling(int(12 / passos_avaliacao)) \\\n",
    "    .std()*(int(12 / passos_avaliacao) ** (1/2))\n",
    "df.plot(figsize=(18,6), grid=True, title='Volatilidade nos últimos 12 meses');"
   ]
  },
  {
   "cell_type": "code",
   "execution_count": null,
   "metadata": {},
   "outputs": [],
   "source": [
    "# Retorno anual de um portfólio comparado à referência IBX\n",
    "df2 = pd.DataFrame(columns=['Data', 'Volatilidade & Qualidade - Otimização GMV', 'IBX'])\n",
    "for ind in range(0, len(df.index) - 12, 12):\n",
    "    tempo = df.iloc[ind+12] / df.iloc[ind] - 1\n",
    "    df2 = df2.append(tempo, ignore_index=True)\n",
    "    df2.iat[len(df2) - 1, 0] = df.index[ind]\n",
    "df2.set_index(keys='Data', inplace=True)\n",
    "df2.plot.bar(figsize=(18,6), grid=True);"
   ]
  }
 ],
 "metadata": {
  "kernelspec": {
   "display_name": "Python 3",
   "language": "python",
   "name": "python3"
  },
  "language_info": {
   "codemirror_mode": {
    "name": "ipython",
    "version": 3
   },
   "file_extension": ".py",
   "mimetype": "text/x-python",
   "name": "python",
   "nbconvert_exporter": "python",
   "pygments_lexer": "ipython3",
   "version": "3.8.10"
  },
  "orig_nbformat": 4
 },
 "nbformat": 4,
 "nbformat_minor": 2
}
