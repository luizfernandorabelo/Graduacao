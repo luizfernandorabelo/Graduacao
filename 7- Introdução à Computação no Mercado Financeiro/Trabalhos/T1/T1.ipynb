{
  "cells": [
    {
      "attachments": {},
      "cell_type": "markdown",
      "metadata": {},
      "source": [
        "# Trabalho 1 - Análise de Portifólios com Fronteira de Markowitz\n",
        "\n",
        "**Aluno:** Luiz Fernando Rabelo (11796893)"
      ]
    },
    {
      "attachments": {},
      "cell_type": "markdown",
      "metadata": {
        "id": "a2z0Z7dQJBAT"
      },
      "source": [
        "## Bibliotecas Utilizadas\n",
        "\n",
        "Para a resolução do trabalho, foram utilizadas as bibliotecas yfinance (Yahoo Finance), numpy, pandas e matplotlib, as quais são importadas abaixo:"
      ]
    },
    {
      "cell_type": "code",
      "execution_count": null,
      "metadata": {
        "id": "WrMwPF_3LEBF"
      },
      "outputs": [],
      "source": [
        "import yfinance as yf\n",
        "import numpy as np\n",
        "import pandas as pd\n",
        "import matplotlib.pyplot as plt"
      ]
    },
    {
      "attachments": {},
      "cell_type": "markdown",
      "metadata": {},
      "source": [
        "## Ativos Considerados\n",
        "\n",
        "Para a análise do portifólio, foram consideradas as seguintes ações preferenciais, no período de 1 de janeiro de 2015 à 1 de janeiro de 2023:\n",
        "\n",
        "- PETR4 (Petrobras);\n",
        "- POMO4 (Marcopolo).\n",
        "- CMIG4 (CEMIG);"
      ]
    },
    {
      "cell_type": "code",
      "execution_count": null,
      "metadata": {
        "colab": {
          "base_uri": "https://localhost:8080/"
        },
        "id": "_mMixGTCwbti",
        "outputId": "9b2500d1-810f-4618-d1e9-f0ccf5a2c9c7"
      },
      "outputs": [],
      "source": [
        "acoes = ['PETR4.SA', 'POMO4.SA', 'CMIG4.SA']\n",
        "dados = yf.download(acoes, '2015-01-01', '2023-01-01', '1d')['Adj Close']"
      ]
    },
    {
      "attachments": {},
      "cell_type": "markdown",
      "metadata": {},
      "source": [
        "## Normalização dos dados"
      ]
    },
    {
      "attachments": {},
      "cell_type": "markdown",
      "metadata": {},
      "source": [
        "Para que a comparação entre os dados seja feita de forma mais direta, é importante convertê-los para a mesma ordem de grandeza."
      ]
    },
    {
      "cell_type": "code",
      "execution_count": null,
      "metadata": {
        "colab": {
          "base_uri": "https://localhost:8080/",
          "height": 455
        },
        "id": "rn5-bDEVOtkD",
        "outputId": "e7bb7129-f5a9-4af0-ef16-ad2d7229b3d9"
      },
      "outputs": [],
      "source": [
        "dados = dados * 100 / dados.iloc[0]"
      ]
    },
    {
      "attachments": {},
      "cell_type": "markdown",
      "metadata": {},
      "source": [
        "## Visualização da Evolução das Ações\n",
        "\n",
        "Os dados podem ser visualizados tanto em tabela como em gráfico."
      ]
    },
    {
      "cell_type": "code",
      "execution_count": null,
      "metadata": {
        "colab": {
          "base_uri": "https://localhost:8080/",
          "height": 451
        },
        "id": "r3_vdsTnLLmu",
        "outputId": "ff2c2309-f1b7-43c6-9080-dc3d40969c89"
      },
      "outputs": [],
      "source": [
        "display(dados)\n",
        "dados.plot(figsize=(15,5));"
      ]
    },
    {
      "attachments": {},
      "cell_type": "markdown",
      "metadata": {},
      "source": [
        "## Cômputo da Correlação Entre os Dados\n",
        "\n",
        "A fim de detectar como se deu a variação conjunta dos ativos, calculamos a correlação entre os dados."
      ]
    },
    {
      "cell_type": "code",
      "execution_count": null,
      "metadata": {
        "id": "pjcR5BVKLPRG"
      },
      "outputs": [],
      "source": [
        "mudanca_dados = dados.pct_change()          # variações\n",
        "mudanca_dados = mudanca_dados.fillna(0)     # sem dados => variação 0\n",
        "\n",
        "mudanca_dados.corr()"
      ]
    },
    {
      "attachments": {},
      "cell_type": "markdown",
      "metadata": {},
      "source": [
        "## Cômputo da Volatilidade e Retorno dos Ativos Individuais\n",
        "\n",
        "Podemos calcular agora o retorno e a volatilidade de cada ativo."
      ]
    },
    {
      "cell_type": "code",
      "execution_count": null,
      "metadata": {},
      "outputs": [],
      "source": [
        "retorno_acumulado = (dados.iloc[dados.count()[0] - 1] / dados.iloc[0]) - 1\n",
        "print(\"Retorno acumulado:\\n\", retorno_acumulado, sep='')"
      ]
    },
    {
      "cell_type": "code",
      "execution_count": null,
      "metadata": {},
      "outputs": [],
      "source": [
        "retorno_anualizado = ((dados.iloc[-1] / dados.iloc[0]) ** (1/5)) - 1\n",
        "print(\"Retorno anualizado:\\n\", retorno_anualizado, sep='')"
      ]
    },
    {
      "cell_type": "code",
      "execution_count": null,
      "metadata": {},
      "outputs": [],
      "source": [
        "volatilidade_anualizada = mudanca_dados.std() * np.sqrt(252)\n",
        "print(\"Volatilidade anualizada:\\n\", volatilidade_anualizada, sep='')"
      ]
    },
    {
      "attachments": {},
      "cell_type": "markdown",
      "metadata": {
        "id": "ZDMGvWCp4VjP"
      },
      "source": [
        "## Função Para Calcular de Retorno e Volatilidade em Portifólio\n",
        "\n",
        "Podemos definir uma função que determina o retorno e a volatividade de dado portifólio, conforme os pesos passados por parâmetro."
      ]
    },
    {
      "cell_type": "code",
      "execution_count": null,
      "metadata": {
        "id": "8sSm-Hgx34pz"
      },
      "outputs": [],
      "source": [
        "def calcular_retorno_e_volatilidade(ativos, pesos):\n",
        "    portifolio = ativos.dot(pesos)\n",
        "    mudanca_portifolio = portifolio.pct_change()\n",
        "    mudanca_portifolio = mudanca_portifolio.fillna(0)\n",
        "    retorno = ((portifolio.iloc[-1] / portifolio.iloc[0]) ** (1/5)) - 1\n",
        "    volatilidade = mudanca_portifolio.std() * np.sqrt(252)\n",
        "    return retorno, volatilidade"
      ]
    },
    {
      "attachments": {},
      "cell_type": "markdown",
      "metadata": {},
      "source": [
        "## Portifólio com 2 Ativos\n",
        "\n",
        "Inicialmente, podemos compor um portifólio com os 2 ativos de menor correlação (PETR4 e POMO4)."
      ]
    },
    {
      "cell_type": "code",
      "execution_count": null,
      "metadata": {
        "colab": {
          "base_uri": "https://localhost:8080/"
        },
        "id": "_KFIlPCu4BLT",
        "outputId": "c48936a5-cfe7-4502-9aa1-4ff421577591"
      },
      "outputs": [],
      "source": [
        "pontos = []\n",
        "min_vol_ret = [100, 0]\n",
        "pesos_otimos = [0, 0, 0]\n",
        "\n",
        "for w in range(0, 101, 5):\n",
        "    pesos_aplicados = [0, w/100, 1-w/100]\n",
        "    ret, vol = calcular_retorno_e_volatilidade(dados, pesos_aplicados)\n",
        "    print(f'Aloc: {pesos_aplicados[1]:.2f} x {pesos_aplicados[2]:.2f} Ret:{ret:.3f} Vol:{vol:.3f}') \n",
        "    pontos.append((ret, vol))\n",
        "    if vol < min_vol_ret[0]:\n",
        "        min_vol_ret = [vol, ret]\n",
        "        pesos_otimos = pesos_aplicados[:]"
      ]
    },
    {
      "attachments": {},
      "cell_type": "markdown",
      "metadata": {},
      "source": [
        "É possível determinar a \"composição ideal\" dos ativos, com risco mínimo e rentabilidade correspondente:"
      ]
    },
    {
      "cell_type": "code",
      "execution_count": null,
      "metadata": {
        "colab": {
          "base_uri": "https://localhost:8080/"
        },
        "id": "KYad67qJ9pOV",
        "outputId": "660a302d-684e-45f6-80be-177ab69e6ee0"
      },
      "outputs": [],
      "source": [
        "print(pesos_otimos)\n",
        "print(min_vol_ret)"
      ]
    },
    {
      "attachments": {},
      "cell_type": "markdown",
      "metadata": {},
      "source": [
        "Exibição dos pontos:"
      ]
    },
    {
      "cell_type": "code",
      "execution_count": null,
      "metadata": {
        "colab": {
          "base_uri": "https://localhost:8080/",
          "height": 458
        },
        "id": "9WhWETqc4_WG",
        "outputId": "d0727f88-6667-4ef1-e0a7-1a24919b18b7"
      },
      "outputs": [],
      "source": [
        "lp = np.array(pontos).T\n",
        "\n",
        "plt.scatter(lp[[1][:]],lp[[0][:]]);\n",
        "\n",
        "plt.ylabel(\"Retorno\");\n",
        "plt.xlabel(\"Volatilidade\");\n",
        "\n",
        "plt.scatter(volatilidade_anualizada['POMO4.SA'], retorno_anualizado['POMO4.SA'], color='red');\n",
        "plt.text(volatilidade_anualizada['POMO4.SA'], retorno_anualizado['POMO4.SA'], 'POMO4');\n",
        "\n",
        "plt.scatter(volatilidade_anualizada['PETR4.SA'], retorno_anualizado['PETR4.SA'], color='red');\n",
        "plt.text(volatilidade_anualizada['PETR4.SA'], retorno_anualizado['PETR4.SA'], 'PETR4');\n",
        "\n",
        "plt.scatter(min_vol_ret[0], min_vol_ret[1], color='green');\n",
        "plt.text(min_vol_ret[0], min_vol_ret[1], 'Min. Vol.');"
      ]
    },
    {
      "attachments": {},
      "cell_type": "markdown",
      "metadata": {},
      "source": [
        "Com a composição do portifólio, usamos os \"pesos ótimos\" (de menor volatilidade) para calcularmos o retorno e a volatilidade."
      ]
    },
    {
      "cell_type": "code",
      "execution_count": null,
      "metadata": {
        "id": "ZDgTHN1PoXxh"
      },
      "outputs": [],
      "source": [
        "dados['PORT1'] = dados.dot(pesos_otimos)\n",
        "\n",
        "mudanca_dados = dados.pct_change()\n",
        "mudanca_dados = mudanca_dados.fillna(0)"
      ]
    },
    {
      "cell_type": "code",
      "execution_count": null,
      "metadata": {
        "colab": {
          "base_uri": "https://localhost:8080/"
        },
        "id": "hGRyOktJpWot",
        "outputId": "62b25b61-2105-44be-aff0-1746b585cb8f"
      },
      "outputs": [],
      "source": [
        "retorno_anualizado = ((dados.iloc[-1] / dados.iloc[0]) ** (1/5)) - 1\n",
        "print(\"Retorno anualizado:\\n\", retorno_anualizado, sep='')"
      ]
    },
    {
      "cell_type": "code",
      "execution_count": null,
      "metadata": {},
      "outputs": [],
      "source": [
        "volatilidade_anualizada = mudanca_dados.std() * np.sqrt(252)\n",
        "print(\"Volatilidade anualizada:\\n\", volatilidade_anualizada, sep='')"
      ]
    },
    {
      "attachments": {},
      "cell_type": "markdown",
      "metadata": {},
      "source": [
        "É possível também determinar o Drawdown, o qual pode ser visualizado por tabela ou gráfico:"
      ]
    },
    {
      "cell_type": "code",
      "execution_count": null,
      "metadata": {
        "colab": {
          "base_uri": "https://localhost:8080/"
        },
        "id": "-V1F1HvLp8RK",
        "outputId": "5e4fdf1f-5a9e-49bd-e295-643cc13cf241"
      },
      "outputs": [],
      "source": [
        "draw_down = pd.DataFrame()\n",
        "\n",
        "for ativo in dados.columns:\n",
        "    linha = []\n",
        "    for i in range(dados.count()[0]):\n",
        "        linha.append((dados[ativo].iloc[i] / dados[ativo].iloc[:i+1].max() - 1) * 100)\n",
        "    draw_down[ativo] = linha\n",
        "\n",
        "draw_down['Data'] = dados.index.values\n",
        "draw_down.set_index(keys='Data', inplace=True)\n",
        "\n",
        "print(draw_down[['PETR4.SA', 'POMO4.SA', 'PORT1']].min())\n",
        "display(draw_down[['PETR4.SA', 'POMO4.SA', 'PORT1']])\n",
        "draw_down[['PETR4.SA', 'POMO4.SA', 'PORT1']].plot(figsize=(15,5));"
      ]
    },
    {
      "attachments": {},
      "cell_type": "markdown",
      "metadata": {},
      "source": [
        "## Portifólio com 3 Ativos\n",
        "\n",
        "Retiramos a coluna do portifólio recém montado de maneira temporária do dataframe dos dados para facilitar a multiplicação pelos pesos (questão de ordem matricial)."
      ]
    },
    {
      "cell_type": "code",
      "execution_count": null,
      "metadata": {
        "colab": {
          "base_uri": "https://localhost:8080/",
          "height": 328
        },
        "id": "VtCQw-8Oq0ip",
        "outputId": "5b69f145-4b8e-4640-cf2d-611ccbad376b"
      },
      "outputs": [],
      "source": [
        "dados = dados.drop(['PORT1'], axis=1)\n",
        "mudanca_dados = mudanca_dados.drop(['PORT1'], axis=1)"
      ]
    },
    {
      "attachments": {},
      "cell_type": "markdown",
      "metadata": {},
      "source": [
        "Para o novo portifólio, serão considerados os 3 ativos: CMIG4, PETR4 e POMO4:"
      ]
    },
    {
      "cell_type": "code",
      "execution_count": null,
      "metadata": {
        "colab": {
          "base_uri": "https://localhost:8080/"
        },
        "id": "Ku8JKu0C-N3H",
        "outputId": "17a042e3-f59d-4d54-e90f-64bfa54f5dd4"
      },
      "outputs": [],
      "source": [
        "pontos = []\n",
        "min_vol_ret = [100, 0]\n",
        "pesos_otimos = [0, 0, 0]\n",
        "for w1 in range(0, 101, 5):\n",
        "    for w2 in range(0, 101 - w1, 5):\n",
        "        pesos_aplicados = [w1/100, w2/100, 1 - w1/100 - w2/100]\n",
        "        ret, vol = calcular_retorno_e_volatilidade(dados, pesos_aplicados)\n",
        "        print(f'Aloc:{pesos_aplicados[0]:.2f} x {pesos_aplicados[1]:.2f} {pesos_aplicados[2]:.2f} Ret:{ret:.3f} Vol:{vol:.3f}')\n",
        "        pontos.append((ret, vol))\n",
        "        if vol < min_vol_ret[0]:\n",
        "            min_vol_ret = [vol, ret]\n",
        "            pesos_otimos = pesos_aplicados[:]"
      ]
    },
    {
      "attachments": {},
      "cell_type": "markdown",
      "metadata": {},
      "source": [
        "Composição ideal dos ativos, com risco mínimo e rentabilidade correspondente:"
      ]
    },
    {
      "cell_type": "code",
      "execution_count": null,
      "metadata": {
        "colab": {
          "base_uri": "https://localhost:8080/"
        },
        "id": "RcLxiHlcBzKk",
        "outputId": "6fc6658d-05eb-4a76-f494-ab1fe869ea53"
      },
      "outputs": [],
      "source": [
        "print(pesos_otimos)\n",
        "print(min_vol_ret)"
      ]
    },
    {
      "attachments": {},
      "cell_type": "markdown",
      "metadata": {},
      "source": [
        "Exibição dos pontos:"
      ]
    },
    {
      "cell_type": "code",
      "execution_count": null,
      "metadata": {
        "colab": {
          "base_uri": "https://localhost:8080/",
          "height": 458
        },
        "id": "VGmdZ-Om_cUJ",
        "outputId": "4413939b-bf2d-4bfd-c445-7256a05daacd"
      },
      "outputs": [],
      "source": [
        "lp = np.array(pontos).T\n",
        "plt.scatter(lp[[1][:]],lp[[0][:]]);\n",
        "\n",
        "plt.ylabel(\"Retorno\");\n",
        "plt.xlabel(\"Volatilidade\");\n",
        "\n",
        "plt.scatter(volatilidade_anualizada['CMIG4.SA'], retorno_anualizado['CMIG4.SA'], color='red');\n",
        "plt.text(volatilidade_anualizada['CMIG4.SA'], retorno_anualizado['CMIG4.SA'], 'CMIG4');\n",
        "\n",
        "plt.scatter(volatilidade_anualizada['PETR4.SA'], retorno_anualizado['PETR4.SA'], color='red');\n",
        "plt.text(volatilidade_anualizada['PETR4.SA'], retorno_anualizado['PETR4.SA'], 'PETR4');\n",
        "\n",
        "plt.scatter(volatilidade_anualizada['POMO4.SA'], retorno_anualizado['POMO4.SA'], color='red');\n",
        "plt.text(volatilidade_anualizada['POMO4.SA'], retorno_anualizado['POMO4.SA'], 'POMO4');\n",
        "\n",
        "plt.scatter(min_vol_ret[0], min_vol_ret[1], color='green');\n",
        "plt.text(min_vol_ret[0], min_vol_ret[1], 'Min. Vol.');"
      ]
    },
    {
      "attachments": {},
      "cell_type": "markdown",
      "metadata": {},
      "source": [
        "Com essa outra composição do portifólio, usando os novos pesos de menor volatilidade, calculamos novamente o retorno e a rentabilidade:"
      ]
    },
    {
      "cell_type": "code",
      "execution_count": null,
      "metadata": {
        "id": "44aljWCsrhbr"
      },
      "outputs": [],
      "source": [
        "dados['PORT1'] = dados.dot(pesos_otimos)\n",
        "\n",
        "mudanca_dados = (dados - dados.shift(1)) / dados.shift(1)\n",
        "mudanca_dados = mudanca_dados.fillna(0)"
      ]
    },
    {
      "cell_type": "code",
      "execution_count": null,
      "metadata": {
        "colab": {
          "base_uri": "https://localhost:8080/"
        },
        "id": "2B4XuSmRrjxZ",
        "outputId": "9b5a011e-d890-4180-e967-9160ef476d76"
      },
      "outputs": [],
      "source": [
        "retorno_anualizado = ((dados.iloc[-1] / dados.iloc[0]) ** (1/5)) - 1\n",
        "print(\"Retorno anualizado:\\n\", retorno_anualizado, sep='')"
      ]
    },
    {
      "cell_type": "code",
      "execution_count": null,
      "metadata": {},
      "outputs": [],
      "source": [
        "volatilidade_anualizada = mudanca_dados.std() * np.sqrt(252)\n",
        "print(\"Volatilidade anualizada:\\n\", volatilidade_anualizada, sep='')"
      ]
    },
    {
      "attachments": {},
      "cell_type": "markdown",
      "metadata": {},
      "source": [
        "Cálculo do drawdown:"
      ]
    },
    {
      "cell_type": "code",
      "execution_count": null,
      "metadata": {
        "colab": {
          "base_uri": "https://localhost:8080/"
        },
        "id": "xXVyCkaYr0H6",
        "outputId": "31a893b1-9609-49d7-da8c-c8c4f8073f35"
      },
      "outputs": [],
      "source": [
        "draw_down = pd.DataFrame()\n",
        "\n",
        "for ativo in dados.columns:\n",
        "    linha = []\n",
        "    for i in range(dados.count()[0]):\n",
        "        linha.append((dados[ativo].iloc[i] / dados[ativo].iloc[:i+1].max() - 1) * 100)\n",
        "    draw_down[ativo] = linha\n",
        "\n",
        "draw_down['Data'] = dados.index.values\n",
        "draw_down.set_index(keys='Data', inplace=True)\n",
        "\n",
        "print(draw_down.min())\n",
        "display(draw_down)\n",
        "draw_down.plot(figsize=(15,5));"
      ]
    }
  ],
  "metadata": {
    "colab": {
      "provenance": []
    },
    "kernelspec": {
      "display_name": "Python 3",
      "name": "python3"
    },
    "language_info": {
      "codemirror_mode": {
        "name": "ipython",
        "version": 3
      },
      "file_extension": ".py",
      "mimetype": "text/x-python",
      "name": "python",
      "nbconvert_exporter": "python",
      "pygments_lexer": "ipython3",
      "version": "3.8.10"
    }
  },
  "nbformat": 4,
  "nbformat_minor": 0
}
