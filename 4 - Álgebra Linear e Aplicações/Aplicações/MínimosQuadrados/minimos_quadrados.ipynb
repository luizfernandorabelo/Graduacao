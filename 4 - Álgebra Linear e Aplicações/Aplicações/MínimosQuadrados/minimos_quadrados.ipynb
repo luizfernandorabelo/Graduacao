{
 "cells": [
  {
   "attachments": {},
   "cell_type": "markdown",
   "metadata": {},
   "source": [
    "\\* Notebook adaptado do material do professor Luis Gustavo Nonato\n",
    "\n",
    "# Mínimos Quadrados"
   ]
  },
  {
   "attachments": {},
   "cell_type": "markdown",
   "metadata": {},
   "source": [
    "## Aproximação de Funções\n",
    "\n",
    "Suponha que um conjunto de amostras $(t_i, f(t_i))$, $i=1,\\ldots,n$ seja fornecido. Tais amostras podem ser, por exemplo, medidas de temperatura $f(t_i)$ no instante $t_i$. A função $f$ não é conhecida, o que temos são apenas valores da função em alguns pontos específicos."
   ]
  },
  {
   "cell_type": "code",
   "execution_count": null,
   "metadata": {},
   "outputs": [],
   "source": [
    "import numpy as np\n",
    "import matplotlib.pyplot as plt\n",
    "\n",
    "# Definição dos valores de \"t_i\" arbitrários:\n",
    "X = np.random.uniform(-1, 1, size=(2, 100))\n",
    "\n",
    "# Geraçção dos valores de \"f(t_i)\":\n",
    "X[1,:] = 1 + 2 * X[0,:] + np.random.uniform(-0.5, 0.5, 100)\n",
    "\n",
    "# Configuração de parâmetros de plot:\n",
    "plt.figure(figsize=(8, 7))\n",
    "plt.plot([-3, 3], [0, 0], color='k')\n",
    "plt.plot([0, 0], [-2, 3], color='k')\n",
    "\n",
    "# Plotagem dos pontos:\n",
    "plt.scatter(X[0,:], X[1,:], color='k')\n",
    "plt.show()"
   ]
  },
  {
   "attachments": {},
   "cell_type": "markdown",
   "metadata": {},
   "source": [
    "Se quisessemos fazer uma previsão da temperatura em algum instante de tempo onde a medição não foi realizada, precisariamos conhecer, ou pelo menos aproximar a função $f$ de alguma forma. Analisando o plot, vemos que a temperatura varia de forma proximadamente linear. Portanto, podemos supor que a função temperatura seria linear, ou seja:\n",
    "\n",
    "$$\n",
    "f(t) = a_1 + a_2t\n",
    "$$\n",
    "\n",
    "A questão é como encontrar os valores de $a_1$ e $a_2$. Buscamos encontrar tais valores de modo a:\n",
    "\n",
    "$$\n",
    "\\begin{matrix}\n",
    "a_1 + a_2t_1 \\approx f(t_1)\\\\\n",
    "a_1 + a_2t_2 \\approx f(t_2)\\\\\n",
    "\\vdots \\\\\n",
    "a_1 + a_2t_n \\approx f(t_n)\\\\\n",
    "\\end{matrix}\n",
    "$$\n",
    "\n",
    "Podemos escrever na forma matricial como:\n",
    "$$\n",
    "\\begin{bmatrix}\n",
    "1 & t_1 \\\\\n",
    "1 & t_2 \\\\\n",
    "\\vdots & \\vdots \\\\\n",
    "1 & t_n \\\\\n",
    "\\end{bmatrix}\n",
    "\\begin{bmatrix}\n",
    "a_1 \\\\ a_2\n",
    "\\end{bmatrix}\\approx\n",
    "\\begin{bmatrix}\n",
    "f(t_1)\\\\\n",
    "f(t_2)\\\\\n",
    "\\vdots \\\\\n",
    "f(t_n)\n",
    "\\end{bmatrix}\\rightarrow\n",
    "\\mathbf{A}\\mathbf{\\alpha}=\\mathbf{f}\n",
    "$$\n",
    "\n",
    "Podemos interpretar as colunas da matriz como sendo vetores em $\\mathbb{R}^n$, assim como o vetor da direita. Logo, o que temos é um espaço de dimensão 2 em $\\mathbb{R}^n$ gerado pelas colunas da matriz $A$ e um ponto $\\mathbb{R}^n$ dado pelo vetor $f$. Desta forma, podemos encontrar valores $a_1$ e $a_2$ resolvendo a equação nomal associada ao sistema  acima, ou seja,\n",
    "\n",
    "$$\n",
    "A^\\top A\\alpha=A^\\top f\n",
    "$$"
   ]
  },
  {
   "cell_type": "code",
   "execution_count": null,
   "metadata": {},
   "outputs": [],
   "source": [
    "import numpy as np\n",
    "import matplotlib.pyplot as plt\n",
    "\n",
    "# Geração dos valores de \"t_i\" arbitrários:\n",
    "X = np.random.uniform(-1, 1, size=(2, 100))\n",
    "\n",
    "# Geraçção dos valores de \"f(t_i)\":\n",
    "X[1,:] = 1 + 2 * X[0,:] + np.random.uniform(-0.5, 0.5, 100)\n",
    "\n",
    "# Plotagem dos pontos:\n",
    "plt.figure(figsize=(8,7))\n",
    "plt.plot([-3,3],[0,0],color='k')\n",
    "plt.plot([0,0],[-2,3],color='k')\n",
    "plt.scatter(X[0,:],X[1,:],color='k')\n",
    "\n",
    "# Construção da matriz A:\n",
    "A = np.ones((X.shape[1], 2))\n",
    "A[:,1] = X[0,:]\n",
    "\n",
    "# Cálculo dos valores dos alphas:\n",
    "AtA = np.dot(A.T, A)\n",
    "Atb = np.dot(A.T, X[1,:])\n",
    "alpha = np.linalg.solve(AtA, Atb)\n",
    "\n",
    "# Criação de função lâmbda com os alphas encontrados:\n",
    "p = lambda x: alpha[0] + alpha[1] * x\n",
    "\n",
    "# Avaliação dos pontos estimados:\n",
    "x = np.linspace(-1, 1, 100)\n",
    "y = p(x)\n",
    "\n",
    "# Plotagem da função aproximada:\n",
    "plt.plot(x,y,color='blue')\n",
    "plt.show()"
   ]
  },
  {
   "attachments": {},
   "cell_type": "markdown",
   "metadata": {},
   "source": [
    "O erro de aproximação, chamado **erro médio quadrático**, é medido por meio da equação:\n",
    "\n",
    "$$\n",
    "Erro = \\frac{1}{n}\\|A\\alpha - f\\|^2\n",
    "$$ \n",
    "\n",
    "O $\\alpha$ obtido pelo método de mínimos quadrados gera o menor erro médio quadrático dentre todos os possíveis vetores $\\alpha$."
   ]
  },
  {
   "cell_type": "code",
   "execution_count": null,
   "metadata": {},
   "outputs": [],
   "source": [
    "# Cálculo do erro médio quadrático:\n",
    "y = p(X[0,:])\n",
    "erro = np.linalg.norm(y - X[1,:]) ** 2 / X.shape[1]\n",
    "\n",
    "print('O erro de aproximação é:', erro)"
   ]
  },
  {
   "attachments": {},
   "cell_type": "markdown",
   "metadata": {},
   "source": [
    "O método acima também pode ser utilizado para aproximar função que não são lineares. Por exemplo, considere o conjunto de pontos armazenados no arquivo `covidcasosacumulados.txt`. Este aquivo contém o número de casos acumulados de Covid-19, com os 499 registros diários (coletados de 26/02/2020 até 06/07/2021) armazenados nas linhas do arquivo."
   ]
  },
  {
   "cell_type": "code",
   "execution_count": null,
   "metadata": {},
   "outputs": [],
   "source": [
    "import numpy as np\n",
    "import matplotlib.pyplot as plt\n",
    "\n",
    "# Inicialização da matriz X:\n",
    "X = np.zeros((499, 2))\n",
    "\n",
    "# Definição dos dias:\n",
    "X[:,0] = np.linspace(1, 499, num=499, endpoint=True)\n",
    "\n",
    "# Carregamentos casos do arquivo:\n",
    "X[:,1] = np.loadtxt('covidcasosacumulados.txt')\n",
    "\n",
    "# Plotagem dos pontos:\n",
    "plt.figure(figsize=(8,6))\n",
    "plt.scatter(X[:,0], X[:,1], label='Casos acumulados de Covid-19 no Brasil', color='k')\n",
    "plt.xlabel('Dias')\n",
    "plt.ylabel('Casos Acumulados')\n",
    "plt.legend()\n",
    "plt.show()"
   ]
  },
  {
   "attachments": {},
   "cell_type": "markdown",
   "metadata": {},
   "source": [
    "O comportamento do número de casos não é linear, mas pode ser modelado por uma função quadrática ou cúbica. Vamos supor uma aproximação por um polinômio cúbico da forma $y=a_0+a_1t+a_2t^2+a_3t^3$, assim buscamos:\n",
    "\n",
    "$$\n",
    "\\begin{matrix}\n",
    "a_0 + a_1t_1 + a_2t_1^2 + a_3t_1^3  \\approx f(t_1)\\\\\n",
    "a_0 + a_1t_2 + a_2t_2^2 + a_3t_2^3  \\approx f(t_2)\\\\\n",
    "\\vdots \\\\\n",
    "a_0 + a_1t_n + a_2t_n^2 + a_3t_n^3  \\approx f(t_n)\\\\\n",
    "\\end{matrix}\n",
    "$$\n",
    "\n",
    "Na forma matricial, as equações acima são escritas como:\n",
    "\n",
    "$$\n",
    "\\begin{bmatrix}\n",
    "1 & t_1 & t_1^2 & t_1^3\\\\\n",
    "1 & t_2 & t_2^2 & t_2^3\\\\\n",
    "\\vdots & \\vdots \\\\\n",
    "1 & t_n & t_n^2 & t_n^3\\\\\n",
    "\\end{bmatrix}\n",
    "\\begin{bmatrix}\n",
    "a_0 \\\\ a_1 \\\\ a_2 \\\\ a_3\n",
    "\\end{bmatrix}\\approx\n",
    "\\begin{bmatrix}\n",
    "f(t_1)\\\\\n",
    "f(t_2)\\\\\n",
    "\\vdots \\\\\n",
    "f(t_n)\n",
    "\\end{bmatrix}\\rightarrow\n",
    "\n",
    "A\\alpha=f\n",
    "$$"
   ]
  },
  {
   "cell_type": "code",
   "execution_count": null,
   "metadata": {},
   "outputs": [],
   "source": [
    "# Definição de função para cálculo dos alphas:\n",
    "def calcular_alpha(x, y, n):\n",
    "    A = np.vander(x, n + 1, increasing=True) \n",
    "    AtA = np.dot(A.T, A)\n",
    "    Atb = np.dot(A.T, y)\n",
    "    alpha = np.linalg.solve(AtA, Atb)\n",
    "    return alpha\n",
    "\n",
    "# Cálculo dos alphas:\n",
    "alpha = calcular_alpha(X[:,0], X[:,1], 3)\n",
    "\n",
    "# Criação de função lâmbda com os alphas encontrados:\n",
    "p = lambda x: alpha[0] + alpha[1] * x + alpha[2] * x**2 + alpha[3] * x**3\n",
    "\n",
    "# Avaliação dos pontos estimados:\n",
    "x = np.linspace(np.min(X[:,0]), np.max(X[:,0]), 100)\n",
    "y = p(x)\n",
    "\n",
    "# Plotagem dos pontos:\n",
    "plt.figure(figsize=(8,6))\n",
    "plt.scatter(X[:,0], X[:,1], label='Casos acumulados de Covid-19 no Brasil', color='k', alpha=0.6)\n",
    "plt.plot(x, y, label='Curva de grau 3 que mais se aproxima os dados', color='red', linewidth=3)\n",
    "plt.xlabel('Dias')\n",
    "plt.ylabel('Casos Acumulados')\n",
    "plt.legend()\n",
    "plt.show()"
   ]
  },
  {
   "cell_type": "code",
   "execution_count": null,
   "metadata": {},
   "outputs": [],
   "source": [
    "# Cálculo do erro médio quadrático:\n",
    "y = p(X[:,0])\n",
    "erro = np.linalg.norm(y - X[:,1]) ** 2 / X.shape[0]\n",
    "print('O erro de aproximação é:', erro)\n",
    "\n",
    "# Visualização dos pontos que mais se aproximam / distam da curva aproximada:\n",
    "plt.figure(figsize=(8,6))\n",
    "plt.scatter(X[:,0],X[:,1], label='Casos acumulados de Covid-19 no Brasil', c=np.abs(y - X[:,1]), cmap='plasma')\n",
    "plt.plot(X[:,0],y, label='Curva de grau 3 que mais se aproxima os dados', color='red', linewidth=3)\n",
    "plt.xlabel('Dias')\n",
    "plt.ylabel('Casos Acumulados')\n",
    "plt.legend()\n",
    "plt.show()"
   ]
  }
 ],
 "metadata": {
  "kernelspec": {
   "display_name": "Python 3",
   "language": "python",
   "name": "python3"
  },
  "language_info": {
   "codemirror_mode": {
    "name": "ipython",
    "version": 3
   },
   "file_extension": ".py",
   "mimetype": "text/x-python",
   "name": "python",
   "nbconvert_exporter": "python",
   "pygments_lexer": "ipython3",
   "version": "3.8.10"
  },
  "orig_nbformat": 4,
  "vscode": {
   "interpreter": {
    "hash": "916dbcbb3f70747c44a77c7bcd40155683ae19c65e1c03b4aa3499c5328201f1"
   }
  }
 },
 "nbformat": 4,
 "nbformat_minor": 2
}
