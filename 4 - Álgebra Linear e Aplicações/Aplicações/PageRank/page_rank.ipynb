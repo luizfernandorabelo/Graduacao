{
 "cells": [
  {
   "attachments": {},
   "cell_type": "markdown",
   "metadata": {},
   "source": [
    "\\* Notebook adaptado do material da professora Cynthia de Oliveira Lage\n",
    "\n",
    "# Google Page Rank - Versão Simplificada\n",
    "\n",
    "Páginas da Web podem ser representadas como um grafo direcionado. A visão probabilística (estocástica) do PageRank determina a probabilidade de uma página web ser visitada em certo instante de tempo durante um passeio aleatório.\n",
    "\n",
    "- Uma página é importante se páginas importantes têm link para ela;\n",
    "- Eleição: um link de $A \\rightarrow B$ é um voto de $A$ para $B$.\n",
    "\n",
    "![](./grafo.png)\n",
    "\n",
    "Dispondo as quantidades de links _saindo_ de uma página para as demais em _colunas_, temos a seguinte matriz:\n",
    "\n",
    "$$\n",
    "P =\n",
    "\\begin{bmatrix}\n",
    "0 & 0 & 1 & 0 & 0 & 0 \\\\\n",
    "1 & 0 & 1 & 0 & 0 & 0 \\\\\n",
    "1 & 0 & 0 & 0 & 0 & 0 \\\\\n",
    "0 & 0 & 0 & 0 & 1 & 1 \\\\\n",
    "0 & 0 & 1 & 1 & 0 & 0 \\\\\n",
    "0 & 0 & 0 & 1 & 1 & 0 \\\\\n",
    "\\end{bmatrix}\n",
    "$$\n",
    "\n",
    "Transformando a matriz em uma matriz estocástica:\n",
    "\n",
    "$$\n",
    "P' =\n",
    "\\begin{bmatrix}\n",
    "0           & 0 & \\frac{1}{3} & 0           & 0           & 0 \\\\\n",
    "\\frac{1}{2} & 0 & \\frac{1}{3} & 0           & 0           & 0 \\\\\n",
    "\\frac{1}{2} & 0 & 0           & 0           & 0           & 0 \\\\\n",
    "0           & 0 & 0           & 0           & \\frac{1}{2} & 1 \\\\\n",
    "0           & 0 & \\frac{1}{3} & \\frac{1}{2} & 0           & 0 \\\\\n",
    "0           & 0 & 0           & \\frac{1}{2} & \\frac{1}{2} & 0 \\\\\n",
    "\\end{bmatrix}\n",
    "$$\n",
    "\n",
    "A fim de impedir o bloqueio em páginas \"sem saída\", preenchemos seus valores com uma probabilidade de transição uniforme para as demais páginas:\n",
    "\n",
    "$$\n",
    "P'' =\n",
    "\\begin{bmatrix}\n",
    "0           & \\frac{1}{6} & \\frac{1}{3} & 0           & 0           & 0 \\\\\n",
    "\\frac{1}{2} & \\frac{1}{6} & \\frac{1}{3} & 0           & 0           & 0 \\\\\n",
    "\\frac{1}{2} & \\frac{1}{6} & 0           & 0           & 0           & 0 \\\\\n",
    "0           & \\frac{1}{6} & 0           & 0           & \\frac{1}{2} & 1 \\\\\n",
    "0           & \\frac{1}{6} & \\frac{1}{3} & \\frac{1}{2} & 0           & 0 \\\\\n",
    "0           & \\frac{1}{6} & 0           & \\frac{1}{2} & \\frac{1}{2} & 0 \\\\\n",
    "\\end{bmatrix}\n",
    "$$\n",
    "\n",
    "Por fim, para impedir a formação de ciclos infinitos, somamos uma nova matriz, tornando o grafo irredutível:\n",
    "\n",
    "$$\n",
    "G =\n",
    "\\alpha\n",
    "\\begin{bmatrix}\n",
    "0           & \\frac{1}{6} & \\frac{1}{3} & 0           & 0           & 0 \\\\\n",
    "\\frac{1}{2} & \\frac{1}{6} & \\frac{1}{3} & 0           & 0           & 0 \\\\\n",
    "\\frac{1}{2} & \\frac{1}{6} & 0           & 0           & 0           & 0 \\\\\n",
    "0           & \\frac{1}{6} & 0           & 0           & \\frac{1}{2} & 1 \\\\\n",
    "0           & \\frac{1}{6} & \\frac{1}{3} & \\frac{1}{2} & 0           & 0 \\\\\n",
    "0           & \\frac{1}{6} & 0           & \\frac{1}{2} & \\frac{1}{2} & 0 \\\\\n",
    "\\end{bmatrix}\n",
    "+\n",
    "(1 - \\alpha)\n",
    "\\begin{bmatrix}\n",
    "\\frac{1}{6} & \\frac{1}{6} & \\frac{1}{6} & \\frac{1}{6} & \\frac{1}{6} & \\frac{1}{6} \\\\\n",
    "\\frac{1}{6} & \\frac{1}{6} & \\frac{1}{6} & \\frac{1}{6} & \\frac{1}{6} & \\frac{1}{6} \\\\\n",
    "\\frac{1}{6} & \\frac{1}{6} & \\frac{1}{6} & \\frac{1}{6} & \\frac{1}{6} & \\frac{1}{6} \\\\\n",
    "\\frac{1}{6} & \\frac{1}{6} & \\frac{1}{6} & \\frac{1}{6} & \\frac{1}{6} & \\frac{1}{6} \\\\\n",
    "\\frac{1}{6} & \\frac{1}{6} & \\frac{1}{6} & \\frac{1}{6} & \\frac{1}{6} & \\frac{1}{6} \\\\\n",
    "\\frac{1}{6} & \\frac{1}{6} & \\frac{1}{6} & \\frac{1}{6} & \\frac{1}{6} & \\frac{1}{6} \\\\\n",
    "\\end{bmatrix}\n",
    "$$\n",
    "\n",
    "Originalmente, o valor escolhido para o peso $\\alpha$ foi $0.85$."
   ]
  },
  {
   "cell_type": "code",
   "execution_count": null,
   "metadata": {},
   "outputs": [],
   "source": [
    "import numpy as np\n",
    "\n",
    "# Criação da matriz de transição:\n",
    "P = np.array([\n",
    "    [0,   1/6, 1/3, 0,   0,   0],\n",
    "    [1/2, 1/6, 1/3, 0,   0,   0],\n",
    "    [1/2, 1/6, 0,   0,   0,   0],\n",
    "    [0,   1/6, 0,   0,   1/2, 1],\n",
    "    [0,   1/6, 1/3, 1/2, 0,   0],\n",
    "    [0,   1/6, 0,   1/2, 1/2, 0]\n",
    "])\n",
    "\n",
    "# Criação da matriz Google:\n",
    "alpha = 0.85\n",
    "G = alpha * P + (1 - alpha) * np.ones(P.shape) / P.shape[0]"
   ]
  },
  {
   "cell_type": "code",
   "execution_count": null,
   "metadata": {},
   "outputs": [],
   "source": [
    "''' \n",
    "    Estamos interessados em Px = 1x (vetor estacionário). Em\n",
    "    outras palavras, qual é o autoveto associado ao autovalor 1?\n",
    "'''\n",
    "\n",
    "# Cálculo dos autovetores e autovalores:\n",
    "autovalores, autovetores = np.linalg.eig(G)\n",
    "\n",
    "print(autovalores)  # 1 sempre existirá (Teorema de Perron-Frobenius)"
   ]
  },
  {
   "cell_type": "code",
   "execution_count": null,
   "metadata": {},
   "outputs": [],
   "source": [
    "# Determinação do autovetor associado ao autovalor 1:\n",
    "indice_autovetor_1 = np.argsort(autovalores)[-1]\n",
    "auto_vetor_1 = autovetores[:,indice_autovetor_1]\n",
    "\n",
    "print(auto_vetor_1)"
   ]
  },
  {
   "cell_type": "code",
   "execution_count": null,
   "metadata": {},
   "outputs": [],
   "source": [
    "# Determinação do vetor estacionário estocástico:\n",
    "vetor_estacionario = auto_vetor_1 / np.sum(auto_vetor_1)\n",
    "\n",
    "print(vetor_estacionario)"
   ]
  },
  {
   "cell_type": "code",
   "execution_count": null,
   "metadata": {},
   "outputs": [],
   "source": [
    "# Cálculo da ordem de importância das páginas:\n",
    "ordem_importancia_piores = np.argsort(vetor_estacionario) + 1  # 1-based\n",
    "ordem_importancia_melhores = ordem_importancia_piores[::-1]\n",
    "\n",
    "print('Ordem:', ordem_importancia_melhores)\n",
    "print('Importâncias:', vetor_estacionario[ordem_importancia_melhores-1])"
   ]
  }
 ],
 "metadata": {
  "kernelspec": {
   "display_name": "Python 3",
   "language": "python",
   "name": "python3"
  },
  "language_info": {
   "codemirror_mode": {
    "name": "ipython",
    "version": 3
   },
   "file_extension": ".py",
   "mimetype": "text/x-python",
   "name": "python",
   "nbconvert_exporter": "python",
   "pygments_lexer": "ipython3",
   "version": "3.8.10"
  },
  "orig_nbformat": 4,
  "vscode": {
   "interpreter": {
    "hash": "916dbcbb3f70747c44a77c7bcd40155683ae19c65e1c03b4aa3499c5328201f1"
   }
  }
 },
 "nbformat": 4,
 "nbformat_minor": 2
}
