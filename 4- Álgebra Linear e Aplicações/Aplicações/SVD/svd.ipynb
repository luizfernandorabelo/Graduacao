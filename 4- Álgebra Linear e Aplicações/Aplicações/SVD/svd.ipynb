{
 "cells": [
  {
   "attachments": {},
   "cell_type": "markdown",
   "metadata": {},
   "source": [
    "\\* Notebook adaptado do material do prof. Luis Gustavo Nonato\n",
    "\n",
    "# SVD - Singular Value Decomposition"
   ]
  },
  {
   "attachments": {},
   "cell_type": "markdown",
   "metadata": {},
   "source": [
    "## Dedução Matemática\n",
    "\n",
    "Seja $A$ uma matriz $m \\times n$. A matriz $A^\\top A$ é uma matriz $n \\times n$ simétrica semi-definida positiva.  \n",
    "\n",
    "Desta forma, temos que:\n",
    "\n",
    "$$A^\\top A = V\\Lambda V^\\top \\text{\\quad(teorema espectral)}$$\n",
    "\n",
    "onde as colunas de $V$ são autovetores ortogonais de $A^\\top A$ e $\\Lambda$ é matriz diagonal, em que os elementos diagonais são os autovalores de $A^\\top A$, ou seja, denotando as colunas de $V$ por $v_i$, temos a relação:\n",
    "\n",
    "$$A^\\top A v_i = \\lambda_i v_i$$\n",
    "\n",
    "A matriz $A$ transforma vetores de $\\mathbb{R}^n$ em $\\mathbb{R}^m$, então $\\tilde{u_i} = A v_i$ é um vetor de $\\mathbb{R}^m$. \n",
    "\n",
    "$$\\tilde{u}^\\top_j\\tilde{u_i}=(Av_j)^\\top(Av_i)=v_j^\\top(A^\\top Av_i)=\\lambda_i v_j^\\top v_i$$\n",
    "\n",
    "Desta forma, como os vetores $v_i$ são ortogonais, a equação acima mostra que $\\tilde{u}_i = Av_i$  também formam uma base ortogonal. Em outras palavras, a transformação $A$ mapeia o conjunto de vetores ortogonais $v_1, \\cdots, v_n$ no conjunto de vetores ortogonais $\\tilde{u}_1, \\cdots, \\tilde{u}_n$. Fazendo $u_i=\\frac{1}{\\sqrt{\\lambda_i}}\\tilde{u}_i$, tornamos o conjunto $u_i$ ortonormal.\n",
    "\n",
    "Considere as matrizes:\n",
    "\n",
    "$$\n",
    "U=\\begin{bmatrix}\n",
    "| &  & | \\\\\n",
    "u_1 & \\cdots & u_m\\\\\n",
    "| &  & |\n",
    "\\end{bmatrix}\\quad\n",
    "\\Sigma=\\begin{bmatrix}\n",
    "\\sqrt{\\lambda_1} & 0 & \\cdots & 0 \\\\\n",
    "0 & \\sqrt{\\lambda_2} & & 0\\\\\n",
    " &  & \\ddots & \\\\\n",
    " 0 & 0 & \\cdots & \\sqrt{\\lambda_k}\\\\\n",
    "\\end{bmatrix}\\quad\n",
    "v=\\begin{bmatrix}\n",
    "| &  & | \\\\\n",
    "v_1 & \\cdots & v_n\\\\\n",
    "| &  & | \n",
    "\\end{bmatrix}\n",
    "$$\n",
    "\n",
    "Temos a seguinte relação:\n",
    "\n",
    "$$\n",
    "U{\\Sigma} = A V\\\\\n",
    "\\Downarrow\n",
    "$$\n",
    "\n",
    "$$A = U\\Sigma V^\\top\\quad\\text{(decomposição SVD)}$$\n",
    "\n",
    "Por construção, a decomposição SVD é única.\n",
    "\n",
    "**Em resumo:** na decomposição SVD:\n",
    "\n",
    "1. As colunas de $V$ são autovetores de $A^\\top A$\n",
    "2. As colunas de $U$ são autovetores de $AA^\\top$\n",
    "3. $A^\\top A$ e $AA^\\top$ possuem os mesmos autovalores não nulos $\\Lambda$, sendo $\\Sigma=\\Lambda^\\frac{1}{2}$"
   ]
  },
  {
   "attachments": {},
   "cell_type": "markdown",
   "metadata": {},
   "source": [
    "## Dimensões\n",
    "\n",
    "Na dedução acima negligenciamos as dimensões da matriz $A$. Considerando que $A$ tem posto máximo, temos três casos a considerar:\n",
    "\n",
    "1. $m = n$ (matriz quadrada). Neste caso a dedução acima vale exatamente como foi feita."
   ]
  },
  {
   "cell_type": "code",
   "execution_count": null,
   "metadata": {},
   "outputs": [],
   "source": [
    "import numpy as np\n",
    "\n",
    "m = n = 10\n",
    "A = np.random.uniform(0, 2, (m, n))\n",
    "\n",
    "U, S, Vt = np.linalg.svd(A)\n",
    "\n",
    "print(U.shape)\n",
    "print(S.shape)\n",
    "print(Vt.shape)"
   ]
  },
  {
   "attachments": {},
   "cell_type": "markdown",
   "metadata": {},
   "source": [
    "2. $m > n$. Neste caso, o conjunto $u_i=\\frac{1}{\\sqrt{\\lambda_i}}Av_i$ não é suficiente para gerar $\\mathbb{R}^m$.\n",
    "\n",
    "$$\n",
    "\\left[\n",
    "\\begin{array}{ccc}\n",
    " & & \\\\\n",
    " & A & \\\\ \n",
    "  & & \\\\\n",
    "  & & \\\\\n",
    "  & & \\\\\n",
    "  & & \n",
    "\\end{array}\\right]= \n",
    "\\left[\\begin{array}{ccc|ccc}\n",
    " & & & | & & | \\\\\n",
    " & U & & | & \\cdots & |\\\\ \n",
    " & & & | & & | \\\\\n",
    "  & & & | & & | \\\\\n",
    "   & & & | & & | \\\\\n",
    "    & & & | & & | \n",
    "\\end{array}\\right]\n",
    "\\left[\\begin{array}{ccc}\n",
    " & & \\\\\n",
    " & \\Sigma & \\\\ \n",
    " & & \\\\\\hline\n",
    "0 & &  \\\\\n",
    " & \\ddots &  \\\\\n",
    " & & 0\n",
    "\\end{array}\\right]\n",
    "\\left[\n",
    "\\begin{array}{ccc}\n",
    " & & \\\\\n",
    " & V^\\top & \\\\ \n",
    "  & & \n",
    "\\end{array}\\right]\n",
    "$$"
   ]
  },
  {
   "cell_type": "code",
   "execution_count": null,
   "metadata": {},
   "outputs": [],
   "source": [
    "import numpy as np\n",
    "\n",
    "m = 10\n",
    "n = 7\n",
    "A = np.random.uniform(0, 2, (m,n))\n",
    "\n",
    "U, S, Vt = np.linalg.svd(A)\n",
    "\n",
    "print(U.shape)\n",
    "print(S.shape)\n",
    "print(Vt.shape)"
   ]
  },
  {
   "attachments": {},
   "cell_type": "markdown",
   "metadata": {},
   "source": [
    "3. $m < n$. Neste caso, o número de vetores $v_i$ é maior que o número de vetores $u_i$ necessários para gerar $\\mathbb{R}^m$.\n",
    "\n",
    "$$\n",
    "\\left[\n",
    "\\begin{array}{ccccccc}\n",
    "& & & & & &\\\\\n",
    "& & & \\mathbf{A} & & &\\\\ \n",
    " & & & & &&\n",
    "\\end{array}\\right]= \n",
    "\\left[\\begin{array}{ccc}\n",
    " & & \\\\\n",
    " & \\mathbf{U} & \\\\ \n",
    " & & \n",
    "\\end{array}\\right]\n",
    "\\left[\\begin{array}{ccc|ccc}\n",
    " & & & 0 & &\\\\\n",
    " & \\mathbf{\\Sigma} & & & \\ddots &\\\\ \n",
    " & & & & & 0\n",
    "\\end{array}\\right]\n",
    "\\left[\n",
    "\\begin{array}{ccc}\n",
    " & & \\\\\n",
    " & \\mathbf{V}^\\top & \\\\ \n",
    " & & \\\\\\hline\n",
    " - & - & -\\\\\n",
    " - & - & - \n",
    "\\end{array}\\right]\n",
    "$$\n"
   ]
  },
  {
   "cell_type": "code",
   "execution_count": null,
   "metadata": {},
   "outputs": [],
   "source": [
    "import numpy as np\n",
    "\n",
    "m = 7\n",
    "n = 10\n",
    "A = np.random.uniform(0, 2, (m,n))\n",
    "\n",
    "U, S, Vt = np.linalg.svd(A)\n",
    "\n",
    "print(U.shape)\n",
    "print(S.shape)\n",
    "print(Vt.shape)"
   ]
  },
  {
   "attachments": {},
   "cell_type": "markdown",
   "metadata": {},
   "source": [
    "## Aplicação: Compressão de Imagens"
   ]
  },
  {
   "attachments": {},
   "cell_type": "markdown",
   "metadata": {},
   "source": [
    "Imagens podem ser representadas matematicamente por matrizes de pixeis. Nesse sentido, é possível aplicar o SVD para aproximar essas matrizes até certo nível (rank).\n",
    "\n",
    "A simples aplicação abaixo exibe uma imagem com sua matriz original e diferentes aproximações para a matriz utilizando-se do SVD."
   ]
  },
  {
   "cell_type": "code",
   "execution_count": null,
   "metadata": {},
   "outputs": [],
   "source": [
    "from matplotlib.image import imread\n",
    "import matplotlib.pyplot as plt\n",
    "import numpy as np\n",
    "\n",
    "# Leitura da matriz da imagem em escala de cinza:\n",
    "A = np.mean(imread('dog.png'), -1)\n",
    "\n",
    "# Exibição da imagem:\n",
    "img = plt.imshow(A)\n",
    "img.set_cmap('gray')\n",
    "plt.axis('off')\n",
    "plt.title('Imagem Original')\n",
    "plt.show()\n"
   ]
  },
  {
   "cell_type": "code",
   "execution_count": null,
   "metadata": {},
   "outputs": [],
   "source": [
    "import matplotlib.pyplot as plt\n",
    "import numpy as np\n",
    "\n",
    "# Aplicação do SVD:\n",
    "U, S, Vt = np.linalg.svd(A)\n",
    "S = np.diag(S)\n",
    "\n",
    "# Definição dos diferentes ranks a serem testados:\n",
    "ranks = (5, 20, 100)\n",
    "\n",
    "# Teste com diferentes ranks:\n",
    "j = 0\n",
    "for r in ranks:\n",
    "    A_aproximada = U[:,:r] @ S[0:r,:r] @ Vt[:r,:]\n",
    "    img = plt.imshow(A_aproximada)\n",
    "    img.set_cmap('gray')\n",
    "    plt.axis('off')\n",
    "    plt.title('Imagem aproximada com rank = ' + str(r))\n",
    "    plt.show()\n",
    "    plt.figure(j + 1)\n",
    "    j += 1"
   ]
  }
 ],
 "metadata": {
  "kernelspec": {
   "display_name": "Python 3",
   "language": "python",
   "name": "python3"
  },
  "language_info": {
   "codemirror_mode": {
    "name": "ipython",
    "version": 3
   },
   "file_extension": ".py",
   "mimetype": "text/x-python",
   "name": "python",
   "nbconvert_exporter": "python",
   "pygments_lexer": "ipython3",
   "version": "3.8.10"
  },
  "orig_nbformat": 4,
  "vscode": {
   "interpreter": {
    "hash": "916dbcbb3f70747c44a77c7bcd40155683ae19c65e1c03b4aa3499c5328201f1"
   }
  }
 },
 "nbformat": 4,
 "nbformat_minor": 2
}
