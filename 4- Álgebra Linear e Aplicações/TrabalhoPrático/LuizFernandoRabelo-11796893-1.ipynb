{
  "cells": [
    {
      "attachments": {},
      "cell_type": "markdown",
      "metadata": {
        "id": "B5PZXBjOwnTC"
      },
      "source": [
        "# SME0142 - Álgebra Linear e Aplicações\n",
        "\n",
        "Aluno: Luiz Fernando Rabelo (11796893)\n",
        "Docente: Cynthia de Oliveira Lage Ferreira\n",
        "\n",
        "\n",
        "# Trabalho Prático\n",
        "\n",
        "16 de novembro de 2022\n",
        "\n",
        "\n",
        "# Orientações Gerais\n",
        "\n",
        "*   Esta avaliação é **individual** e deverá ser desenvolvida na plataforma Colab (https://colab.research.google.com/).\n",
        "\n",
        "*   Cada aluno deverá produzir um arquivo .ipynb contendo as soluções dos exercícios. Sejam organizados !\n",
        "\n",
        "*   Os arquivos deverão estar identificados por _NOMEDOALUNO-NoUSP-TURMA.ipynb_ a fim de facilitar a organização das atividades pela professora.\n",
        "\n",
        "*  Os arquivos deverão ser enviados **até às 20h do dia 19/11** através da plataforma e-disciplinas da USP (https://edisciplinas.usp.br/). Os arquivos recebidos por e-mail não serão corrigidos. Arquivos enviados fora do prazo também não serão corrigidos!\n",
        "\n",
        "*   Apenas os alunos que estiverem com a situação regularizada no Sistema Jupiter terão suas avaliações corrigidas.\n",
        "\n",
        "*  Todos os códigos utilizados para resolver os problemas deverão ser apresentados, executados e minimamente comentados. Questões com respostas sem justificativas não serão consideradas.\n",
        "\n",
        "BOM TRABALHO!"
      ]
    },
    {
      "cell_type": "code",
      "execution_count": null,
      "metadata": {
        "id": "5BexU-0dxZQ5"
      },
      "outputs": [],
      "source": [
        "# Bibliotecas Utilizadas\n",
        "import numpy as np\n",
        "import matplotlib.pyplot as plt"
      ]
    },
    {
      "attachments": {},
      "cell_type": "markdown",
      "metadata": {
        "id": "Ug43yvau01qY"
      },
      "source": [
        "# Exercício 1\n",
        "Considere o espaço vetorial real $\\mathbb{R}^2$. Sejam as transformações\n",
        "- $T_1:\\mathbb{R}^2 \\to \\mathbb{R}^2$ tal que $T_1(x,y)=(-x,y)$ - **reflexão em torno do eixo $oy$**;\n",
        "- $T_2:\\mathbb{R}^2 \\to \\mathbb{R}^2$ tal que a matriz da transformação é dada por\n",
        "$$[T_2] = \\begin{bmatrix} 1 & k \\\\ 0 & 1 \\end{bmatrix},$$\n",
        "com $k\\in\\mathbb{R}$ - **cisalhamento horizontal**.\n",
        "\n",
        "1. Aplique as transformações $T_1$ e $T_2$ no quadrado de vértices $(0,0)$, $(1,0)$, $(1,1)$ e $(0,1)$ considerando o parâmetro $k= -0,5$ e visualize os resultados;\n",
        "2. Determine a matriz da transformação $T_3$ que primeiro faz um cisalhamento horizontal com $k=-0.5$ mapeando $e_2$ em $e_2 - 0.5e_1$ ($e_1$ se mantém inalterado) e então reflete o resultado em torno do eixo $oy$. **Dica:** Determine a posição final das imagens de $e_1$ e $e_2$.\n",
        "3. Qual a relação entre as matrizes $[T_1]$, $[T_2]$ e a matriz da transformação $[T_3]$ obtida no item anterior?\n",
        "4. Determine a transformação de reflexão em torno do eixo $ox$ e a transformação de cisalhamento vertical."
      ]
    },
    {
      "cell_type": "code",
      "execution_count": null,
      "metadata": {
        "id": "8hPXtW8LmLLU"
      },
      "outputs": [],
      "source": [
        "# Solução 1\n",
        "\n",
        "# Vértices do quadrado\n",
        "Q = np.array([[0,0],[1,0],[1,1],[0,1]]).T\n",
        "\n",
        "# Reflexão em torno do eixo y\n",
        "# (-x,y) = x(-1,0) + y(0,1)\n",
        "T1 = np.array([[-1, 0], [0, 1]])\n",
        "\n",
        "# Cisalhamento horizontal\n",
        "k = -0.5\n",
        "T2 = np.array([[1, k], [0, 1]])\n",
        "\n",
        "# Aplicando as transformações\n",
        "T1Q = np.dot(T1, Q)  # transformação de reflexão = multiplicação pela matriz de reflexão\n",
        "T2Q = np.dot(T2, Q)  # transformação de cisalhamento = multiplicação pela matriz de cisalhamento\n",
        "\n",
        "def plotSimples(vx, vy):\n",
        "    plt.figure(figsize=(6,6))\n",
        "    plt.axis([-2, 2, -2, 2])\n",
        "    plt.plot([-2,2], [0,0], 'k--', alpha=0.75)\n",
        "    plt.plot([0,0], [-2,2],'k--', alpha=0.75)\n",
        "    plt.plot(vx, vy, 'k')\n",
        "    plt.plot([vx[0], vx[-1]], [vy[0], vy[-1]], 'k')\n",
        "    plt.plot(vx, vy, 'bo')\n",
        "    plt.grid('True')\n",
        "\n",
        "# Plots\n",
        "plotSimples(Q[0,:], Q[1,:])\n",
        "plt.title('Vértices originais')\n",
        "\n",
        "plotSimples(T1Q[0,:], T1Q[1,:])\n",
        "plt.title('Reflexão')\n",
        "\n",
        "plotSimples(T2Q[0,:], T2Q[1,:])\n",
        "plt.title('Cisalhamento')"
      ]
    },
    {
      "cell_type": "code",
      "execution_count": null,
      "metadata": {
        "id": "eVC3sD1Wmj00"
      },
      "outputs": [],
      "source": [
        "# Solução 2)\n",
        "\n",
        "# Observando as posições finais de e1 e e2 temos:\n",
        "# T3(1,0) = (-1,0)\n",
        "# T3(0,1) = (0.5,1)\n",
        "T3 = np.dot(T1, T2)  # T3 = T1 x T2 (reflete depois cisalha, pela ordem de multiplicação de matrizes)\n",
        "print('T3 = ', T3)\n",
        "T3Q = np.dot(T3, Q)  # aplicação da transformação\n",
        "plotSimples(T3Q[0,:], T3Q[1,:])\n",
        "plt.title('Cisalhamento seguido de reflexão em y')\n",
        "\n",
        "\n",
        "# Solução 3)\n",
        "\n",
        "# Por outro lado, aplicando T2, depois T1:\n",
        "T3 = np.dot(T2, T1)  # T3 = T2 x T1 (cisalha depois reflete, pela ordem de multiplicação de matrizes)\n",
        "print('T3\\' = ', T3)\n",
        "T3Q = np.dot(T3, Q)  # aplicação da transformação\n",
        "plotSimples(T3Q[0,:], T3Q[1,:])\n",
        "plt.title('Reflexão em y seguida de cisalhamento')\n",
        "\n",
        "\n",
        "# Solução 4)\n",
        "\n",
        "# Reflexão em torno do eixo x\n",
        "# (x,-y) = x(1,0) + y(0,-1)\n",
        "T4 = np.array([[1, 0], [0, -1]])  # mesmo raciocíno que o anterior, mas opondo a coordenada y\n",
        "\n",
        "# Cisalhamento vertical\n",
        "k = -0.5\n",
        "T5 = np.array([[1, 0], [k, 1]])  # mesmo raciocínio que o anterior, adaptando k para cisalhar verticalmente\n",
        "\n",
        "# Aplicando as transformações\n",
        "T4Q = np.dot(T4, Q)\n",
        "T5Q = np.dot(T5, Q)\n",
        "\n",
        "# Plots\n",
        "plotSimples(T4Q[0,:], T4Q[1,:])\n",
        "plt.title('Reflexão em x')\n",
        "\n",
        "plotSimples(T5Q[0,:], T5Q[1,:])\n",
        "plt.title('Cisalhamento vertical')"
      ]
    },
    {
      "attachments": {},
      "cell_type": "markdown",
      "metadata": {
        "id": "W9OlCLzSzhkJ"
      },
      "source": [
        "# Exercício 2\n",
        "Considere a transformação $T:R^7 \\rightarrow R^3$ linear dada pela matriz\n",
        "\n",
        "$$\n",
        "\\left(\\begin{array}{ccccccc}\n",
        "3 & 9 & 6 & 6 & 9 & 3 & 1\\\\\n",
        "2 & 0 & 9 & 2 & 0 & 5 & 3\\\\\n",
        "0 & 0 & 1 & 0 & 1 & 0 & 2\n",
        "\\end{array}\\right)\n",
        "$$\n",
        "\n",
        "a) Qual a dimensão do núcleo e da imagem da transformação? Faça um código para determinar a dimensão da imagem e conclua, então, a dimensão do núcleo. "
      ]
    },
    {
      "cell_type": "code",
      "execution_count": null,
      "metadata": {
        "id": "ZPSn2rAPkyM2"
      },
      "outputs": [],
      "source": [
        "B = np.asarray([[3, 9, 6, 6, 9, 3, 1],\n",
        "                [2, 0, 9, 2, 0, 5, 3],\n",
        "                [0, 0, 1 , 0, 1, 0, 2]])\n",
        "\n",
        "''' \n",
        "Sabemos que dim(núcleo) + dim(imagem) = 7 \n",
        "\n",
        "Como existem três colunas L.I. em B, concluímos que\n",
        "dim(imagem) = 3, e, por conseguinte, que dim(núcleo) = 4\n",
        "\n",
        "Para mostrar que dim(imagem) = 3, basta verificar que\n",
        "o determinante da matriz gerada por três vetores coluna\n",
        "é diferente de zero. Por exemplo, as três primeiras colunas\n",
        "de B são linearmente independentes, pois o determinante da\n",
        "matriz gerada por elas é diferente de zero\n",
        "'''\n",
        "\n",
        "print('Determinante de\\n',B[:,0:3],'\\n= ', np.linalg.det(B[:,0:3]))\n",
        "print('\\ndim(Ker(B)) = 4, dim(Im(B)) = 3')"
      ]
    },
    {
      "cell_type": "markdown",
      "metadata": {},
      "source": [
        "b) Encontre uma base para o espaço núcleo."
      ]
    },
    {
      "attachments": {},
      "cell_type": "markdown",
      "metadata": {},
      "source": [
        "Sabemos que o espaço núcleo é ortogonal ao espaço linha, portanto, vetores no espaço núcleo devem satisfazer as equações:\n",
        "\n",
        "$$\n",
        "Bx=0 \\\\\n",
        "\\Downarrow \\\\\n",
        "\\begin{array}{c}\n",
        "3x_1 + 9x_2 + 6x_3 +6x_4 +9x_5 +3x_6 +1x_7 = 0\\\\\n",
        "2x_1 + 0x_2 + 9x_3 +2x_4 +0x_5 +5x_6 +3x_7 = 0\\\\\n",
        "0x_1 + 0x_2 + 1x_3 +0x_4 +1x_5 +0x_6 +2x_7 = 0\n",
        "\\end{array}\n",
        "\\\\\n",
        "\\Downarrow \n",
        "$$\n",
        "Da segunda equação temos:\n",
        "$$\n",
        "x_1=\\frac{-9x_3 -2x_4 -5x_6 -3x_7}{2}\n",
        "$$\n",
        "Substituindo na primeira equação:\n",
        "$$\n",
        "x_2=\\frac{5}{6}x_3 -\\frac{1}{3}x_4 -x_5 +\\frac{1}{2}x_6 +\\frac{7}{18}x_7\n",
        "$$\n",
        "Isolando $x_3$ na terceira equação:\n",
        "$$\n",
        "x_3=-1x_5-2x_7\n",
        "$$\n",
        "\n",
        "Desta forma, temos liberdade para escolhermos $x_4,x_5,x_6,x_7$. Fazendo um deles iguais a 1 e os demais iguais a zero, obtemos uma base."
      ]
    },
    {
      "cell_type": "code",
      "execution_count": null,
      "metadata": {},
      "outputs": [],
      "source": [
        "DIM_B = 7\n",
        "DIM_KERNEL = 4\n",
        "\n",
        "base = np.zeros((DIM_B, DIM_KERNEL))\n",
        "\n",
        "for i in range(DIM_KERNEL):\n",
        "  v = np.zeros((DIM_B, 1))\n",
        "  v[i + 3] = 1\n",
        "  v[2] = -v[4] -2 * v[6]\n",
        "  v[1] = 5/6 * v[2] -1/3 * v[3] - v[4] + 1/2 * v[5] + 7/18 * v[6]\n",
        "  v[0] = -9/2 * v[2] - v[3] -5/2 * v[5] -3/2 * v[6]\n",
        "  base[:,i] = v[:,0]\n",
        "\n",
        "print('Base para o kernel =\\n', base)"
      ]
    },
    {
      "attachments": {},
      "cell_type": "markdown",
      "metadata": {},
      "source": [
        "c) Faça um código para verificar que a base encontrada está gerando o núcleo."
      ]
    },
    {
      "cell_type": "code",
      "execution_count": null,
      "metadata": {},
      "outputs": [],
      "source": [
        "'''\n",
        "A base gera o núcleo se o produto dos elementos do\n",
        "gerador pela base resultar em uma matriz com 0s. Como\n",
        "pode haver erro de arredondamento pelo computador,\n",
        "é considerado um erro para a comparação com 0.\n",
        "'''\n",
        "def base_gera_nucleo(S, base):\n",
        "    B_base = B @ base\n",
        "    erro = 1e-10\n",
        "    for linha in B_base:\n",
        "        for elemento in linha:\n",
        "            if abs(elemento) > erro:\n",
        "                return False\n",
        "    return True\n",
        "\n",
        "print('A base gera o núcleo, de fato?', base_gera_nucleo(B, base))"
      ]
    },
    {
      "attachments": {},
      "cell_type": "markdown",
      "metadata": {
        "id": "4Cu3SshMxa7K"
      },
      "source": [
        "# Exercício 3\n",
        "\n",
        "a) Dada uma base qualquer de um subespaço vetorial do $R^{n}$, escreva um código para encontrar uma base ortonormal para este subespaço. Teste o seu código para a base dada pelas colunas da matriz  **V**  gerada no código abaixo. \n",
        "\n",
        "b) Faça um teste para verificar que a base obtida é de fato ortonormal."
      ]
    },
    {
      "cell_type": "code",
      "execution_count": null,
      "metadata": {
        "colab": {
          "base_uri": "https://localhost:8080/"
        },
        "id": "_ss1xiAdxo74",
        "outputId": "251ae907-8c7e-44c8-96a3-98010505ed77"
      },
      "outputs": [],
      "source": [
        "V = np.random.randint(0, 20, size=(20,10))\n",
        "\n",
        "print(V)"
      ]
    },
    {
      "cell_type": "code",
      "execution_count": null,
      "metadata": {
        "id": "r5iDnSwDx19x"
      },
      "outputs": [],
      "source": [
        "# a) Ortonormalização de uma base qualquer dada e teste do código em V\n",
        "\n",
        "def gram_schmidt(x):\n",
        "    # Atribuição das linhas e colunas:\n",
        "    l, c = x.shape\n",
        "    # Cópia do do conjunto de vetores (p/ preservar os originais):\n",
        "    x_copia = x.copy()\n",
        "    # Inicialização da nova base:\n",
        "    nova_base = np.zeros(x.shape)\n",
        "    # Loop para cada coluna:\n",
        "    for i in range(c):\n",
        "        # Inicialização do vetor diferença (coluna atual):\n",
        "        diferenca = x_copia[:,i]\n",
        "        # Cópia do vetor a ser ortogonalizado:\n",
        "        nao_ortogonal = x[:,i]\n",
        "        # Loop para cada coluna com vetor já ortogonalizado:\n",
        "        for j in range(i):\n",
        "            # Atribuição do vetor que já é ortogonal:\n",
        "            ortogonal = nova_base[:,j]\n",
        "            # Contabilização da diferença do produto interno com o ortogonalizado:\n",
        "            diferenca = diferenca - np.dot(nao_ortogonal, ortogonal) * ortogonal\n",
        "        # Verificação se é possível calcular a norma (se é LI):\n",
        "        if np.array_equal(diferenca, np.zeros(x.shape)):\n",
        "            raise np.linalg.LinAlgError()  # vetor LD\n",
        "        # Normalização do vetor ortogonal:\n",
        "        ortonormal = diferenca / np.linalg.norm(diferenca)\n",
        "        # Armazenamento do vetor ortonormal:\n",
        "        nova_base[:,i] = ortonormal\n",
        "    # Cálculo do erro:\n",
        "    erro = np.linalg.norm(np.eye(c) - nova_base.T @ nova_base)\n",
        "    # Retorno com o resultado:\n",
        "    return nova_base, erro\n",
        "\n",
        "try:\n",
        "    Q, r = gram_schmidt(V)\n",
        "except:\n",
        "    print('V não forma base pois possui vetores LD! Escolha novos vetores aleatórios!')\n",
        "\n",
        "\n",
        "# b) Teste que verifica se a base obtida é de fato ortonormal\n",
        "\n",
        "def is_ortonormal(x, r):\n",
        "    # Atribuição das linhas e colunas:\n",
        "    l, c = x.shape\n",
        "    # Inicialização da resposta:\n",
        "    ortonormal = True\n",
        "    # Para cada elemento v verificar se ||v|| = 1 (considerando erro):\n",
        "    for i in range(c):\n",
        "        if np.abs(np.linalg.norm(x[:,i]) - 1) > r:\n",
        "            ortonormal = False \n",
        "    return ortonormal\n",
        "    \n",
        "print('Ortonormal =', is_ortonormal(Q, r))\n"
      ]
    },
    {
      "cell_type": "markdown",
      "metadata": {
        "id": "SLAkl8MVW1WE"
      },
      "source": [
        "# **Exercício 4**\n",
        "\n",
        "O crescimento populacional do Brasil ao longo dos anos pode ser observado na tabela abaixo, de acordo com dados do Censo-IBGE: \n",
        "\n",
        "\n",
        "Ano | População (milhões)\n",
        "--- | :---: \n",
        "1872 | 9,9\n",
        "1890 | 14,3\n",
        "1900 | 17,4\n",
        "1920 | 30,6\n",
        "1940 | 41,2\n",
        "1950 | 51,9\n",
        "1960 | 70,9\n",
        "1970 | 94,5\n",
        "1980 | 121,1\n",
        "1991 | 146,9\n",
        "2000 | 169,5\n",
        "2010 | 190,7\n",
        "\n",
        "\n",
        "Tabela: *População do Brasil, em milhões de pessoas, entre os anos de 1872-2010. Dados Censo-IBGE.*\n",
        "\n",
        "\n",
        "\n",
        "O último Censo foi realizado em 2010 e, devido à pandemia da Covid-19, o de 2020 foi adiado. Por isso, não é possível saber, com maior precisão, a população atual do país. Com o objetivo de estimar a população do Brasil em 2022, ajuste, no sentido dos mínimos quadrados, uma reta e uma parábola aos dados representados na tabela.\n",
        "\n",
        "a) Qual das duas aproximações você considera melhor para estimar a população atual do país ? Justifique a sua resposta calculando o erro da aproximação. Mostre, também, os gráficos das duas aproximações obtidas.\n",
        "\n",
        "b) Qual seria a população estimada do Brasil em 2022 ? Justifique."
      ]
    },
    {
      "cell_type": "code",
      "execution_count": null,
      "metadata": {
        "id": "rzpIdg3mlNJE"
      },
      "outputs": [],
      "source": [
        "x = [1872, 1890, 1900, 1920, 1940, 1950, 1960, 1970, 1980, 1991, 2000, 2010] \n",
        "y = [9.9, 14.3, 17.4, 30.6, 41.2, 51.9, 70.9, 94.5, 121.1, 146.9, 169.5, 190.7]\n",
        "\n",
        "# Resolvendo X^T.X a = X^T y (X matriz de Vandermond)\n",
        "def min_squares(x, y, m):\n",
        "    # Inicialização da matriz A com 1's:\n",
        "    A = np.ones((len(x), m))\n",
        "    # Preenchimento das demais colunas de acordo com o grau m:\n",
        "    for i in range(1, m):\n",
        "        A[:,i] = np.array([n ** i for n in x])\n",
        "    # Cálculo das transpostas da equação normal:\n",
        "    AtA = np.dot(A.T, A)\n",
        "    AtB = np.dot(A.T, np.array(y))\n",
        "    # Retorno da solução:\n",
        "    return np.linalg.solve(AtA, AtB)\n",
        "\n",
        "# Calculando o erro da aproximação\n",
        "def min_squares_error(X, Y, p):\n",
        "    n = len(X)\n",
        "    return sum([np.abs(p(X[i]) - Y[i]) ** 2 for i in range(n)]) / n\n",
        "  \n",
        "\n",
        "alfa_reta = min_squares(x, y, 2)  # calcula o sistema com m=2 (reta)\n",
        "p_reta = lambda x: alfa_reta[0] + alfa_reta[1] * x  # definindo P1(x) \n",
        "print(min_squares_error(x, y, p_reta))  # erro de aproximação\n",
        "print(f'P_1(x) = ' + str(alfa_reta[1]) + 'x + ' + str(alfa_reta[0]))  # imprime P1(x)\n",
        "\n",
        "alfa_parabola = min_squares(x, y, 3)  # calcula o sistema com m=3 (parabola)\n",
        "p_parabola = lambda x: alfa_parabola[0] + alfa_parabola[1] * x + alfa_parabola[2] * x ** 2  # definindo P2(x) \n",
        "print(min_squares_error(x, y, p_parabola)) # erro de aproximação\n",
        "print(f'P_2(x) = ' + str(alfa_parabola[2]) + 'x² + ' + str(alfa_parabola[1]) + 'x +' + str(alfa_parabola[2]))  # imprime P2(x)\n",
        "\n",
        "x_dist = np.linspace(1872, 2010, num=100)\n",
        "\n",
        "plt.scatter(x,y,label = 'amostra',linewidth = 1,color='red')\n",
        "plt.plot(x_dist,p_reta(x_dist),label = 'aproximação por reta',linewidth = 2)\n",
        "plt.plot(x_dist,p_parabola(x_dist),label = 'aproximação por parábola',linewidth = 2)\n",
        "plt.xlabel('Anos desde 1872',fontsize='large')\n",
        "plt.ylabel('População (milhões)',fontsize='large')\n",
        "plt.legend()\n",
        "plt.show()"
      ]
    },
    {
      "cell_type": "markdown",
      "metadata": {},
      "source": [
        "### Melhor Aproximação\n",
        "\n",
        "Intuitivamente, pela figura, podemos perceber que a aproximação feita pelo polinômio de grau 2 obteve um melhor resultado. Isso é comprovado quando se calcula o erro, que é cerca de 21 vezes menor que o erro da reta."
      ]
    },
    {
      "cell_type": "markdown",
      "metadata": {},
      "source": [
        "### População Estimada em 2022\n",
        "\n",
        "Entre os 2 polinômios, como o de grau 2 é mais acurado, podemos utilizá-lo para estimar a população de 2022, calculando _p(2022)_."
      ]
    },
    {
      "cell_type": "code",
      "execution_count": null,
      "metadata": {},
      "outputs": [],
      "source": [
        "print('População estimada =', p_parabola(2022))"
      ]
    }
  ],
  "metadata": {
    "colab": {
      "provenance": []
    },
    "kernelspec": {
      "display_name": "Python 3.8.10 64-bit",
      "language": "python",
      "name": "python3"
    },
    "language_info": {
      "codemirror_mode": {
        "name": "ipython",
        "version": 3
      },
      "file_extension": ".py",
      "mimetype": "text/x-python",
      "name": "python",
      "nbconvert_exporter": "python",
      "pygments_lexer": "ipython3",
      "version": "3.8.10"
    },
    "vscode": {
      "interpreter": {
        "hash": "916dbcbb3f70747c44a77c7bcd40155683ae19c65e1c03b4aa3499c5328201f1"
      }
    }
  },
  "nbformat": 4,
  "nbformat_minor": 0
}
