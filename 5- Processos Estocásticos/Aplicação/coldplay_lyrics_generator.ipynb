{
 "cells": [
  {
   "attachments": {},
   "cell_type": "markdown",
   "metadata": {},
   "source": [
    "# Gerador de Letras Musicais\n",
    "\n",
    "Gerador de Letras Musicais estocástico, modelado puramente com uma Cadeia de Markov. Foram consideradas 99 músicas da banda Coldplay para produzir o resultado.\n",
    "\n",
    "A aplicação não possui elementos de inteligência artificial ou de processamento de linguagem natural, os quais melhorariam (sintática e semanticamente) a qualidade da saída produzida."
   ]
  },
  {
   "attachments": {},
   "cell_type": "markdown",
   "metadata": {},
   "source": [
    "#### Importação das bibliotecas utilizadas"
   ]
  },
  {
   "cell_type": "code",
   "execution_count": null,
   "metadata": {},
   "outputs": [],
   "source": [
    "import os\n",
    "from nltk.tokenize import word_tokenize\n",
    "from random import choices"
   ]
  },
  {
   "attachments": {},
   "cell_type": "markdown",
   "metadata": {},
   "source": [
    "#### Leitura das músicas"
   ]
  },
  {
   "cell_type": "code",
   "execution_count": null,
   "metadata": {},
   "outputs": [],
   "source": [
    "FOLDER_PATH = './data/'\n",
    "\n",
    "def read_songs():\n",
    "    verses = []\n",
    "    for _, _, file_names in os.walk(FOLDER_PATH):\n",
    "        for file_name in file_names:\n",
    "            file = open(FOLDER_PATH + file_name)\n",
    "            for line in file:\n",
    "                line = line.strip()\n",
    "                if line != '':\n",
    "                    verses.append(line)\n",
    "    return verses\n",
    "\n",
    "verses = read_songs()\n",
    "print('Número de versos =', len(verses))"
   ]
  },
  {
   "attachments": {},
   "cell_type": "markdown",
   "metadata": {},
   "source": [
    "#### Extração das palavras"
   ]
  },
  {
   "cell_type": "code",
   "execution_count": null,
   "metadata": {},
   "outputs": [],
   "source": [
    "def clean_verses(verses):\n",
    "    cleaned_verses = []\n",
    "    for verse in verses:\n",
    "        tokens = word_tokenize(verse)\n",
    "        words = [word.lower() for word in tokens if word.isalpha()]\n",
    "        cleaned_verses += words\n",
    "    return cleaned_verses\n",
    "\n",
    "words = clean_verses(verses)\n",
    "print('Número de palavras =', len(words))"
   ]
  },
  {
   "attachments": {},
   "cell_type": "markdown",
   "metadata": {},
   "source": [
    "#### Criação da Cadeia de Markov"
   ]
  },
  {
   "cell_type": "code",
   "execution_count": null,
   "metadata": {},
   "outputs": [],
   "source": [
    "def create_markov_chain(words, max_grouping=1):\n",
    "    markov_chain = {}\n",
    "\n",
    "    for i in range(len(words) - (max_grouping + 1)):\n",
    "        current_state = ''\n",
    "        next_state = ''\n",
    "        for j in range(max_grouping):\n",
    "            current_state += words[i+j] + ' '\n",
    "            next_state += words[i+j+max_grouping] + ' '\n",
    "        current_state = current_state[:-1]\n",
    "        next_state = next_state[:-1]\n",
    "        if current_state not in markov_chain:\n",
    "            markov_chain[current_state] = {}\n",
    "            markov_chain[current_state][next_state] = 1\n",
    "        else:\n",
    "            if next_state in markov_chain[current_state]:\n",
    "                markov_chain[current_state][next_state] += 1\n",
    "            else:\n",
    "                markov_chain[current_state][next_state] = 1\n",
    "\n",
    "    for current_state, transition in markov_chain.items():\n",
    "        total = sum(transition.values())\n",
    "        for state, count in transition.items():\n",
    "            markov_chain[current_state][state] = count / total\n",
    "        \n",
    "    return markov_chain\n",
    "\n",
    "markov_chain = create_markov_chain(words)\n",
    "print('Total de estados =', len(markov_chain.keys()))"
   ]
  },
  {
   "attachments": {},
   "cell_type": "markdown",
   "metadata": {},
   "source": [
    "#### Geração das Músicas"
   ]
  },
  {
   "cell_type": "code",
   "execution_count": null,
   "metadata": {},
   "outputs": [],
   "source": [
    "def generate_lyrics(markov_chain, max_transitions=200, start='i'):\n",
    "    transitions_made = 0\n",
    "    current_state = start\n",
    "    next_state = None\n",
    "    lyrics = current_state + ' '\n",
    "\n",
    "    while transitions_made < max_transitions:\n",
    "        next_state = choices(list(markov_chain[current_state].keys()), list(markov_chain[current_state].values()))\n",
    "        current_state = next_state[0]\n",
    "        lyrics += current_state + ' '\n",
    "        transitions_made += 1\n",
    "        if transitions_made % 10 == 0:\n",
    "            lyrics += '\\n\\n' if transitions_made % 50 == 0 else '\\n'\n",
    "\n",
    "    return lyrics\n",
    "\n",
    "print(generate_lyrics(markov_chain))"
   ]
  }
 ],
 "metadata": {
  "kernelspec": {
   "display_name": "Python 3",
   "language": "python",
   "name": "python3"
  },
  "language_info": {
   "codemirror_mode": {
    "name": "ipython",
    "version": 3
   },
   "file_extension": ".py",
   "mimetype": "text/x-python",
   "name": "python",
   "nbconvert_exporter": "python",
   "pygments_lexer": "ipython3",
   "version": "3.8.10"
  },
  "orig_nbformat": 4,
  "vscode": {
   "interpreter": {
    "hash": "916dbcbb3f70747c44a77c7bcd40155683ae19c65e1c03b4aa3499c5328201f1"
   }
  }
 },
 "nbformat": 4,
 "nbformat_minor": 2
}
