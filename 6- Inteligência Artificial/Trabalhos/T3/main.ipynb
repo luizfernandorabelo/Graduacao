{
  "cells": [
    {
      "cell_type": "markdown",
      "metadata": {
        "id": "ERg6XZ9l_ZKp"
      },
      "source": [
        "Integrantes:\n",
        "\n",
        "- André Dylan Andrade (11832426)\n",
        "- João Guilherme J. Marinho (10698193)\n",
        "- Luiz Fernando Rabelo (11796893)\n",
        "- Marcos Antonio Nobre Coutinho (10716397)"
      ]
    },
    {
      "cell_type": "markdown",
      "metadata": {
        "id": "MbCGpkbD_kSj"
      },
      "source": [
        "# Introdução"
      ]
    },
    {
      "cell_type": "markdown",
      "metadata": {
        "id": "787TNai9_8Od"
      },
      "source": [
        "Esse notebook é um projeto de aprendizado de máquina elaborado para o *Trabalho 03* da disciplina *SCC0630 - Inteligência Artificial*. O objetivo é aplicar algoritmos tradicionais de classificação em uma base de dados.\n",
        "\n",
        "O [banco de dados \"Bank Customer Chunk\"](https://www.kaggle.com/datasets/radheshyamkollipara/bank-customer-churn?select=Customer-Churn-Records.csv) foi encontrado no Kaggle.\n",
        "\n",
        "Entender os motivos de **churn** (abandono de algum produto) é muito importante para muitas empresas, a fim de conhecer públicos-alvo e otimizar campanhas de retenção, por exemplo. No banco de dados selecionado, as informações são, supostamente, de usuários de banco (instituição financeira)."
      ]
    },
    {
      "cell_type": "markdown",
      "metadata": {
        "id": "V1kfiaO6GJsW"
      },
      "source": [
        "# Pré-processamento e visualização dos dados"
      ]
    },
    {
      "cell_type": "markdown",
      "metadata": {
        "id": "Ukv7zbVsYxUX"
      },
      "source": [
        "Antes de aplicar os algoritmos é necessário explorar um pouco o dataset.\n",
        "\n",
        "Faremos algumas visualizações dos dados para entender o comportamento das variáveis condicionadas as classes (**CHURN** e **~CHURN**) de interesse. Também serão realizadas algumas transformações com o objetivo de ajustar os dados para entrada dos algoritmos."
      ]
    },
    {
      "cell_type": "markdown",
      "metadata": {
        "id": "FAfxWIORIIVt"
      },
      "source": [
        "Abaixo importamos as bibliotecas e funções utilizadas durante o projeto."
      ]
    },
    {
      "cell_type": "code",
      "execution_count": null,
      "metadata": {
        "id": "3D7j8NQC9mZs"
      },
      "outputs": [],
      "source": [
        "import pandas as pd\n",
        "import numpy as np\n",
        "import matplotlib.pyplot as plt\n",
        "import seaborn as sns\n",
        "from scipy.stats import chi2_contingency\n",
        "from sklearn.preprocessing import MinMaxScaler\n",
        "\n",
        "from sklearn import tree\n",
        "from sklearn.model_selection import cross_validate\n",
        "from sklearn.neighbors import KNeighborsClassifier\n",
        "from sklearn.naive_bayes import GaussianNB, BernoulliNB, MultinomialNB, ComplementNB\n",
        "from sklearn.ensemble import AdaBoostClassifier, BaggingClassifier, RandomForestClassifier\n",
        "from sklearn.neural_network import MLPClassifier\n",
        "\n",
        "import warnings\n",
        "warnings.filterwarnings(\"ignore\", category=DeprecationWarning)\n",
        "%matplotlib inline"
      ]
    },
    {
      "cell_type": "markdown",
      "metadata": {
        "id": "q83OR83kJd5e"
      },
      "source": [
        "Importamos os dados."
      ]
    },
    {
      "cell_type": "code",
      "execution_count": null,
      "metadata": {
        "colab": {
          "base_uri": "https://localhost:8080/",
          "height": 288
        },
        "id": "mqE5EmerJp0x",
        "outputId": "ff697bde-ff0e-428c-9101-3a6bd1973d72"
      },
      "outputs": [],
      "source": [
        "df = pd.read_csv('Customer-Churn-Records.csv')\n",
        "df.head(5)"
      ]
    },
    {
      "cell_type": "markdown",
      "metadata": {
        "id": "PUoScF8qMU2s"
      },
      "source": [
        "Iniciamos fazendo uma descrição das variáveis originais:\n",
        "\n",
        "- **RowNumber**: número da linha (index);\n",
        "- **CustomerID**: identificador do banco;\n",
        "- **Surname**: sobrenome do usuário;\n",
        "- **CreditScore**: score do usuário;\n",
        "- **Geography**: localização (país) do usuário;\n",
        "- **Gender**: gênero do usuário;\n",
        "- **Age**: idade do usuário;\n",
        "- **Tenure**: número de anos que o usuário é cliente do banco;\n",
        "- **Balance**: balanço no cartão de crédito do usuário;\n",
        "- **NumOfProducts**: número de produtos do usuário;\n",
        "- **HasCrCard**: se o usuário tem cartão de crédito do banco;\n",
        "- **IsActiveMember**: se é um usuário ativo do banco;\n",
        "- **EstimatedSalary**: salário estimado do usuário;\n",
        "- **Exited**: se o usuário saiu do banco **(churn)** ou não;\n",
        "- **Complain**: se houve reclamação do usuário ou não;\n",
        "- **Satisfaction Score**: satisfação do usuário para resolução de problemas;\n",
        "- **Card Type**: tipo de cartão de crédito do usuário;\n",
        "- **Points Earned**: pontos ganhos do usuário por usar o cartão de crédito;\n",
        "\n",
        "\n",
        "\n",
        "\n",
        "\n",
        "\n",
        "\n",
        "\n",
        "\n",
        "\n"
      ]
    },
    {
      "cell_type": "markdown",
      "metadata": {
        "id": "HCrqQs4TSQCB"
      },
      "source": [
        "A coluna **RowNumber** é apenas uma duplicação dos índices, e a coluna **CostumerID** representa apenas um idenficador aleatório. Ambas colunas não ajudam a explicar o **churn** e serão excluídas. Também renomearemos as variáveis **Satisfaction Score**, **Card Type** e **Points Earned** retirando seus espaços, a fim de facilitar a utilização de alguns métodos abaixo."
      ]
    },
    {
      "cell_type": "code",
      "execution_count": null,
      "metadata": {
        "colab": {
          "base_uri": "https://localhost:8080/",
          "height": 270
        },
        "id": "fgdaT1b1UHs-",
        "outputId": "b84f07be-f8cc-4503-a3b6-792b5283323a"
      },
      "outputs": [],
      "source": [
        "df.drop(columns=['RowNumber','CustomerId'], inplace=True)\n",
        "df.rename(columns={'Satisfaction Score': 'SatisfactionScore'}, inplace=True)\n",
        "df.rename(columns={'Card Type': 'CardType'}, inplace=True)\n",
        "df.rename(columns={'Point Earned': 'PointEarned'}, inplace=True)\n",
        "df.head(5)"
      ]
    },
    {
      "cell_type": "markdown",
      "metadata": {
        "id": "NcLtWEsda88m"
      },
      "source": [
        "Agora fazemos uma sumarização das variáveis para começar a entende-las."
      ]
    },
    {
      "cell_type": "markdown",
      "metadata": {
        "id": "HHjtpKkyg3-E"
      },
      "source": [
        "Verificamos o número de linhas e colunas, além do tipo das variáveis."
      ]
    },
    {
      "cell_type": "code",
      "execution_count": null,
      "metadata": {
        "colab": {
          "base_uri": "https://localhost:8080/"
        },
        "id": "YriHTAk9bcwq",
        "outputId": "38ee2add-3c9f-4172-8dd3-737a44e89466"
      },
      "outputs": [],
      "source": [
        "print('Número de linhas e colunas do dataframe: ', df.shape, '\\n')\n",
        "print(df.dtypes)"
      ]
    },
    {
      "cell_type": "markdown",
      "metadata": {
        "id": "Q472rtebeSI0"
      },
      "source": [
        "Existem algumas variávies categóricas (*object*) que posteriormente serão mapeadas como variáveis numéricas, uma alteração necessária para a aplicação de alguns algoritmos."
      ]
    },
    {
      "cell_type": "markdown",
      "metadata": {
        "id": "DQ5W1cLBg0UU"
      },
      "source": [
        "Verificamos se há valores faltantes ou duplicados."
      ]
    },
    {
      "cell_type": "code",
      "execution_count": null,
      "metadata": {
        "colab": {
          "base_uri": "https://localhost:8080/"
        },
        "id": "-JFCA_-1gItk",
        "outputId": "37df8ea2-7a75-456e-f112-7a422eaa5d08"
      },
      "outputs": [],
      "source": [
        "print(df.isna().sum())"
      ]
    },
    {
      "cell_type": "code",
      "execution_count": null,
      "metadata": {
        "colab": {
          "base_uri": "https://localhost:8080/"
        },
        "id": "wTZqgI5yhcUJ",
        "outputId": "f72fae5e-4229-4df0-8cc7-85186e421cd6"
      },
      "outputs": [],
      "source": [
        "len(df[df.duplicated()])"
      ]
    },
    {
      "cell_type": "markdown",
      "metadata": {
        "id": "0Brsy1HajHTc"
      },
      "source": [
        "Não há valores faltantes os duplicados."
      ]
    },
    {
      "cell_type": "markdown",
      "metadata": {
        "id": "ucHcYT013ecG"
      },
      "source": [
        "# Visualização dos dados"
      ]
    },
    {
      "cell_type": "markdown",
      "metadata": {
        "id": "NBH31HxW6r8o"
      },
      "source": [
        "### Exited (churn)"
      ]
    },
    {
      "cell_type": "markdown",
      "metadata": {
        "id": "tKgiWYAzcUEY"
      },
      "source": [
        "Essa é a variável que temos interesse em fazer a predição."
      ]
    },
    {
      "cell_type": "markdown",
      "metadata": {
        "id": "37P15eUwAAhW"
      },
      "source": [
        "Vamos alterar o tipo da variável para evitar a confusão em relação ao significado dos valores $0$ e $1$, facilitando a interpretação dos resultados abaixo. Posteriormente reverteremos o mapeamento para aplicação dos algoritmos."
      ]
    },
    {
      "cell_type": "code",
      "execution_count": null,
      "metadata": {
        "id": "pDc9-6MhAuql"
      },
      "outputs": [],
      "source": [
        "df['Exited'] = df['Exited'].map({0: '~CHURN', 1: 'CHURN'})"
      ]
    },
    {
      "cell_type": "code",
      "execution_count": null,
      "metadata": {
        "colab": {
          "base_uri": "https://localhost:8080/"
        },
        "id": "1UeUwJJT_pub",
        "outputId": "7713b353-14cc-4a72-9d95-8db00070474e"
      },
      "outputs": [],
      "source": [
        "exited = df.Exited.value_counts() / sum(df.Exited.value_counts())\n",
        "exited"
      ]
    },
    {
      "cell_type": "markdown",
      "metadata": {
        "id": "5vCp_zof_KhA"
      },
      "source": [
        "Observamos que aproximadamente $20\\%$ dos usuários saíram do banco."
      ]
    },
    {
      "cell_type": "markdown",
      "metadata": {
        "id": "5UXg_Je04wm4"
      },
      "source": [
        "### Surname"
      ]
    },
    {
      "cell_type": "markdown",
      "metadata": {
        "id": "mxHHChSC4uhR"
      },
      "source": [
        "Segundo os dados informados no Kaggle, a variável **Surname** não tem impacto em relação ao usuário deixar ou não o banco. Vamos explorar a variável para decidir se será ou não excluída."
      ]
    },
    {
      "cell_type": "code",
      "execution_count": null,
      "metadata": {
        "colab": {
          "base_uri": "https://localhost:8080/",
          "height": 450
        },
        "id": "RzpKTGcejOg9",
        "outputId": "23ba2790-cb77-4013-db74-c98c9244fca0"
      },
      "outputs": [],
      "source": [
        "surname = df.Surname.value_counts()\n",
        "sns.histplot(surname, binwidth=1, binrange=[min(surname), max(surname)])\n",
        "plt.ylabel('Nº de sobrenomes')\n",
        "plt.xlabel('Usuários por sobrenome')\n",
        "plt.show()"
      ]
    },
    {
      "cell_type": "markdown",
      "metadata": {
        "id": "wwUzZwaC1kvE"
      },
      "source": [
        "Observa-se que a maior parte dos sobrenomes possui poucos usuários no dataset, ou seja, há uma dificuldade de generalização com tão poucas informações. Dessa forma não vamos levar em consideração a variável para análise."
      ]
    },
    {
      "cell_type": "code",
      "execution_count": null,
      "metadata": {
        "colab": {
          "base_uri": "https://localhost:8080/",
          "height": 270
        },
        "id": "SG8zeFpn2-Up",
        "outputId": "bbaa43a9-613e-43a4-c6be-9915306cd517"
      },
      "outputs": [],
      "source": [
        "df.drop(columns=['Surname'], inplace=True)\n",
        "df.head(5)"
      ]
    },
    {
      "cell_type": "markdown",
      "metadata": {
        "id": "7Haj_T7E410S"
      },
      "source": [
        "### Variáveis quantitativas"
      ]
    },
    {
      "cell_type": "markdown",
      "metadata": {
        "id": "wxRGeaA6KlL4"
      },
      "source": [
        "Abaixo plotamos os boxplots de algumas variáveis contínuas condicionados pela variável **Exited**, a fim de termos uma noção se é possível explicar a mesma por alguma das outras variáveis."
      ]
    },
    {
      "cell_type": "code",
      "execution_count": null,
      "metadata": {
        "colab": {
          "base_uri": "https://localhost:8080/",
          "height": 850
        },
        "id": "2S5X0B7FNqhM",
        "outputId": "05a76904-f04f-4b4e-ca6a-6e2f329c5005"
      },
      "outputs": [],
      "source": [
        "variables = ['CreditScore', 'Age', 'Tenure', 'Balance', 'EstimatedSalary', 'PointEarned', 'Exited']\n",
        "\n",
        "plt.figure(figsize=(13.5,10))\n",
        "for i in range(len(variables) - 1):\n",
        "    plt.subplot(2, 3, i+1)\n",
        "    sns.boxplot(x='Exited', y=variables[i], data=df)"
      ]
    },
    {
      "cell_type": "markdown",
      "metadata": {
        "id": "4QW9nCW6TVw2"
      },
      "source": [
        "Percebemos que as variáveis, de modo geral, apresentam pouca diferença entre os grupos que saíram (ou não) do banco. A maior diferença é observada na variável **Age**, em que observamos que o **churn** acontece com usuários mais velhos. Observamos que a variável **Tenure** apresenta maior variabilidade entre os usuários que saíram do banco. Além disso, vemos que a variável **Balance** apresenta valores consideravelmente maiores para usuários que saíram do banco."
      ]
    },
    {
      "cell_type": "code",
      "execution_count": null,
      "metadata": {
        "id": "TCLDmiuuFAvH"
      },
      "outputs": [],
      "source": [
        "nop1 = df[df['NumOfProducts'] == 1]\n",
        "nop2 = df[df['NumOfProducts'] == 2]\n",
        "nop3 = df[df['NumOfProducts'] == 3]\n",
        "nop4 = df[df['NumOfProducts'] == 4]"
      ]
    },
    {
      "cell_type": "code",
      "execution_count": null,
      "metadata": {
        "colab": {
          "base_uri": "https://localhost:8080/"
        },
        "id": "b4yRL16AFX_6",
        "outputId": "53291844-2b93-4774-b20c-aaa33a60e18d"
      },
      "outputs": [],
      "source": [
        "nop1.Exited.value_counts() / sum(nop1.Exited.value_counts())"
      ]
    },
    {
      "cell_type": "code",
      "execution_count": null,
      "metadata": {
        "colab": {
          "base_uri": "https://localhost:8080/"
        },
        "id": "Cx31GsrlFXnF",
        "outputId": "e034975e-8118-4f8b-8540-18cd00004bc8"
      },
      "outputs": [],
      "source": [
        "nop2.Exited.value_counts() / sum(nop2.Exited.value_counts())"
      ]
    },
    {
      "cell_type": "code",
      "execution_count": null,
      "metadata": {
        "colab": {
          "base_uri": "https://localhost:8080/"
        },
        "id": "fCVbG3RuFW60",
        "outputId": "0c61370e-2ed4-40b0-ea02-0c0d0a008a52"
      },
      "outputs": [],
      "source": [
        "nop3.Exited.value_counts() / sum(nop3.Exited.value_counts())"
      ]
    },
    {
      "cell_type": "code",
      "execution_count": null,
      "metadata": {
        "colab": {
          "base_uri": "https://localhost:8080/"
        },
        "id": "QFOe6NibFK7H",
        "outputId": "39f53eb0-7eec-4622-9dfe-ba96ce38c0f9"
      },
      "outputs": [],
      "source": [
        "nop4.Exited.value_counts() / sum(nop4.Exited.value_counts())"
      ]
    },
    {
      "cell_type": "code",
      "execution_count": null,
      "metadata": {
        "colab": {
          "base_uri": "https://localhost:8080/",
          "height": 699
        },
        "id": "mPTR-GgT0LpZ",
        "outputId": "49beb814-c496-4453-af13-33dd61482324"
      },
      "outputs": [],
      "source": [
        "plt.figure(figsize=(10,8))\n",
        "plt.subplot(2, 2, 1)\n",
        "nop1.Exited.value_counts().plot(kind='bar', title='Churn Clientes com 1 Produto', rot=0);\n",
        "plt.subplot(2, 2, 2)\n",
        "nop2.Exited.value_counts().plot(kind='bar', title='Churn Clientes 2 Produtos', rot=0);\n",
        "plt.subplot(2, 2, 3)\n",
        "nop3.Exited.value_counts().plot(kind='bar', title='Churn Clientes com 3 Produtos', rot=0);\n",
        "plt.subplot(2, 2, 4)\n",
        "nop4.Exited.value_counts().plot(kind='bar', title='Churn Clientes com 4 Produtos', rot=0);"
      ]
    },
    {
      "cell_type": "markdown",
      "metadata": {
        "id": "4j4dyWPLFwJA"
      },
      "source": [
        "Há grandes diferenças no **churn** de acordo com o número de produtos. Todos usuários com $4$ produtos saíram do banco. Mais de $80\\%$ usuários com $3$ produtos saíram do banco. Usuários com menos produtos saem proporcionalmente menos do banco."
      ]
    },
    {
      "cell_type": "markdown",
      "metadata": {
        "id": "f-kncEzk45_f"
      },
      "source": [
        "### Variáveis qualitativas"
      ]
    },
    {
      "cell_type": "markdown",
      "metadata": {
        "id": "PMdDPn34xyhr"
      },
      "source": [
        "#### País"
      ]
    },
    {
      "cell_type": "code",
      "execution_count": null,
      "metadata": {
        "id": "rNY4xle6uX6v"
      },
      "outputs": [],
      "source": [
        "france = df[df['Geography'] == 'France']\n",
        "germany = df[df['Geography'] == 'Germany']\n",
        "spain = df[df['Geography'] == 'Spain']"
      ]
    },
    {
      "cell_type": "code",
      "execution_count": null,
      "metadata": {
        "colab": {
          "base_uri": "https://localhost:8080/"
        },
        "id": "9AvHJhe9yoWS",
        "outputId": "1c2b9cf1-3096-4caf-f2d5-242f15612da8"
      },
      "outputs": [],
      "source": [
        "france.Exited.value_counts() / sum(france.Exited.value_counts())"
      ]
    },
    {
      "cell_type": "code",
      "execution_count": null,
      "metadata": {
        "colab": {
          "base_uri": "https://localhost:8080/"
        },
        "id": "hNSXOUDoyxfV",
        "outputId": "316f77ca-e6c5-44e3-82be-cc245f937db9"
      },
      "outputs": [],
      "source": [
        "germany.Exited.value_counts() / sum(germany.Exited.value_counts())"
      ]
    },
    {
      "cell_type": "code",
      "execution_count": null,
      "metadata": {
        "colab": {
          "base_uri": "https://localhost:8080/"
        },
        "id": "8wx4XrSay5sc",
        "outputId": "69e7334e-43ca-44c4-eb91-df50e09df95e"
      },
      "outputs": [],
      "source": [
        "spain.Exited.value_counts() / sum(spain.Exited.value_counts())"
      ]
    },
    {
      "cell_type": "code",
      "execution_count": null,
      "metadata": {
        "colab": {
          "base_uri": "https://localhost:8080/",
          "height": 391
        },
        "id": "pUt3bw9512tg",
        "outputId": "4d688c0a-f595-4405-d08b-749d6999fcb9"
      },
      "outputs": [],
      "source": [
        "plt.figure(figsize=(15,4))\n",
        "plt.subplot(1, 3, 1)\n",
        "france.Exited.value_counts().plot(kind='bar', title='Churn Clientes na França', rot=0);\n",
        "plt.subplot(1, 3, 2)\n",
        "germany.Exited.value_counts().plot(kind='bar', title='Churn Clientes na Alemanha', rot=0);\n",
        "plt.subplot(1, 3, 3)\n",
        "spain.Exited.value_counts().plot(kind='bar', title='Churn Clientes na Espanha', rot=0);"
      ]
    },
    {
      "cell_type": "markdown",
      "metadata": {
        "id": "7ARmBp8xzcCO"
      },
      "source": [
        "Observamos resultado parecido para usuários da França e Espanha, enquanto usuários da Alemanha tem maior tendência de deixar o banco em relação aos outros países."
      ]
    },
    {
      "cell_type": "markdown",
      "metadata": {
        "id": "6M2549em0nVI"
      },
      "source": [
        "Vamos fazer um mapeamento da variável para uma variável categórica, uma necessidade para aplicação de alguns algoritmos."
      ]
    },
    {
      "cell_type": "code",
      "execution_count": null,
      "metadata": {
        "id": "5fEpbDte1K3I"
      },
      "outputs": [],
      "source": [
        "df['Geography'] = df['Geography'].map({'France': 1, 'Germany': 2, 'Spain': 3})"
      ]
    },
    {
      "cell_type": "markdown",
      "metadata": {
        "id": "73azozy1x2H4"
      },
      "source": [
        "#### Gênero"
      ]
    },
    {
      "cell_type": "code",
      "execution_count": null,
      "metadata": {
        "id": "CSBkU3KO1g8v"
      },
      "outputs": [],
      "source": [
        "female = df[df['Gender'] == 'Female']\n",
        "male = df[df['Gender'] == 'Male']"
      ]
    },
    {
      "cell_type": "code",
      "execution_count": null,
      "metadata": {
        "colab": {
          "base_uri": "https://localhost:8080/"
        },
        "id": "aLMRooFu19B6",
        "outputId": "023056c5-5b13-49a8-bffc-3d9ce7afdffd"
      },
      "outputs": [],
      "source": [
        "female.Exited.value_counts() / sum(female.Exited.value_counts())"
      ]
    },
    {
      "cell_type": "code",
      "execution_count": null,
      "metadata": {
        "colab": {
          "base_uri": "https://localhost:8080/"
        },
        "id": "XMxOfdSX2CBA",
        "outputId": "32c11662-4f35-4629-8bdb-91f790a2843e"
      },
      "outputs": [],
      "source": [
        "male.Exited.value_counts() / sum(male.Exited.value_counts())"
      ]
    },
    {
      "cell_type": "code",
      "execution_count": null,
      "metadata": {
        "colab": {
          "base_uri": "https://localhost:8080/",
          "height": 391
        },
        "id": "TH38jZOk3-UY",
        "outputId": "1a583f84-5a10-47fa-bb47-b415bbfbd861"
      },
      "outputs": [],
      "source": [
        "plt.figure(figsize=(10,4))\n",
        "plt.subplot(1, 2, 1)\n",
        "female.Exited.value_counts().plot(kind='bar', title='Churn Clientes do Gênero F', rot=0);\n",
        "plt.subplot(1, 2, 2)\n",
        "male.Exited.value_counts().plot(kind='bar', title='Churn Clientes do Gênero M', rot=0);"
      ]
    },
    {
      "cell_type": "markdown",
      "metadata": {
        "id": "Mq-4J1A32QIK"
      },
      "source": [
        "Observamos que proporcionalmente há maior saída do banco entre mulheres do que entre homens."
      ]
    },
    {
      "cell_type": "markdown",
      "metadata": {
        "id": "_hX68zoU4SIF"
      },
      "source": [
        "Vamos fazer um mapeamento da variável para uma variável categórica, uma necessidade para aplicação de alguns algoritmos."
      ]
    },
    {
      "cell_type": "code",
      "execution_count": null,
      "metadata": {
        "id": "6n6GrEcy4AEH"
      },
      "outputs": [],
      "source": [
        "df['Gender'] = df['Gender'].map({'Female': 1, 'Male': 2})"
      ]
    },
    {
      "cell_type": "markdown",
      "metadata": {
        "id": "pVfB6D8CyXMn"
      },
      "source": [
        "#### Cartão de Crédito"
      ]
    },
    {
      "cell_type": "code",
      "execution_count": null,
      "metadata": {
        "id": "cu7ZqIvf40bc"
      },
      "outputs": [],
      "source": [
        "noCrCard = df[df['HasCrCard'] == 0]\n",
        "CrCard = df[df['HasCrCard'] == 1]"
      ]
    },
    {
      "cell_type": "code",
      "execution_count": null,
      "metadata": {
        "colab": {
          "base_uri": "https://localhost:8080/"
        },
        "id": "zF31GFwc5Ns7",
        "outputId": "7a4ed77c-4620-4f33-ba40-ccfedb5117e6"
      },
      "outputs": [],
      "source": [
        "noCrCard.Exited.value_counts() / sum(noCrCard.Exited.value_counts())"
      ]
    },
    {
      "cell_type": "code",
      "execution_count": null,
      "metadata": {
        "colab": {
          "base_uri": "https://localhost:8080/"
        },
        "id": "3VvqaS4C5UdR",
        "outputId": "ceb5f7a1-97e6-4ce3-f24c-a61ccacb25b5"
      },
      "outputs": [],
      "source": [
        "CrCard.Exited.value_counts() / sum(CrCard.Exited.value_counts())"
      ]
    },
    {
      "cell_type": "code",
      "execution_count": null,
      "metadata": {
        "colab": {
          "base_uri": "https://localhost:8080/",
          "height": 391
        },
        "id": "FkcX2h3h4uxQ",
        "outputId": "2f4825f7-f19e-4073-c30c-1578e8ec8c15"
      },
      "outputs": [],
      "source": [
        "plt.figure(figsize=(10,4))\n",
        "plt.subplot(1, 2, 1)\n",
        "noCrCard.Exited.value_counts().plot(kind='bar', title='Churn Clientes sem Cartão', rot=0);\n",
        "plt.subplot(1, 2, 2)\n",
        "CrCard.Exited.value_counts().plot(kind='bar', title='Churn Clientes com Cartão', rot=0);"
      ]
    },
    {
      "cell_type": "markdown",
      "metadata": {
        "id": "OjoxNXqd5jHh"
      },
      "source": [
        "Observa-se proporção parecida de **churn** entre ambos os grupos."
      ]
    },
    {
      "cell_type": "markdown",
      "metadata": {
        "id": "ubQElXf1y1T2"
      },
      "source": [
        "#### Atividade"
      ]
    },
    {
      "cell_type": "code",
      "execution_count": null,
      "metadata": {
        "id": "MuLyZBNt58fW"
      },
      "outputs": [],
      "source": [
        "noActiveMember = df[df['IsActiveMember'] == 0]\n",
        "ActiveMember = df[df['IsActiveMember'] == 1]"
      ]
    },
    {
      "cell_type": "code",
      "execution_count": null,
      "metadata": {
        "colab": {
          "base_uri": "https://localhost:8080/"
        },
        "id": "x834Ctcy6P05",
        "outputId": "eb9de94e-fb57-493a-a871-779c79334d1c"
      },
      "outputs": [],
      "source": [
        "noActiveMember.Exited.value_counts() / sum(noActiveMember.Exited.value_counts())"
      ]
    },
    {
      "cell_type": "code",
      "execution_count": null,
      "metadata": {
        "colab": {
          "base_uri": "https://localhost:8080/"
        },
        "id": "fe0FDFaH6YsX",
        "outputId": "723fd8e9-cbfe-4247-82d2-514f0392e663"
      },
      "outputs": [],
      "source": [
        "ActiveMember.Exited.value_counts() / sum(ActiveMember.Exited.value_counts())"
      ]
    },
    {
      "cell_type": "code",
      "execution_count": null,
      "metadata": {
        "colab": {
          "base_uri": "https://localhost:8080/",
          "height": 391
        },
        "id": "7dqtInX85fEe",
        "outputId": "bae78bb0-557f-4dad-b3aa-012979df4867"
      },
      "outputs": [],
      "source": [
        "plt.figure(figsize=(10,4))\n",
        "plt.subplot(1, 2, 1)\n",
        "noActiveMember.Exited.value_counts().plot(kind='bar', title='Churn Clientes Inativos', rot=0);\n",
        "plt.subplot(1, 2, 2)\n",
        "ActiveMember.Exited.value_counts().plot(kind='bar', title='Churn Clientes Ativos', rot=0);"
      ]
    },
    {
      "cell_type": "markdown",
      "metadata": {
        "id": "vTKIFWFo6hc3"
      },
      "source": [
        "Observa-se maior **churn** entre os usuários que não estão ativos."
      ]
    },
    {
      "cell_type": "markdown",
      "metadata": {
        "id": "00sW3vEG6_3b"
      },
      "source": [
        "#### Reclamação"
      ]
    },
    {
      "cell_type": "code",
      "execution_count": null,
      "metadata": {
        "id": "Z5owfocO61AW"
      },
      "outputs": [],
      "source": [
        "noComplain = df[df['Complain'] == 0]\n",
        "Complain = df[df['Complain'] == 1]"
      ]
    },
    {
      "cell_type": "code",
      "execution_count": null,
      "metadata": {
        "colab": {
          "base_uri": "https://localhost:8080/"
        },
        "id": "hNRcutau7AjE",
        "outputId": "89d69dbb-7f15-41bf-8719-ee6ed8585ba5"
      },
      "outputs": [],
      "source": [
        "noComplain.Exited.value_counts() / sum(noComplain.Exited.value_counts())"
      ]
    },
    {
      "cell_type": "code",
      "execution_count": null,
      "metadata": {
        "colab": {
          "base_uri": "https://localhost:8080/"
        },
        "id": "uEofieNS7I23",
        "outputId": "858d26a4-cb42-4b07-e5d3-8c503498394e"
      },
      "outputs": [],
      "source": [
        "Complain.Exited.value_counts() / sum(Complain.Exited.value_counts())"
      ]
    },
    {
      "cell_type": "code",
      "execution_count": null,
      "metadata": {
        "colab": {
          "base_uri": "https://localhost:8080/",
          "height": 391
        },
        "id": "jFMzMWc37LH_",
        "outputId": "ec27ae32-ce6d-46a8-c264-6ebda68d8d7d"
      },
      "outputs": [],
      "source": [
        "plt.figure(figsize=(10,4))\n",
        "plt.subplot(1, 2, 1)\n",
        "noComplain.Exited.value_counts().plot(kind='bar', title='Churn Clientes sem Reclamações', rot=0);\n",
        "plt.subplot(1, 2, 2)\n",
        "Complain.Exited.value_counts().plot(kind='bar', title='Churn Clientes com Reclamações', rot=0);"
      ]
    },
    {
      "cell_type": "markdown",
      "metadata": {
        "id": "50FKAh1p9Fui"
      },
      "source": [
        "Observa-se que a variável *Complain* (o usuário ter feito ou não reclamação) é o que mais diferencia os usuários. Quase todos usuários que fizeram reclamações saíram do banco, enquanto poucos usuários saem do banco sem ter feito uma reclamação antes."
      ]
    },
    {
      "cell_type": "markdown",
      "metadata": {
        "id": "8fRVa7QL7g1x"
      },
      "source": [
        "#### Tipo do Cartão"
      ]
    },
    {
      "cell_type": "code",
      "execution_count": null,
      "metadata": {
        "id": "BqKIwiv3AhEB"
      },
      "outputs": [],
      "source": [
        "silver = df[df['CardType'] == 'SILVER']\n",
        "gold = df[df['CardType'] == 'GOLD']\n",
        "diamond = df[df['CardType'] == 'DIAMOND']\n",
        "platinum = df[df['CardType'] == 'PLATINUM']"
      ]
    },
    {
      "cell_type": "code",
      "execution_count": null,
      "metadata": {
        "colab": {
          "base_uri": "https://localhost:8080/"
        },
        "id": "ms-Be8FQA3e-",
        "outputId": "ad2433da-95ac-42ff-c8df-56df5617077a"
      },
      "outputs": [],
      "source": [
        "silver.Exited.value_counts() / sum(silver.Exited.value_counts())"
      ]
    },
    {
      "cell_type": "code",
      "execution_count": null,
      "metadata": {
        "colab": {
          "base_uri": "https://localhost:8080/"
        },
        "id": "pDx14OUMA96K",
        "outputId": "83ecdab6-d997-4177-8cde-f0e3e6e2ae00"
      },
      "outputs": [],
      "source": [
        "gold.Exited.value_counts() / sum(gold.Exited.value_counts())"
      ]
    },
    {
      "cell_type": "code",
      "execution_count": null,
      "metadata": {
        "colab": {
          "base_uri": "https://localhost:8080/"
        },
        "id": "qYykSRLgBIhx",
        "outputId": "8e395ab1-785a-4035-f439-41228adb7fec"
      },
      "outputs": [],
      "source": [
        "platinum.Exited.value_counts() / sum(platinum.Exited.value_counts())"
      ]
    },
    {
      "cell_type": "code",
      "execution_count": null,
      "metadata": {
        "colab": {
          "base_uri": "https://localhost:8080/"
        },
        "id": "Dy_ghdxoBC6s",
        "outputId": "4980e3c7-86c9-4d55-9990-696402e343e3"
      },
      "outputs": [],
      "source": [
        "diamond.Exited.value_counts() / sum(diamond.Exited.value_counts())"
      ]
    },
    {
      "cell_type": "code",
      "execution_count": null,
      "metadata": {
        "colab": {
          "base_uri": "https://localhost:8080/",
          "height": 699
        },
        "id": "Gva9z-i675_E",
        "outputId": "0618c094-f1aa-455f-b57a-227046e24794"
      },
      "outputs": [],
      "source": [
        "plt.figure(figsize=(10,8))\n",
        "plt.subplot(2, 2, 1)\n",
        "silver.Exited.value_counts().plot(kind='bar', title='Churn Clientes com Cartão Silver', rot=0);\n",
        "plt.subplot(2, 2, 2)\n",
        "gold.Exited.value_counts().plot(kind='bar', title='Churn Clientes com Cartão Gold', rot=0);\n",
        "plt.subplot(2, 2, 3)\n",
        "platinum.Exited.value_counts().plot(kind='bar', title='Churn Clientes com Cartão Platinum', rot=0);\n",
        "plt.subplot(2, 2, 4)\n",
        "diamond.Exited.value_counts().plot(kind='bar', title='Churn Clientes com Cartão Diamond', rot=0);"
      ]
    },
    {
      "cell_type": "markdown",
      "metadata": {
        "id": "dRJNwy0BBOB9"
      },
      "source": [
        "Não se observa grandes diferenças de **churn** entre os tipos de cartão."
      ]
    },
    {
      "cell_type": "markdown",
      "metadata": {
        "id": "cPrvczAOBra6"
      },
      "source": [
        "Vamos fazer um mapeamento da variável para uma variável categórica, uma necessidade para aplicação de alguns algoritmos."
      ]
    },
    {
      "cell_type": "code",
      "execution_count": null,
      "metadata": {
        "id": "_P6tvEvMBuYe"
      },
      "outputs": [],
      "source": [
        "df['CardType'] = df['CardType'].map({'SILVER': 1, 'GOLD': 2, 'PLATINUM': 3, 'DIAMOND': 4})"
      ]
    },
    {
      "cell_type": "markdown",
      "metadata": {
        "id": "RoFSf0_O8Yra"
      },
      "source": [
        "#### Nível de Satisfação"
      ]
    },
    {
      "cell_type": "code",
      "execution_count": null,
      "metadata": {
        "id": "ec8tITXIEFgv"
      },
      "outputs": [],
      "source": [
        "ss1 = df[df['SatisfactionScore'] == 1]\n",
        "ss2 = df[df['SatisfactionScore'] == 2]\n",
        "ss3 = df[df['SatisfactionScore'] == 3]\n",
        "ss4 = df[df['SatisfactionScore'] == 4]\n",
        "ss5 = df[df['SatisfactionScore'] == 5]"
      ]
    },
    {
      "cell_type": "code",
      "execution_count": null,
      "metadata": {
        "colab": {
          "base_uri": "https://localhost:8080/"
        },
        "id": "g_LqWABxEWnR",
        "outputId": "b0d04292-5e44-486b-fc19-776607952146"
      },
      "outputs": [],
      "source": [
        "ss1.Exited.value_counts() / sum(ss1.Exited.value_counts())"
      ]
    },
    {
      "cell_type": "code",
      "execution_count": null,
      "metadata": {
        "colab": {
          "base_uri": "https://localhost:8080/"
        },
        "id": "7yj5fAZMEbgk",
        "outputId": "665df5cd-5f47-41f8-b6e8-e113a094eb5e"
      },
      "outputs": [],
      "source": [
        "ss2.Exited.value_counts() / sum(ss2.Exited.value_counts())"
      ]
    },
    {
      "cell_type": "code",
      "execution_count": null,
      "metadata": {
        "colab": {
          "base_uri": "https://localhost:8080/"
        },
        "id": "noco0_LsEe2M",
        "outputId": "cddcbde6-c5b2-49e0-d7af-f507b2f426f1"
      },
      "outputs": [],
      "source": [
        "ss3.Exited.value_counts() / sum(ss3.Exited.value_counts())"
      ]
    },
    {
      "cell_type": "code",
      "execution_count": null,
      "metadata": {
        "colab": {
          "base_uri": "https://localhost:8080/"
        },
        "id": "CZMaEhfqEh5G",
        "outputId": "1b28f1e9-18a3-43d4-a0ba-4b4d16496083"
      },
      "outputs": [],
      "source": [
        "ss4.Exited.value_counts() / sum(ss4.Exited.value_counts())"
      ]
    },
    {
      "cell_type": "code",
      "execution_count": null,
      "metadata": {
        "colab": {
          "base_uri": "https://localhost:8080/"
        },
        "id": "clCCmR8QEk4b",
        "outputId": "1de71d63-03ab-4386-c469-dc6cc5f19b95"
      },
      "outputs": [],
      "source": [
        "ss5.Exited.value_counts() / sum(ss5.Exited.value_counts())"
      ]
    },
    {
      "cell_type": "code",
      "execution_count": null,
      "metadata": {
        "colab": {
          "base_uri": "https://localhost:8080/",
          "height": 699
        },
        "id": "SR69qW7T8ldg",
        "outputId": "b1473d06-80c7-4bde-cc83-cef022f4c8f0"
      },
      "outputs": [],
      "source": [
        "plt.figure(figsize=(15,8))\n",
        "plt.subplot(2, 3, 1)\n",
        "ss1.Exited.value_counts().plot(kind='bar', title='Churn Clientes Satisfação 1', rot=0);\n",
        "plt.subplot(2, 3, 2)\n",
        "ss2.Exited.value_counts().plot(kind='bar', title='Churn Clientes Satisfação 2', rot=0);\n",
        "plt.subplot(2, 3, 3)\n",
        "ss3.Exited.value_counts().plot(kind='bar', title='Churn Clientes Satisfação 3', rot=0);\n",
        "plt.subplot(2, 3, 4)\n",
        "ss4.Exited.value_counts().plot(kind='bar', title='Churn Clientes Satisfação 4', rot=0);\n",
        "plt.subplot(2, 3, 5)\n",
        "ss5.Exited.value_counts().plot(kind='bar', title='Churn Clientes Satisfação 5', rot=0);"
      ]
    },
    {
      "cell_type": "markdown",
      "metadata": {
        "id": "Xi0IUSpJEoFG"
      },
      "source": [
        "Não há diferença substancial de **churn** entre as notas de satisfação."
      ]
    },
    {
      "cell_type": "markdown",
      "metadata": {
        "id": "F6SwbWgL0tOs"
      },
      "source": [
        "### One-hot-encoding e normalização"
      ]
    },
    {
      "cell_type": "markdown",
      "metadata": {
        "id": "wjzFWZjjgkIQ"
      },
      "source": [
        "O one-hot-encoding transforma uma variável categórica com mais de duas classes em várias variáveis binárias. A quantidade de variáveis criadas é o número de classes da variável original.\n",
        "\n",
        "Quando fazemos o mapeamento de uma variável categórica (qualitativa) como variável numérica (quantitativa) uma ordem é implicitamente adicionada na variável. Assim sendo, o one-hot-encoding é interessante para as variáveis nominais porque mantém toda informação das classes originais, mas elimina a ordem implícita criada ao mapear um variável categórica como numérica."
      ]
    },
    {
      "cell_type": "code",
      "execution_count": null,
      "metadata": {
        "id": "qDMjn6Lq0xAw"
      },
      "outputs": [],
      "source": [
        "df = pd.get_dummies(df, columns=['Geography'])"
      ]
    },
    {
      "cell_type": "markdown",
      "metadata": {
        "id": "TWV13hjajCJp"
      },
      "source": [
        "Variáveis com ordem de grandeza e/ou variâncias diferentes podem gerar distorções na aplicação dos algoritmos. A normalização busca corrigir essas distorções."
      ]
    },
    {
      "cell_type": "code",
      "execution_count": null,
      "metadata": {
        "id": "9HM4v4x-rrAN"
      },
      "outputs": [],
      "source": [
        "scaler = MinMaxScaler()\n",
        "df[['CreditScore','Age','Tenure','Balance','EstimatedSalary','PointEarned','NumOfProducts','SatisfactionScore','CardType']] = scaler.fit_transform(df[['CreditScore','Age','Tenure','Balance','EstimatedSalary','PointEarned','NumOfProducts','SatisfactionScore','CardType']])"
      ]
    },
    {
      "cell_type": "code",
      "execution_count": null,
      "metadata": {
        "colab": {
          "base_uri": "https://localhost:8080/",
          "height": 270
        },
        "id": "CZZ0GvYTg2Nm",
        "outputId": "3ff101f4-043f-4269-89eb-8aa77f19401e"
      },
      "outputs": [],
      "source": [
        "df.head(5)"
      ]
    },
    {
      "cell_type": "markdown",
      "metadata": {},
      "source": [
        "### Correlação entre variáveis\n",
        "\n",
        "Revertemos o mapeamento da variável **Exited** para cálculo da correlação e aplicação dos algoritmos."
      ]
    },
    {
      "cell_type": "code",
      "execution_count": null,
      "metadata": {},
      "outputs": [],
      "source": [
        "df['Exited'] = df['Exited'].map({'~CHURN': 0, 'CHURN': 1})"
      ]
    },
    {
      "cell_type": "code",
      "execution_count": null,
      "metadata": {},
      "outputs": [],
      "source": [
        "plt.figure(figsize=(8,8))\n",
        "sns.heatmap(df.corr(), cmap='vlag');\n",
        "plt.show()"
      ]
    },
    {
      "cell_type": "markdown",
      "metadata": {},
      "source": [
        "Podemos perceber a fortíssima correlação entre as variáveis **Complain** e **Exited**."
      ]
    },
    {
      "cell_type": "markdown",
      "metadata": {
        "id": "1snXh26ybFYQ"
      },
      "source": [
        "# Aplicação dos algoritmos"
      ]
    },
    {
      "cell_type": "code",
      "execution_count": null,
      "metadata": {
        "id": "-QS77QoohbqR"
      },
      "outputs": [],
      "source": [
        "nk = 10 # número de pastas"
      ]
    },
    {
      "cell_type": "code",
      "execution_count": null,
      "metadata": {
        "id": "J1H0dWHNj8jd"
      },
      "outputs": [],
      "source": [
        "Y = df[['Exited']].values.ravel()\n",
        "\n",
        "df.drop(columns=['Exited'], inplace=True)\n",
        "\n",
        "X = df.values"
      ]
    },
    {
      "cell_type": "markdown",
      "metadata": {
        "id": "Axzd3I0xbdB6"
      },
      "source": [
        "## K-Nearest Neighbors (KNN)"
      ]
    },
    {
      "cell_type": "markdown",
      "metadata": {
        "id": "irKSrPbVU06w"
      },
      "source": [
        "O K-Nearest Neighbors (KNN) é um algoritmo de aprendizado de máquina supervisionado usado para problemas de classificação e regressão. A ideia principal do KNN é que objetos semelhantes tendem a estar próximos uns dos outros no espaço de características. O algoritmo faz a predição de uma nova observação com base nos rótulos das observações de treinamento mais próximas a ele.\n",
        "\n",
        "É importante testar diferentes valores de *k*, a fim de evitar casos de underfitting e overfitting. Também é interessante treinar o modelo com diferentes métricas de distância. Para cada problema, uma métrica diferente pode  tornar o algoritmo mais eficiente.\n",
        "\n",
        "\n"
      ]
    },
    {
      "cell_type": "markdown",
      "metadata": {
        "id": "cs15Kkx6d7Nq"
      },
      "source": [
        "Aplicamos o algoritmo KNN com quatro diferentes métricas de distância (*euclidiana*, *manhattan*, *chebyshev* e *minhowski*). Mais valores de $k$ foram testados do que os valores apresentados abaixo, entretanto, para as quatro métricas a medida F1-Score continuava decrescendo para valores maiores de $k$. Então optamos por deixar na versão final valores de $k$ de $1$ a $10$.\n"
      ]
    },
    {
      "cell_type": "code",
      "execution_count": null,
      "metadata": {
        "id": "EyqbYoymzi9s"
      },
      "outputs": [],
      "source": [
        "def KNN(X, Y, nk, k_range):\n",
        "    metrics = ['euclidean', 'manhattan', 'chebyshev', 'minkowski']\n",
        "\n",
        "    for metric in metrics:\n",
        "        vk = []\n",
        "        vmetric = []\n",
        "        vscore = []\n",
        "        for k in range(1, k_range, 2):\n",
        "            knn = KNeighborsClassifier(n_neighbors=k, metric=metric)\n",
        "            cv = cross_validate(knn, X, Y, scoring = 'f1', cv=nk)\n",
        "            vscore.append(cv['test_score'].mean())\n",
        "            vk.append(k)\n",
        "            vmetric.append(metric)\n",
        "\n",
        "        plt.figure(figsize=(6,4))\n",
        "        plt.plot(vk, vscore, '-bo')\n",
        "        plt.xlabel('k')\n",
        "        plt.ylabel('F1 Score')\n",
        "        plt.title(metric)\n",
        "        plt.show(True)\n",
        "        best_k = vk[np.argmax(vscore)]\n",
        "        acc = vscore[np.argmax(vscore)]\n",
        "        print('Melhor k:', best_k)\n",
        "        print('F1 Score:', acc)"
      ]
    },
    {
      "cell_type": "code",
      "execution_count": null,
      "metadata": {
        "colab": {
          "base_uri": "https://localhost:8080/",
          "height": 1000
        },
        "id": "onEJI7H5V0UF",
        "outputId": "4d7cc70b-23f8-4318-c29d-03eaa4241f4c"
      },
      "outputs": [],
      "source": [
        "KNN(X, Y, nk, 11)"
      ]
    },
    {
      "cell_type": "markdown",
      "metadata": {
        "id": "z6FKIRX7d_7E"
      },
      "source": [
        "Observamos que a métrica *manhattan* foi a com pior desempenho, mas ainda assim bom com F1-Score = $0.9951$. Para as outras métricas, obtivemos F1-Score = $0.9966$. Esse valor também foi encontrado em outros algoritmos abaixo, bem como foi o melhor valor para o dataset. Para as métricas *chebyshev* e *minkowski*, esse valor foi encontrado com $k = 3$, enquanto para distância euclidiana o valor de $k$ foi $5$."
      ]
    },
    {
      "cell_type": "markdown",
      "metadata": {
        "id": "w_SWzzGw43pb"
      },
      "source": [
        "## Naive-Bayes"
      ]
    },
    {
      "cell_type": "markdown",
      "metadata": {
        "id": "SaUTt3cdeDa5"
      },
      "source": [
        "O algoritmo Naive Bayes é um método de classificação probabilístico baseado no Teorema de Bayes, que descreve a probabilidade condicional de um evento dado o conhecimento prévio sobre as condições relacionadas a ele. O Naive Bayes assume que as características dos dados são independentes entre si, o que é uma simplificação forte (por isso, Naive - ingênuo), mas útil em muitos casos. O algoritmo Naive Bayes é rápido e eficiente, mesmo em grandes conjuntos de dados. Ele é especialmente adequado para problemas de classificação com múltiplas classes e alta dimensionalidade. Além disso, o Naive Bayes é menos suscetível a overfitting em comparação com outros algoritmos mais complexos.\n",
        "\n",
        "Para o algoritmo de Naive-Bayes não precisamos selecionar hiperparâmetros. O que devemos fazer é escolher algumas variações dos modelos que supõem diferentes distribuições condicionais para as variáveis.\n"
      ]
    },
    {
      "cell_type": "markdown",
      "metadata": {
        "id": "kVw2_-p4eHLu"
      },
      "source": [
        "Consideramos as distribuições Normal (Gaussiana), Bernoulli, Multinomial e *Complement* (uma variação do Multinomial).\n",
        "\n",
        "\n"
      ]
    },
    {
      "cell_type": "code",
      "execution_count": null,
      "metadata": {
        "id": "jEQxOGOjV36M"
      },
      "outputs": [],
      "source": [
        "def NaiveBayes(X, Y, nk):\n",
        "    model = GaussianNB()\n",
        "    cv = cross_validate(model, X, Y, scoring = 'f1', cv = nk)\n",
        "    print(f\"Gaussian: F1-Score = {cv['test_score'].mean()}\")\n",
        "\n",
        "    model = BernoulliNB()\n",
        "    cv = cross_validate(model, X, Y, scoring = 'f1', cv = nk)\n",
        "    print(f\"Bernoulli: F1-Score = {cv['test_score'].mean()}\")\n",
        "\n",
        "    model = MultinomialNB()\n",
        "    cv = cross_validate(model, X, Y, scoring = 'f1', cv = nk)\n",
        "    print(f\"Multinimial: F1-Score = {cv['test_score'].mean()}\")\n",
        "\n",
        "    model = ComplementNB()\n",
        "    cv = cross_validate(model, X, Y, scoring = 'f1', cv = nk)\n",
        "    print(f\"Complement: F1-Score = {cv['test_score'].mean()}\")"
      ]
    },
    {
      "cell_type": "code",
      "execution_count": null,
      "metadata": {
        "colab": {
          "base_uri": "https://localhost:8080/"
        },
        "id": "Kg9JAOlIWm5M",
        "outputId": "b78fba8a-631d-4302-98f4-d329ca23f433"
      },
      "outputs": [],
      "source": [
        "NaiveBayes(X, Y, nk)"
      ]
    },
    {
      "cell_type": "markdown",
      "metadata": {
        "id": "ylkB-lZceLJR"
      },
      "source": [
        "Percebemos que o modelo Complement foi o que apresentou pior resultado, sendo também inferior aos modelos KNN vistos acima. As demais distribuições proporcionaram resultados iguais aos melhores do KNN.\n",
        "\n"
      ]
    },
    {
      "cell_type": "markdown",
      "metadata": {
        "id": "q3AlZa1O6rGM"
      },
      "source": [
        "## Árvore de Decisão\n",
        "\n",
        "Uma árvore de decisão é uma estrutura hierárquica composta por nós e arestas. Cada nó representa uma decisão ou um teste a ser realizado sobre um atributo específico, enquanto as arestas representam o resultado desse teste. Convencionalmente, arestas à esquerda são direcionadas a resultados verdadeiros e arestas à direita a resultados falsos. O nó raiz da árvore representa o atributo mais importante para fazer a primeira decisão, enquanto os nós folha representam as classes ou valores previstos.\n",
        "\n",
        "Existem vários critérios de divisão em árvores de decisão, os quais podem afetar no processo de construção da árvore. Nesse sentido, faremos testes considerando diferentes critérios: Impureza de Gini (mede a probabilidade de classificar erroneamente uma amostra aleatória, ou seja, quanto menor a impureza de Gini, melhor a qualidade da divisão - mais \"pura\" ela é) e Entropia (mede a quantidade média de informação necessária para descrever a classificação de uma amostra, ou seja, quanto maior a entropia, mais impura é a divisão).\n",
        "\n",
        "Além dos critérios de divisão, também podemos variar o número de estimadores considerados para cada critério. Apesar de, teoricamente, se aumentarmos o número de estimadores geralmente melhoramos o desempenho preditivo e a capacidade de generalização do modelo, percebemos um ponto de saturação além do qual o aumento no número de estimadores não forneceu benefícios significativos na classificação. Assim, consideraremos apenas quantidades de estimadores no intervalo [5,25]."
      ]
    },
    {
      "cell_type": "code",
      "execution_count": null,
      "metadata": {
        "id": "Mdwj61Ku6qlO"
      },
      "outputs": [],
      "source": [
        "def tree_decision(X, Y, nk, max_depth=None, n_estimator_a=2, n_estimator_z=12, n_estimator_r=3):\n",
        "    # Define as métricas utilizadas e números de estimadores\n",
        "    metrics = ['gini', 'entropy']\n",
        "    estimators = [i for i in range(n_estimator_a, n_estimator_z, n_estimator_r)]\n",
        "\n",
        "    scores = {'bagging': (0, '', 0), 'ada': (0, '', 0), 'random': (0, '', 0)}\n",
        "\n",
        "    # Para cada métrica\n",
        "    for metric in metrics:\n",
        "        # Chama o classificador para diferentes métricas\n",
        "        dtc = tree.DecisionTreeClassifier(criterion=metric, max_depth=max_depth, random_state=101)\n",
        "        # Para cada valor de estimador:\n",
        "        for n_estimators in estimators:\n",
        "            # Bagging Classifier\n",
        "            model_bagging = BaggingClassifier(estimator=dtc, n_estimators=n_estimators)\n",
        "            cv_bagging = cross_validate(model_bagging, X, Y, scoring='f1', cv=nk)\n",
        "            scores['bagging'] = max(scores['bagging'], (cv_bagging['test_score'].mean(), metric, n_estimators))\n",
        "            # Ada Boost Classifier\n",
        "            model_ada_boost = AdaBoostClassifier(estimator=dtc, n_estimators=n_estimators, learning_rate=1)\n",
        "            cv_ada_boost = cross_validate(model_ada_boost, X, Y, scoring='f1', cv=nk)\n",
        "            scores['ada'] = max(scores['ada'], (cv_ada_boost['test_score'].mean(), metric, n_estimators))\n",
        "            # Random Forest Classifier\n",
        "            model_random_forest = RandomForestClassifier(n_estimators = n_estimators)\n",
        "            cv_random_forest = cross_validate(model_random_forest, X, Y, scoring='f1', cv=nk)\n",
        "            scores['random'] = max(scores['random'], (cv_random_forest['test_score'].mean(), metric, n_estimators))\n",
        "        plt.figure(figsize=(15,6))\n",
        "        plt.title(f'{metric}')\n",
        "        tree.plot_tree(dtc.fit(X,Y), filled=True, class_names=['~Churn', 'Churn'], feature_names=df.columns)\n",
        "        plt.show(True)\n",
        "\n",
        "    print(scores)\n",
        "    print(\"Legenda: {'classificador': (score, critério, número_estimadores)}\")"
      ]
    },
    {
      "cell_type": "code",
      "execution_count": null,
      "metadata": {
        "colab": {
          "base_uri": "https://localhost:8080/",
          "height": 1000
        },
        "id": "iiQvdze5YfRQ",
        "outputId": "9c1f7faa-abdf-4061-a365-ca72a93cac80"
      },
      "outputs": [],
      "source": [
        "tree_decision(X, Y, nk)"
      ]
    },
    {
      "cell_type": "markdown",
      "metadata": {
        "id": "Q2N_JZkJGW__"
      },
      "source": [
        "Podemos \"podar\" a árvore de decisão, definindo uma profundidade máxima, a fim de simplificar a visualização do resultado. Como o atributo do nó raiz e os atributos de seus primeiros descendentes de menor grau segmentam bem os clientes em relação ao Churn, não ovtivemos prejuízos significativos na pontuação."
      ]
    },
    {
      "cell_type": "code",
      "execution_count": null,
      "metadata": {},
      "outputs": [],
      "source": [
        "tree_decision(X, Y, nk, max_depth=3)"
      ]
    },
    {
      "cell_type": "markdown",
      "metadata": {
        "id": "f9KO_qGqdrFY"
      },
      "source": [
        "Percebemos que os classificadores Random Forest e Bagging obtiveram um melhor desempenho, seguidos do Ada Boost. Observamos que na saída acima que os melhores resultados foram encontrados utilizando a medida *gini*. Os valores da medida F1-Score encontrada para os classificadores Bagging e Random Forest foram os mesmos dos melhores resultados dos classificadores Naive-Bayes. Foram testados valores maiores para o número de estimadores, mas observamos que poucos estimadores já produzem o melhor resultado."
      ]
    },
    {
      "cell_type": "markdown",
      "metadata": {
        "id": "KRMm5Ogh8vjm"
      },
      "source": [
        "## Multilayer Perceptron"
      ]
    },
    {
      "cell_type": "markdown",
      "metadata": {
        "id": "5Yt1SaBxLEIU"
      },
      "source": [
        "O Multilayer Perceptron (MLP) é um tipo de rede neural artificial, um modelo de aprendizado de máquina inspirado no funcionamento do cérebro humano. É composto por várias camadas de neurônios artificiais, incluindo uma camada de entrada, uma ou mais camadas ocultas e uma camada de saída.\n",
        "\n",
        "A camada de entrada seriam os dados que fornecemos. A camada de saída são as predições do algoritmo. As camadas ocultas realizam transformações nos dados que produzirão a camada de saída.\n",
        "\n",
        "Podemos selecionar a função de ativação utilizada no algoritmo. Cada neurônio aplica uma função de ativação à soma ponderada das suas entradas. Podem ser utilizadas funções não-lineares a fim de que o medelo aprenda relações complexas nos dados.\n",
        "\n",
        "Dentro do modelo também existem os pesos e viés (bias) associados a cada neurõnio. Na função utilizada não precisamos informar os pesos e viés, sendo necessário apenas definir o parâmetro *solver* que seleciona um algoritmo que busca otimizar a escolha dos pesos e viés."
      ]
    },
    {
      "cell_type": "markdown",
      "metadata": {
        "id": "OOV1USTXOPHJ"
      },
      "source": [
        "Ajustaremos o modelo usando diferentes *solvers* (*lbfgs*,*sgd*,*adam*) e *funções de ativação* (*identidade*, *logística*, *tangente hiperbólica* e *ReLU*).\n",
        "\n",
        "Foram testados diferentes quantidades de camadas e neurônios por camadas alterando o parâmetro **hidden_layer_sizes**. Mais camadas e neurônios por camadas não ajudaram no aumento do poder de predição. Assim sendo, deixamos os resultados obtidos com apenas uma camada e um neurônio."
      ]
    },
    {
      "cell_type": "code",
      "execution_count": null,
      "metadata": {
        "id": "xzRqU3Yc82ci"
      },
      "outputs": [],
      "source": [
        "def MultilayerPerceptron(X,Y,nk,max_iter = 1000,hidden_layer_sizes=(1)):\n",
        "    solvers = ['lbfgs','sgd','adam']\n",
        "    activations = ['identity', 'logistic', 'tanh', 'relu']\n",
        "    for solver in solvers:\n",
        "        for activation in activations:\n",
        "            model = MLPClassifier(solver=solver, alpha=1e-5, activation=activation, max_iter = max_iter,\n",
        "                            hidden_layer_sizes = hidden_layer_sizes, random_state=1)\n",
        "            cv = cross_validate(model, X, Y, scoring = \"f1\", cv = nk)\n",
        "            print(f\"{activation}--{solver}: F1-score = {cv['test_score'].mean()}\")"
      ]
    },
    {
      "cell_type": "code",
      "execution_count": null,
      "metadata": {
        "colab": {
          "base_uri": "https://localhost:8080/"
        },
        "id": "RCiMECNgXq05",
        "outputId": "d4edb316-98d0-45ca-d8fe-37f1f5d989ea"
      },
      "outputs": [],
      "source": [
        "MultilayerPerceptron(X, Y, nk)"
      ]
    },
    {
      "cell_type": "markdown",
      "metadata": {
        "id": "JH-oU3UbTFld"
      },
      "source": [
        "Podemos observar que os melhores resultados foram encontrados para todas as permutações de *funções de ativação* com os *solvers* *lbfgs* e *adam*. Para o *solver* *sgd* o resultado foi péssimo."
      ]
    },
    {
      "cell_type": "markdown",
      "metadata": {
        "id": "OXTnzLhYIkeH"
      },
      "source": [
        "# Seleção de variáveis e reaplicação dos algoritmos"
      ]
    },
    {
      "cell_type": "markdown",
      "metadata": {
        "id": "_Fnwk8Y-TAiV"
      },
      "source": [
        "O teste de permutação é um teste estatístico não exato sobre se as médias de duas variáveis são iguais. No nosso problema, a variável 1 é uma variável de interesse X condicionada ao usuário ter saído do banco, e a variável 2 é a mesma variável X condicionada ao usuário não ter saído do banco. Se as variáveis não apresentam mesma média (verificado com valor-p \"baixo\"), então a variável X pode nos ajudar com a predição."
      ]
    },
    {
      "cell_type": "code",
      "execution_count": null,
      "metadata": {
        "id": "tN2c1SosI5c3"
      },
      "outputs": [],
      "source": [
        "def permutation_test(data,variable):\n",
        "    num_permutations = 10_000\n",
        "    v_name = variable\n",
        "\n",
        "    v1 = np.array(data[data['Exited'] == 1][variable])\n",
        "    v2 = np.array(data[data['Exited'] == 0][variable])\n",
        "    observed_statistic = np.mean(v1) - np.mean(v2)\n",
        "\n",
        "    permutation_stats = np.zeros(num_permutations)\n",
        "    combined_data = np.concatenate([v1, v2])\n",
        "    for i in range(num_permutations):\n",
        "        np.random.shuffle(combined_data)\n",
        "        permuted_v1 = combined_data[:len(v1)]\n",
        "        permuted_v2 = combined_data[len(v1):]\n",
        "        permutation_stats[i] = np.mean(permuted_v1) - np.mean(permuted_v2)\n",
        "\n",
        "    p_value = np.sum(permutation_stats >= observed_statistic) / num_permutations\n",
        "    print(f\"{v_name}: Valor-p = {p_value}\")\n",
        "    return"
      ]
    },
    {
      "cell_type": "markdown",
      "metadata": {
        "id": "2VnSNJNIT6HQ"
      },
      "source": [
        "O teste Qui-Quadrado testa a hipótese de duas variáveis quantitativas serem independentes. No nosso problema, vamos estar comparando uma variável X de interesse com a variável *Exited*. A não independência (verificada com valor-p \"baixo\") nos indica que a variável X pode nos ajudar com a predição."
      ]
    },
    {
      "cell_type": "code",
      "execution_count": null,
      "metadata": {
        "id": "aQeThQJfPgJV"
      },
      "outputs": [],
      "source": [
        "def chi_squared_test(data,v1):\n",
        "    contingency_table = pd.crosstab(data[v1], Y)\n",
        "    _, p, _, _ = chi2_contingency(contingency_table)\n",
        "    print(f\"{v1}: Valor-p = {p}\")\n",
        "    return"
      ]
    },
    {
      "cell_type": "markdown",
      "metadata": {
        "id": "Zbwmn0PUUuPF"
      },
      "source": [
        "Novamente, lemos o dataset."
      ]
    },
    {
      "cell_type": "code",
      "execution_count": null,
      "metadata": {
        "id": "2_xw6v1IQ4jq"
      },
      "outputs": [],
      "source": [
        "df_reduced = pd.read_csv('Customer-Churn-Records.csv')\n",
        "df_reduced.drop(columns=['RowNumber', 'CustomerId', 'Surname'], inplace=True)"
      ]
    },
    {
      "cell_type": "markdown",
      "metadata": {
        "id": "jEmRVaTrUzIf"
      },
      "source": [
        "Vamos considerar o nível de significância $\\alpha = 0.05$, ou seja, variáveis com $valor-p \\leq 0.05$ serão utilizadas nos algoritmos."
      ]
    },
    {
      "cell_type": "code",
      "execution_count": null,
      "metadata": {
        "colab": {
          "base_uri": "https://localhost:8080/"
        },
        "id": "QT_i5px7NFxr",
        "outputId": "964875a3-e396-4045-e31d-6b2e0b6671b1"
      },
      "outputs": [],
      "source": [
        "variables = ['CreditScore', 'Age', 'Tenure','Balance', 'EstimatedSalary', 'Point Earned','NumOfProducts']\n",
        "for variable in variables:\n",
        "    permutation_test(df_reduced,variable)"
      ]
    },
    {
      "cell_type": "markdown",
      "metadata": {
        "id": "ndwO8vLWVGIL"
      },
      "source": [
        "Utilizeramos as variáveis **Age** e **Balance**."
      ]
    },
    {
      "cell_type": "code",
      "execution_count": null,
      "metadata": {
        "id": "08L2QR4jY45a"
      },
      "outputs": [],
      "source": [
        "df_reduced.drop(columns=['CreditScore', 'Tenure', 'EstimatedSalary', 'Point Earned', 'NumOfProducts'], inplace=True)"
      ]
    },
    {
      "cell_type": "code",
      "execution_count": null,
      "metadata": {
        "colab": {
          "base_uri": "https://localhost:8080/"
        },
        "id": "NGtPvs8CR13I",
        "outputId": "bd35f92f-60aa-46a3-d41e-528bf5f9dc37"
      },
      "outputs": [],
      "source": [
        "variables = ['Geography', 'Gender', 'HasCrCard', 'IsActiveMember', 'Complain', 'Satisfaction Score', 'Card Type']\n",
        "for variable in variables:\n",
        "    chi_squared_test(df_reduced,variable)"
      ]
    },
    {
      "cell_type": "markdown",
      "metadata": {
        "id": "ikXavd5UVVMG"
      },
      "source": [
        "Utilizaramos as variáveis **Geography**, **Gender**, **IsActiveMember** e **Complain**."
      ]
    },
    {
      "cell_type": "code",
      "execution_count": null,
      "metadata": {
        "id": "6F7L0S5QZJd_"
      },
      "outputs": [],
      "source": [
        "df_reduced.drop(columns=['HasCrCard', 'Satisfaction Score', 'Card Type'], inplace=True)"
      ]
    },
    {
      "cell_type": "markdown",
      "metadata": {
        "id": "RGWUqUSPVgnR"
      },
      "source": [
        "## Reaplicação dos algoritmos"
      ]
    },
    {
      "cell_type": "code",
      "execution_count": null,
      "metadata": {
        "colab": {
          "base_uri": "https://localhost:8080/"
        },
        "id": "pkjTH1Q8Zrh1",
        "outputId": "f7b58bad-8eca-43a2-bce4-b3788b9c395b"
      },
      "outputs": [],
      "source": [
        "df_reduced.columns"
      ]
    },
    {
      "cell_type": "markdown",
      "metadata": {
        "id": "NEAHrdEwZomM"
      },
      "source": [
        "Novamente mapeamos as variáveis necessárias."
      ]
    },
    {
      "cell_type": "code",
      "execution_count": null,
      "metadata": {
        "id": "3E3Hk08iZuSs"
      },
      "outputs": [],
      "source": [
        "df_reduced['Geography'] = df_reduced['Geography'].map({'France': 1, 'Germany': 2, 'Spain': 3})"
      ]
    },
    {
      "cell_type": "code",
      "execution_count": null,
      "metadata": {
        "id": "tVGSPzvQb-aX"
      },
      "outputs": [],
      "source": [
        "df_reduced['Gender'] = df_reduced['Gender'].map({'Female': 1, 'Male': 2})"
      ]
    },
    {
      "cell_type": "markdown",
      "metadata": {
        "id": "0XEDqrbdZ6_b"
      },
      "source": [
        "Novamente fazemos one-hot-encoding e normalização."
      ]
    },
    {
      "cell_type": "code",
      "execution_count": null,
      "metadata": {
        "id": "wtukFnk5Z_rR"
      },
      "outputs": [],
      "source": [
        "df_reduced = pd.get_dummies(df_reduced, columns=['Geography'])"
      ]
    },
    {
      "cell_type": "code",
      "execution_count": null,
      "metadata": {
        "id": "f0L0L_8faFCg"
      },
      "outputs": [],
      "source": [
        "scaler = MinMaxScaler()\n",
        "df_reduced[['Age','Balance']] = scaler.fit_transform(df_reduced[['Age', 'Balance']])"
      ]
    },
    {
      "cell_type": "markdown",
      "metadata": {
        "id": "qKF5w_ycaj31"
      },
      "source": [
        "Dividimos os dados novamente."
      ]
    },
    {
      "cell_type": "code",
      "execution_count": null,
      "metadata": {
        "colab": {
          "base_uri": "https://localhost:8080/"
        },
        "id": "yWkCF_DYa21f",
        "outputId": "0bf679b0-c8fa-499d-99fd-4990e3d19f82"
      },
      "outputs": [],
      "source": [
        "df_reduced.columns"
      ]
    },
    {
      "cell_type": "code",
      "execution_count": null,
      "metadata": {
        "id": "i6bIqX5MaoQt"
      },
      "outputs": [],
      "source": [
        "X = df_reduced[['Gender', 'Age', 'Balance', 'IsActiveMember', 'Complain', 'Geography_1', 'Geography_2', 'Geography_3']].values\n",
        "Y = df_reduced[['Exited']].values.ravel()"
      ]
    },
    {
      "cell_type": "markdown",
      "metadata": {
        "id": "R9NlauNZbCdu"
      },
      "source": [
        "Aplicamos os algoritmos novamente."
      ]
    },
    {
      "cell_type": "code",
      "execution_count": null,
      "metadata": {
        "colab": {
          "base_uri": "https://localhost:8080/",
          "height": 1000
        },
        "id": "PtsBWg4mbMc1",
        "outputId": "6955d7bc-ae13-408b-9c10-6b3ff1e5602e"
      },
      "outputs": [],
      "source": [
        "KNN(X, Y, nk, 11)"
      ]
    },
    {
      "cell_type": "code",
      "execution_count": null,
      "metadata": {
        "colab": {
          "base_uri": "https://localhost:8080/"
        },
        "id": "fu8x-0ipbRmx",
        "outputId": "cb6861ae-7e01-4947-dc5b-15f49e50fe84"
      },
      "outputs": [],
      "source": [
        "NaiveBayes(X, Y, nk)"
      ]
    },
    {
      "cell_type": "code",
      "execution_count": null,
      "metadata": {
        "colab": {
          "base_uri": "https://localhost:8080/",
          "height": 1000
        },
        "id": "DudHaDwnbUrD",
        "outputId": "e45d5dbb-837b-4875-de58-e06f5703fcf7"
      },
      "outputs": [],
      "source": [
        "tree_decision(X, Y, nk, max_depth=3)"
      ]
    },
    {
      "cell_type": "code",
      "execution_count": null,
      "metadata": {
        "colab": {
          "base_uri": "https://localhost:8080/"
        },
        "id": "EQbLNZgmbaw8",
        "outputId": "c033c21c-684f-445a-e8d3-4a9f8d9b1d4a"
      },
      "outputs": [],
      "source": [
        "MultilayerPerceptron(X, Y, nk)"
      ]
    },
    {
      "cell_type": "markdown",
      "metadata": {
        "id": "LUI8qIUtdPTc"
      },
      "source": [
        "De forma geral podemos dizer que foi uma boa alternativa a seleção de variáveis realizada. Alguns algoritmos perderam poder de predição, enquanto outros melhoraram o poder de predição, mas nada substancial. O ponto positivo é que ao reduzir variáveis reduzimos a complexidade do modelo e entendemos melhor quais variáveis estavam ou não nos ajudando na predição. Além disso, mesmo com a seleção das variáveis ainda há muitos algoritmos atingindo o maior valor de F1-Score encontrado anteriormente ($0.9966$)."
      ]
    },
    {
      "cell_type": "markdown",
      "metadata": {},
      "source": [
        "## Considerações Finais\n",
        "\n",
        "Ao longo deste projeto, foram explorados a aplicação de diferentes algoritmos de aprendizado de máquina para a predição da saída de clientes de um banco. Os algoritmos KNN, Naive Bayes, Árvores de Decisão e Multilayer Perceptron foram aplicados para realizar a predição. No entanto, ao avaliar os resultados, notamos um empecilho relacionado ao desbalanceamento nos dados, especialmente devido à presença do atributo \"complain\".\n",
        "\n",
        "A análise exploratória do dataset revelou que quase todos os clientes que apresentaram reclamações acabaram deixando o banco. Esse padrão levou a pontuações de precisão próximas a 100% em todos os algoritmos testados. Entretanto, a alta performance observada pode ser atribuída, em grande parte, ao desequilíbrio na distribuição dos dados.\n",
        "\n",
        "Considerando a possibilidade de viés nos resultados, seria recomendado conduzir uma análise sem a inclusão da variável \"complain\", uma vez que o modelo pode ter aprendido a associar a presença de reclamações a uma alta probabilidade de churn, ignorando outros fatores relevantes.\n"
      ]
    }
  ],
  "metadata": {
    "colab": {
      "provenance": [],
      "toc_visible": true
    },
    "kernelspec": {
      "display_name": "Python 3",
      "name": "python3"
    },
    "language_info": {
      "codemirror_mode": {
        "name": "ipython",
        "version": 3
      },
      "file_extension": ".py",
      "mimetype": "text/x-python",
      "name": "python",
      "nbconvert_exporter": "python",
      "pygments_lexer": "ipython3",
      "version": "3.8.10"
    }
  },
  "nbformat": 4,
  "nbformat_minor": 0
}
