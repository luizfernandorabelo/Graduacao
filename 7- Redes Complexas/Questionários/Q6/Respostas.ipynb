{
 "cells": [
  {
   "attachments": {},
   "cell_type": "markdown",
   "metadata": {},
   "source": [
    "# Respostas Questionário VI - SME0130\n",
    "\n",
    "**Aluno:** Luiz Fernando Rabelo (11796893)"
   ]
  },
  {
   "attachments": {},
   "cell_type": "markdown",
   "metadata": {},
   "source": [
    "### Bibliotecas Utilizadas\n",
    "\n",
    "Para a resolução do questionário, foram utilizadas as bibliotecas _numpy_ e _networkx_, as quais são importadas abaixo:\n"
   ]
  },
  {
   "cell_type": "code",
   "execution_count": null,
   "metadata": {},
   "outputs": [],
   "source": [
    "import numpy as np\n",
    "import networkx as nx"
   ]
  },
  {
   "attachments": {},
   "cell_type": "markdown",
   "metadata": {},
   "source": [
    "### Funções Desenvolvidas\n",
    "\n",
    "As seguintes funções foram criadas para auxiliar na resolução das questões. Cada qual é usada uma ou mais vezes nas respostas:\n"
   ]
  },
  {
   "cell_type": "code",
   "execution_count": null,
   "metadata": {},
   "outputs": [],
   "source": [
    "# Função que calcula o n-ésimo momento do grau:\n",
    "def evaluate_degree_momment(G, m):\n",
    "    s = 0\n",
    "    for node in G.nodes:\n",
    "        s += G.degree(node) ** m\n",
    "    return s / len(G)\n",
    "\n",
    "# Função que determina a distribuição do grau:\n",
    "def build_degree_distribution(G):\n",
    "    degrees = np.array(list(dict(G.degree()).values()))\n",
    "    max_degree = np.max(degrees)\n",
    "    occurrences = np.zeros(max_degree + 1)\n",
    "    for degree in degrees:\n",
    "        occurrences[degree] += 1\n",
    "    return occurrences / sum(occurrences)  # normalized\n",
    "\n",
    "# Função que calcula a entropia de Sannon para o grau:\n",
    "def evaluate_shannon_entropy(G):\n",
    "    ps = build_degree_distribution(G)\n",
    "    entropy = 0\n",
    "    for p in ps:\n",
    "        if p > 0:\n",
    "            entropy -= p * np.log2(p)\n",
    "    return entropy"
   ]
  },
  {
   "attachments": {},
   "cell_type": "markdown",
   "metadata": {},
   "source": [
    "### Questão 01"
   ]
  },
  {
   "cell_type": "code",
   "execution_count": null,
   "metadata": {},
   "outputs": [],
   "source": [
    "# Definição do número de vértices e grau médio:\n",
    "N = 1000\n",
    "average_degree = 10\n",
    "\n",
    "# Geração da rede Barabasi Albert:\n",
    "G = nx.barabasi_albert_graph(N, average_degree // 2)\n",
    "\n",
    "# Cálculo do coeficiente de aglomeração médio:\n",
    "print('Coeficiente de aglomeração médio =', nx.average_clustering(G))\n",
    "\n",
    "# Cálculo do segundo momento do grau:\n",
    "print('2° momento do grau =', evaluate_degree_momment(G, 2))"
   ]
  },
  {
   "attachments": {},
   "cell_type": "markdown",
   "metadata": {},
   "source": [
    "### Questão 02"
   ]
  },
  {
   "cell_type": "code",
   "execution_count": null,
   "metadata": {},
   "outputs": [],
   "source": [
    "# Definição do número de vértices e grau médio:\n",
    "N = 1000\n",
    "average_degree = 10\n",
    "\n",
    "# Geração da rede Erdos Renyi:\n",
    "G1 = nx.erdos_renyi_graph(N, average_degree / (N-1))\n",
    "\n",
    "# Geração da rede Barabasi Albert:\n",
    "G2 = nx.barabasi_albert_graph(N, average_degree // 2)\n",
    "\n",
    "# Cálculo da entropia de Shannon do grau para as redes:\n",
    "print('Entropia de Shannon para a rede E.R. =', evaluate_shannon_entropy(G1))\n",
    "print('Entropia de Shannon para a rede B.A. =', evaluate_shannon_entropy(G2))"
   ]
  },
  {
   "attachments": {},
   "cell_type": "markdown",
   "metadata": {},
   "source": [
    "### Questão 03"
   ]
  },
  {
   "cell_type": "code",
   "execution_count": null,
   "metadata": {},
   "outputs": [],
   "source": [
    "# Definição no número de vértices e grau médio:\n",
    "N = 1000\n",
    "average_degree = 10\n",
    "\n",
    "# Geração da rede Barabasi Albert:\n",
    "G = nx.barabasi_albert_graph(N, average_degree // 2)\n",
    "\n",
    "# Cálculo do coeficiente de correlação entre eigen centrality e grau:\n",
    "eigen_centrality = list(dict(nx.eigenvector_centrality(G)).values())\n",
    "degrees = list(dict(G.degree()).values())\n",
    "print('Correlação eigenvector centrality x grau =', np.corrcoef(eigen_centrality, degrees)[0,1])"
   ]
  },
  {
   "attachments": {},
   "cell_type": "markdown",
   "metadata": {},
   "source": [
    "### Questão 04\n",
    "\n"
   ]
  },
  {
   "cell_type": "code",
   "execution_count": null,
   "metadata": {},
   "outputs": [],
   "source": [
    "# Definição no número de vértices e grau médio:\n",
    "N = 500\n",
    "average_degree = 10\n",
    "\n",
    "# Geração da rede Barabasi Albert:\n",
    "G = nx.barabasi_albert_graph(N, average_degree // 2)\n",
    "\n",
    "# Cálculo do coeficiente de correlação entre eigen centrality e grau:\n",
    "betweeness_centrality = list(dict(nx.betweenness_centrality(G)).values())\n",
    "degrees = list(dict(G.degree()).values())\n",
    "print('Correlação betweeness centrality x grau =', np.corrcoef(betweeness_centrality, degrees)[0,1])"
   ]
  },
  {
   "attachments": {},
   "cell_type": "markdown",
   "metadata": {},
   "source": [
    "### Questão 05"
   ]
  },
  {
   "cell_type": "code",
   "execution_count": null,
   "metadata": {},
   "outputs": [],
   "source": [
    "# Definição do número de vértices e do parâmetro da distribuição:\n",
    "N = 500\n",
    "a = 3\n",
    "\n",
    "# Produção da sequência de graus:\n",
    "degree_sequence = np.random.zipf(a, N)\n",
    "\n",
    "# Adequação da sequência caso a soma seja ímpar:\n",
    "if sum(degree_sequence) % 2 != 0:\n",
    "    random_vertex = np.random.randint(0, N)\n",
    "    degree_sequence[random_vertex] += 1\n",
    "\n",
    "# Geração da rede a partir da sequência de graus:\n",
    "G = nx.configuration_model(degree_sequence)\n",
    "\n",
    "# Seleção do maior componente conectado:\n",
    "G = G.subgraph(sorted(nx.connected_components(G), key=len, reverse=True)[0])\n",
    "\n",
    "# Cálculo do segundo momento do grau:\n",
    "print('Segundo momento do grau =', evaluate_degree_momment(G, 2))"
   ]
  },
  {
   "attachments": {},
   "cell_type": "markdown",
   "metadata": {},
   "source": [
    "### Questão 06"
   ]
  },
  {
   "cell_type": "code",
   "execution_count": null,
   "metadata": {},
   "outputs": [],
   "source": [
    "# Definição do número de vértices e grau médio:\n",
    "N = 1000\n",
    "average_degree = 10\n",
    "\n",
    "for p in [.01, .05, .2]:\n",
    "    # Geração do grafo small world:\n",
    "    G = nx.watts_strogatz_graph(N, int(average_degree / 2), p)\n",
    "    # Cálculo da assortatividade:\n",
    "    print('Assortatividade (k=)' + str(average_degree) + '=', nx.degree_assortativity_coefficient(G))"
   ]
  }
 ],
 "metadata": {
  "kernelspec": {
   "display_name": "Python 3",
   "language": "python",
   "name": "python3"
  },
  "language_info": {
   "codemirror_mode": {
    "name": "ipython",
    "version": 3
   },
   "file_extension": ".py",
   "mimetype": "text/x-python",
   "name": "python",
   "nbconvert_exporter": "python",
   "pygments_lexer": "ipython3",
   "version": "3.8.10"
  },
  "orig_nbformat": 4
 },
 "nbformat": 4,
 "nbformat_minor": 2
}
