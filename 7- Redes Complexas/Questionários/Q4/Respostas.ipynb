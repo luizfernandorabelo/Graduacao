{
 "cells": [
  {
   "attachments": {},
   "cell_type": "markdown",
   "metadata": {},
   "source": [
    "# Respostas Questionário IV - SME0130\n",
    "\n",
    "**Aluno:** Luiz Fernando Rabelo (11796893)"
   ]
  },
  {
   "attachments": {},
   "cell_type": "markdown",
   "metadata": {},
   "source": [
    "### Bibliotecas Utilizadas\n",
    "\n",
    "Para a resolução do questionário, foram utilizadas as bibliotecas _numpy_, _networkx_ e _community_, as quais são importadas abaixo:\n"
   ]
  },
  {
   "cell_type": "code",
   "execution_count": null,
   "metadata": {},
   "outputs": [],
   "source": [
    "import numpy as np\n",
    "import networkx as nx\n",
    "from networkx.algorithms.community import greedy_modularity_communities\n",
    "from community import community_louvain"
   ]
  },
  {
   "attachments": {},
   "cell_type": "markdown",
   "metadata": {},
   "source": [
    "### Funções Desenvolvidas\n",
    "\n",
    "As seguintes funções foram criadas para auxiliar na resolução das questões. Cada qual é usada uma ou mais vezes nas respostas:"
   ]
  },
  {
   "cell_type": "code",
   "execution_count": null,
   "metadata": {},
   "outputs": [],
   "source": [
    "# Função que constrói uma lista com os \"labels\" das comunidades (abordagem gulosa):\n",
    "def build_communities_labels_greedy(G):\n",
    "    communities = list(greedy_modularity_communities(G))\n",
    "    labels = np.zeros(len(G.nodes()))\n",
    "    count = 0\n",
    "    for i in range(len(communities)):\n",
    "        labels[sorted(communities[i])] = count\n",
    "        count += 1\n",
    "    return labels\n",
    "\n",
    "# Função que calcula a modularidade da rede:\n",
    "def evaluate_modularity(G, communities_labels):\n",
    "    A = nx.adjacency_matrix(G)\n",
    "    N = len(G)\n",
    "    M = G.number_of_edges()\n",
    "    modularity = 0\n",
    "    for i in np.arange(N):\n",
    "        ki = len(list(G.neighbors(i)))\n",
    "        for j in np.arange(N):\n",
    "            if communities_labels[i] == communities_labels[j]:\n",
    "                kj = len(list(G.neighbors(j)))\n",
    "                modularity += A[i,j] - (ki * kj) / (2 * M)\n",
    "    modularity /= 2 * M\n",
    "    return modularity"
   ]
  },
  {
   "attachments": {},
   "cell_type": "markdown",
   "metadata": {},
   "source": [
    "### Questão 01"
   ]
  },
  {
   "cell_type": "code",
   "execution_count": null,
   "metadata": {},
   "outputs": [],
   "source": [
    "# Leitura da rede a partir de arquivo:\n",
    "G = nx.read_edgelist('data/jazz.txt')\n",
    "\n",
    "# Remoção de direção e self-loops da rede:\n",
    "G = G.to_undirected()\n",
    "G.remove_edges_from(nx.selfloop_edges(G))\n",
    "\n",
    "# Seleção do maior componente conectado:\n",
    "G = G.subgraph(sorted(nx.connected_components(G), key=len, reverse=True)[0])\n",
    "\n",
    "# Transformação dos labels de strings para inteiros:\n",
    "G = nx.convert_node_labels_to_integers(G)\n",
    "\n",
    "# Cálculo da modularidade usando o método fastgreedy:\n",
    "communities_labels = build_communities_labels_greedy(G)\n",
    "print('Modularidade =', evaluate_modularity(G, communities_labels))"
   ]
  },
  {
   "attachments": {},
   "cell_type": "markdown",
   "metadata": {},
   "source": [
    "### Questão 02"
   ]
  },
  {
   "cell_type": "code",
   "execution_count": null,
   "metadata": {},
   "outputs": [],
   "source": [
    "# Leitura da rede a partir de arquivo:\n",
    "G = nx.read_edgelist('data/jazz.txt')\n",
    "\n",
    "# Remoção de direção e self-loops da rede:\n",
    "G = G.to_undirected()\n",
    "G.remove_edges_from(nx.selfloop_edges(G))\n",
    "\n",
    "# Seleção do maior componente conectado:\n",
    "G = G.subgraph(sorted(nx.connected_components(G), key=len, reverse=True)[0])\n",
    "\n",
    "# Transformação dos labels de strings para inteiros:\n",
    "G = nx.convert_node_labels_to_integers(G)\n",
    "\n",
    "# Cálculo da modularidade usando o método louvain:\n",
    "partitions = community_louvain.best_partition(G)\n",
    "print('Modularidade =', evaluate_modularity(G, list(partitions.values())))"
   ]
  },
  {
   "attachments": {},
   "cell_type": "markdown",
   "metadata": {},
   "source": [
    "### Questão 03"
   ]
  },
  {
   "cell_type": "code",
   "execution_count": null,
   "metadata": {},
   "outputs": [],
   "source": [
    "# Definição das constantes utilizadas:\n",
    "N = 128\n",
    "k = 16\n",
    "t1, t2 = 3, 1.5\n",
    "minc = maxc = 32\n",
    "\n",
    "# Criação dos benchmark graphs:\n",
    "G1 = nx.LFR_benchmark_graph(n=N, tau1=t1, tau2=t2, mu=.05, min_degree=k, max_degree=k, min_community=minc, max_community=maxc, seed=10)\n",
    "G2 = nx.LFR_benchmark_graph(n=N, tau1=t1, tau2=t2, mu=.1, min_degree=k, max_degree=k, min_community=minc, max_community=maxc, seed=10)\n",
    "G3 = nx.LFR_benchmark_graph(n=N, tau1=t1, tau2=t2, mu=.2, min_degree=k, max_degree=k, min_community=minc, max_community=maxc, seed=10)\n",
    "\n",
    "# Cálculo das modularidades usando o método louvain:\n",
    "print('Modularidade (μ=0.05) =', evaluate_modularity(G1, list(community_louvain.best_partition(G1).values())))\n",
    "print('Modularidade (μ=0.1) =', evaluate_modularity(G2, list(community_louvain.best_partition(G2).values())))\n",
    "print('Modularidade (μ=0.2) =', evaluate_modularity(G3, list(community_louvain.best_partition(G3).values())))"
   ]
  },
  {
   "attachments": {},
   "cell_type": "markdown",
   "metadata": {},
   "source": [
    "### Questão 04\n",
    "\n"
   ]
  },
  {
   "cell_type": "code",
   "execution_count": null,
   "metadata": {},
   "outputs": [],
   "source": [
    "# Definição das constantes utilizadas:\n",
    "N = 128\n",
    "k = 16\n",
    "t1, t2 = 3, 1.5\n",
    "minc = maxc = 32\n",
    "\n",
    "# Criação dos benchmark graphs:\n",
    "G1 = nx.LFR_benchmark_graph(n=N, tau1=t1, tau2=t2, mu=.05, min_degree=k, max_degree=k, min_community=minc, max_community=maxc, seed=10)\n",
    "G2 = nx.LFR_benchmark_graph(n=N, tau1=t1, tau2=t2, mu=.2, min_degree=k, max_degree=k, min_community=minc, max_community=maxc, seed=10)\n",
    "G3 = nx.LFR_benchmark_graph(n=N, tau1=t1, tau2=t2, mu=.4, min_degree=k, max_degree=k, min_community=minc, max_community=maxc, seed=10)\n",
    "\n",
    "# Cálculo das modularidades usando o método fastgreedy:\n",
    "print('Modularidade (μ=0.05) =', evaluate_modularity(G1, build_communities_labels_greedy(G1)))\n",
    "print('Modularidade (μ=0.2) =', evaluate_modularity(G2, build_communities_labels_greedy(G2)))\n",
    "print('Modularidade (μ=0.4) =', evaluate_modularity(G3, build_communities_labels_greedy(G3)))"
   ]
  }
 ],
 "metadata": {
  "kernelspec": {
   "display_name": "Python 3",
   "language": "python",
   "name": "python3"
  },
  "language_info": {
   "codemirror_mode": {
    "name": "ipython",
    "version": 3
   },
   "file_extension": ".py",
   "mimetype": "text/x-python",
   "name": "python",
   "nbconvert_exporter": "python",
   "pygments_lexer": "ipython3",
   "version": "3.8.10"
  },
  "orig_nbformat": 4
 },
 "nbformat": 4,
 "nbformat_minor": 2
}
