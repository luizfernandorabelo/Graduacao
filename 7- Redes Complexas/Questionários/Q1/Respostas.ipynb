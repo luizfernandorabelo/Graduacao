{
 "cells": [
  {
   "attachments": {},
   "cell_type": "markdown",
   "metadata": {},
   "source": [
    "# Respostas Questionário I - SME0130\n",
    "\n",
    "**Aluno:** Luiz Fernando Rabelo (11796893)"
   ]
  },
  {
   "attachments": {},
   "cell_type": "markdown",
   "metadata": {},
   "source": [
    "### Bibliotecas Utilizadas\n",
    "\n",
    "Para a resolução do questionário, foram utilizadas as bibliotecas _numpy_, _math_ e _networkx_, as quais são importadas abaixo:"
   ]
  },
  {
   "cell_type": "code",
   "execution_count": null,
   "metadata": {},
   "outputs": [],
   "source": [
    "import numpy as np\n",
    "import networkx as nx\n",
    "import math"
   ]
  },
  {
   "attachments": {},
   "cell_type": "markdown",
   "metadata": {},
   "source": [
    "### Funções Desenvolvidas\n",
    "\n",
    "As seguintes funções foram criadas para auxiliar na resolução das questões. Cada qual é usada uma ou mais vezes nas respostas:"
   ]
  },
  {
   "cell_type": "code",
   "execution_count": null,
   "metadata": {},
   "outputs": [],
   "source": [
    "# Função que calcula o n-ésimo momento do grau:\n",
    "def evaluate_degree_momment(G, m):\n",
    "    s = 0\n",
    "    for node in G.nodes:\n",
    "        s += G.degree(node) ** m\n",
    "    return s / len(G)\n",
    "\n",
    "def evaluate_complexity_coefficient(G):\n",
    "    return evaluate_degree_momment(G, 2) / evaluate_degree_momment(G, 1)\n",
    "\n",
    "# Função que determina a distribuição do grau:\n",
    "def build_degree_distribution(G):\n",
    "    degrees = np.array(list(dict(G.degree()).values()))\n",
    "    max_degree = np.max(degrees)\n",
    "    occurrences = np.zeros(max_degree + 1)\n",
    "    for degree in degrees:\n",
    "        occurrences[degree] += 1\n",
    "    return occurrences / sum(occurrences)  # normalized\n",
    "\n",
    "# Função que calcula a entropia de Sannon para o grau:\n",
    "def evaluate_shannon_entropy(G):\n",
    "    ps = build_degree_distribution(G)\n",
    "    entropy = 0\n",
    "    for p in ps:\n",
    "        if p > 0:\n",
    "            entropy -= p * math.log2(p)\n",
    "    return entropy"
   ]
  },
  {
   "attachments": {},
   "cell_type": "markdown",
   "metadata": {},
   "source": [
    "### Questão 01"
   ]
  },
  {
   "cell_type": "code",
   "execution_count": null,
   "metadata": {},
   "outputs": [],
   "source": [
    "# Leitura da rede a partir de arquivo:\n",
    "G = nx.read_gml('data/lesmis.gml')\n",
    "\n",
    "# Remoção de direção e self-loops da rede:\n",
    "G = G.to_undirected()\n",
    "G.remove_edges_from(nx.selfloop_edges(G))\n",
    "\n",
    "# Seleção do maior componente conectado:\n",
    "G = G.subgraph(sorted(nx.connected_components(G), key=len, reverse=True)[0])\n",
    "\n",
    "# Transformação dos labels de strings para inteiros:\n",
    "G = nx.convert_node_labels_to_integers(G)\n",
    "\n",
    "# Determinação do 3° e 4° momento do grau:\n",
    "print('3° momento do grau =', evaluate_degree_momment(G, 3))\n",
    "print('4° momento do grau =', evaluate_degree_momment(G, 4))"
   ]
  },
  {
   "attachments": {},
   "cell_type": "markdown",
   "metadata": {},
   "source": [
    "### Questão 02"
   ]
  },
  {
   "cell_type": "code",
   "execution_count": null,
   "metadata": {},
   "outputs": [],
   "source": [
    "# Leitura da rede a partir de arquivo:\n",
    "G = nx.read_edgelist('./data/powergrid.txt')\n",
    "\n",
    "# Cálculo do coeficiente de complexidade:\n",
    "print('Complexidade da rede =', evaluate_complexity_coefficient(G))"
   ]
  },
  {
   "attachments": {},
   "cell_type": "markdown",
   "metadata": {},
   "source": [
    "### Questão 03"
   ]
  },
  {
   "cell_type": "code",
   "execution_count": null,
   "metadata": {},
   "outputs": [],
   "source": [
    "# Leitura da rede a partir de arquivo:\n",
    "G = nx.read_edgelist('./data/euroroad.txt')\n",
    "\n",
    "# Seleção do maior componente conectado:\n",
    "G = G.subgraph(sorted(nx.connected_components(G), key=len, reverse=True)[0])\n",
    "\n",
    "# Transformação dos labels de strings para inteiros:\n",
    "G = nx.convert_node_labels_to_integers(G)\n",
    "\n",
    "# Cálculo da entropia de Shannon:\n",
    "print('Entropia de Shannon =', evaluate_shannon_entropy(G))"
   ]
  },
  {
   "attachments": {},
   "cell_type": "markdown",
   "metadata": {},
   "source": [
    "### Questão 04"
   ]
  },
  {
   "cell_type": "code",
   "execution_count": null,
   "metadata": {},
   "outputs": [],
   "source": [
    "# Leitura da rede a partir de arquivo:\n",
    "G = nx.read_weighted_edgelist('./data/usairport.txt')\n",
    "\n",
    "# Seleção do maior componente conectado:\n",
    "G = G.subgraph(sorted(nx.connected_components(G), key=len, reverse=True)[0])\n",
    "\n",
    "# Cálculo da transitividade:\n",
    "print('Transitividade =', nx.transitivity(G))\n",
    "\n",
    "# Cálculo do coeficiente de agrupamento médio:\n",
    "print('Average clustering =', nx.average_clustering(G))"
   ]
  },
  {
   "attachments": {},
   "cell_type": "markdown",
   "metadata": {},
   "source": [
    "### Questão 05"
   ]
  },
  {
   "cell_type": "code",
   "execution_count": null,
   "metadata": {},
   "outputs": [],
   "source": [
    "# Leitura da rede a partir de arquivo:\n",
    "G = nx.read_weighted_edgelist('./data/usairport.txt')\n",
    "\n",
    "# Seleção do maior componente conectado:\n",
    "G = G.subgraph(sorted(nx.connected_components(G), key=len, reverse=True)[0])\n",
    "\n",
    "# Cálculo do coeficiente de complexidade:\n",
    "print('Complexidade da rede =', evaluate_complexity_coefficient(G))\n",
    "\n",
    "# Cálculo da entropia de Shannon:\n",
    "print('Entropia de Shannon =', evaluate_shannon_entropy(G))"
   ]
  }
 ],
 "metadata": {
  "kernelspec": {
   "display_name": "Python 3",
   "language": "python",
   "name": "python3"
  },
  "language_info": {
   "codemirror_mode": {
    "name": "ipython",
    "version": 3
   },
   "file_extension": ".py",
   "mimetype": "text/x-python",
   "name": "python",
   "nbconvert_exporter": "python",
   "pygments_lexer": "ipython3",
   "version": "3.8.10"
  },
  "orig_nbformat": 4
 },
 "nbformat": 4,
 "nbformat_minor": 2
}
