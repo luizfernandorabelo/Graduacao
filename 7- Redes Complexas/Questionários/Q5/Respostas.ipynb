{
 "cells": [
  {
   "attachments": {},
   "cell_type": "markdown",
   "metadata": {},
   "source": [
    "# Respostas Questionário V - SME0130\n",
    "\n",
    "**Aluno:** Luiz Fernando Rabelo (11796893)"
   ]
  },
  {
   "attachments": {},
   "cell_type": "markdown",
   "metadata": {},
   "source": [
    "### Bibliotecas Utilizadas\n",
    "\n",
    "Para a resolução do questionário, foram utilizadas as bibliotecas _numpy_ e _networkx_, as quais são importadas abaixo:\n"
   ]
  },
  {
   "cell_type": "code",
   "execution_count": null,
   "metadata": {},
   "outputs": [],
   "source": [
    "import numpy as np\n",
    "import networkx as nx"
   ]
  },
  {
   "attachments": {},
   "cell_type": "markdown",
   "metadata": {},
   "source": [
    "### Funções Desenvolvidas\n",
    "\n",
    "As seguintes funções foram criadas para auxiliar na resolução das questões. Cada qual é usada uma ou mais vezes nas respostas:\n"
   ]
  },
  {
   "cell_type": "code",
   "execution_count": null,
   "metadata": {},
   "outputs": [],
   "source": [
    "# Função que calcula o n-ésimo momento do grau:\n",
    "def evaluate_degree_momment(G, m):\n",
    "    s = 0\n",
    "    for node in G.nodes:\n",
    "        s += G.degree(node) ** m\n",
    "    return s / len(G)\n",
    "\n",
    "# Função que determina a distribuição do grau:\n",
    "def build_degree_distribution(G):\n",
    "    degrees = np.array(list(dict(G.degree()).values()))\n",
    "    max_degree = np.max(degrees)\n",
    "    occurrences = np.zeros(max_degree + 1)\n",
    "    for degree in degrees:\n",
    "        occurrences[degree] += 1\n",
    "    return occurrences / sum(occurrences)  # normalized\n",
    "\n",
    "# Função que calcula a entropia de Sannon para o grau:\n",
    "def evaluate_shannon_entropy(G):\n",
    "    ps = build_degree_distribution(G)\n",
    "    entropy = 0\n",
    "    for p in ps:\n",
    "        if p > 0:\n",
    "            entropy -= p * np.log2(p)\n",
    "    return entropy"
   ]
  },
  {
   "attachments": {},
   "cell_type": "markdown",
   "metadata": {},
   "source": [
    "### Questão 01"
   ]
  },
  {
   "cell_type": "code",
   "execution_count": null,
   "metadata": {},
   "outputs": [],
   "source": [
    "# Geração do grafo aleatório:\n",
    "G = nx.gnp_random_graph(1000, 0.1, directed=False)\n",
    "\n",
    "# Cálculo do grau médio:\n",
    "print('Grau médio =', 2 * G.number_of_edges() / len(G))\n",
    "\n",
    "# Cálculo do segundo momento do grau:\n",
    "print('2° momento do grau =', evaluate_degree_momment(G, 2))\n",
    "\n",
    "# Cálculo do coeficiente de aglomeração médio:\n",
    "print('Coeficiente de aglomeração médio =', nx.average_clustering(G))"
   ]
  },
  {
   "attachments": {},
   "cell_type": "markdown",
   "metadata": {},
   "source": [
    "### Questão 02"
   ]
  },
  {
   "cell_type": "code",
   "execution_count": null,
   "metadata": {},
   "outputs": [],
   "source": [
    "# Geração do grafo small world:\n",
    "G = nx.watts_strogatz_graph(1000, 10, 0.1)\n",
    "\n",
    "# Cálculo do grau médio:\n",
    "print('Grau médio =', 2 * G.number_of_edges() / len(G))\n",
    "\n",
    "# Cálculo do segundo momento do grau:\n",
    "print('2° momento do grau =', evaluate_degree_momment(G, 2))\n",
    "\n",
    "# Cálculo do coeficiente de aglomeração médio:\n",
    "print('Coeficiente de aglomeração médio =', nx.average_clustering(G))"
   ]
  },
  {
   "attachments": {},
   "cell_type": "markdown",
   "metadata": {},
   "source": [
    "### Questão 03"
   ]
  },
  {
   "cell_type": "code",
   "execution_count": null,
   "metadata": {},
   "outputs": [],
   "source": [
    "# Definição no número de vértices:\n",
    "N = 1000\n",
    "\n",
    "for average_degree in [5, 10, 50]:\n",
    "    # Geração do grafo erdos renyi:\n",
    "    G = nx.erdos_renyi_graph(N, average_degree / (N-1))\n",
    "    # Cálculo da Entropia de Shannon:\n",
    "    print('Entropia de Shannon (k=' + str(average_degree) + ') =', evaluate_shannon_entropy(G))"
   ]
  },
  {
   "attachments": {},
   "cell_type": "markdown",
   "metadata": {},
   "source": [
    "### Questão 04\n",
    "\n"
   ]
  },
  {
   "cell_type": "code",
   "execution_count": null,
   "metadata": {},
   "outputs": [],
   "source": [
    "# Definição do número de vértices e grau médio:\n",
    "N = 100\n",
    "average_degree = 8\n",
    "\n",
    "for p in [0, .01, .05, .1]:\n",
    "    # Geração do grafo small world:\n",
    "    G = nx.watts_strogatz_graph(N, int(average_degree / 2), p)\n",
    "    # Cálculo da menor distância média:\n",
    "    print('Menor distância média (p=' + str(p) + ')\\t =', nx.average_shortest_path_length(G))"
   ]
  },
  {
   "attachments": {},
   "cell_type": "markdown",
   "metadata": {},
   "source": [
    "### Questão 05"
   ]
  },
  {
   "cell_type": "code",
   "execution_count": null,
   "metadata": {},
   "outputs": [],
   "source": [
    "# Definição do número de vértices:\n",
    "N = 1000\n",
    "\n",
    "for average_degree in [5, 10, 50]:\n",
    "    # Geração do grafo erdos renyi:\n",
    "    G = nx.erdos_renyi_graph(N, average_degree / (N-1))\n",
    "    # Cálculo da assortatividade:\n",
    "    print('Assortatividade (k=)' + str(average_degree) + '=', nx.degree_assortativity_coefficient(G))"
   ]
  },
  {
   "attachments": {},
   "cell_type": "markdown",
   "metadata": {},
   "source": [
    "### Questão 06"
   ]
  },
  {
   "cell_type": "code",
   "execution_count": null,
   "metadata": {},
   "outputs": [],
   "source": [
    "# Definição do número de vértices e grau médio:\n",
    "N = 1000\n",
    "average_degree = 10\n",
    "\n",
    "for p in [.01, .05, .2]:\n",
    "    # Geração do grafo small world:\n",
    "    G = nx.watts_strogatz_graph(N, int(average_degree / 2), p)\n",
    "    # Cálculo da assortatividade:\n",
    "    print('Assortatividade (k=)' + str(average_degree) + '=', nx.degree_assortativity_coefficient(G))"
   ]
  }
 ],
 "metadata": {
  "kernelspec": {
   "display_name": "Python 3",
   "language": "python",
   "name": "python3"
  },
  "language_info": {
   "codemirror_mode": {
    "name": "ipython",
    "version": 3
   },
   "file_extension": ".py",
   "mimetype": "text/x-python",
   "name": "python",
   "nbconvert_exporter": "python",
   "pygments_lexer": "ipython3",
   "version": "3.8.10"
  },
  "orig_nbformat": 4
 },
 "nbformat": 4,
 "nbformat_minor": 2
}
