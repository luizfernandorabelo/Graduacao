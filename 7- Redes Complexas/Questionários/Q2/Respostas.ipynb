{
 "cells": [
  {
   "attachments": {},
   "cell_type": "markdown",
   "metadata": {},
   "source": [
    "# Respostas Questionário II - SME0130\n",
    "\n",
    "**Aluno:** Luiz Fernando Rabelo (11796893)"
   ]
  },
  {
   "attachments": {},
   "cell_type": "markdown",
   "metadata": {},
   "source": [
    "### Bibliotecas Utilizadas\n",
    "\n",
    "Para a resolução do questionário, foram utilizadas as bibliotecas _numpy_ e _networkx_, as quais são importadas abaixo:\n"
   ]
  },
  {
   "cell_type": "code",
   "execution_count": null,
   "metadata": {},
   "outputs": [],
   "source": [
    "import numpy as np\n",
    "import networkx as nx"
   ]
  },
  {
   "attachments": {},
   "cell_type": "markdown",
   "metadata": {},
   "source": [
    "### Questão 01"
   ]
  },
  {
   "cell_type": "code",
   "execution_count": null,
   "metadata": {},
   "outputs": [],
   "source": [
    "# Leitura da rede a partir de arquivo:\n",
    "G = nx.read_edgelist('data/hamsterster.txt')\n",
    "\n",
    "# Seleção do maior componente conectado:\n",
    "G = G.subgraph(sorted(nx.connected_components(G), key=len, reverse=True)[0])\n",
    "\n",
    "# Transformação dos labels de strings para inteiros:\n",
    "G = nx.convert_node_labels_to_integers(G)\n",
    "\n",
    "# Cálculo da média do comprimento dos menores caminhos:\n",
    "print('Média comprimento dos menores caminhos =', nx.average_shortest_path_length(G))\n",
    "\n",
    "# Cálculo do diâmetro da rede (menor caminho mais longo):\n",
    "print('Diâmetro da rede =', nx.diameter(G))"
   ]
  },
  {
   "attachments": {},
   "cell_type": "markdown",
   "metadata": {},
   "source": [
    "### Questão 02"
   ]
  },
  {
   "cell_type": "code",
   "execution_count": null,
   "metadata": {},
   "outputs": [],
   "source": [
    "# Função que calcula a variância dos comprimentos dos menores caminhos:\n",
    "def evaluate_variance(spl, average):\n",
    "    s, n = 0, 0\n",
    "    for _, lengths in spl:\n",
    "        for l in lengths.values():\n",
    "            if l > 0:\n",
    "                s += (l - average) ** 2\n",
    "                n += 1\n",
    "    return s / n\n",
    "\n",
    "# Leitura da rede a partir de arquivo:\n",
    "G = nx.read_edgelist('data/USairport500.txt')\n",
    "\n",
    "# Transformação dos labels de strings para inteiros:\n",
    "G = nx.convert_node_labels_to_integers(G)\n",
    "\n",
    "# Cálculo da média do comprimento dos menores caminhos:\n",
    "average = nx.average_shortest_path_length(G)\n",
    "print('Média comprimento dos menores caminhos =', average)\n",
    "\n",
    "# Cálculo da variância do comprimento dos menores caminhos:\n",
    "spl = nx.shortest_path_length(G)\n",
    "print('Variância comprimento dos menores caminhos =', evaluate_variance(spl, average))"
   ]
  },
  {
   "attachments": {},
   "cell_type": "markdown",
   "metadata": {},
   "source": [
    "### Questão 03"
   ]
  },
  {
   "cell_type": "code",
   "execution_count": null,
   "metadata": {},
   "outputs": [],
   "source": [
    "# Leitura da rede a partir de arquivo:\n",
    "G = nx.read_edgelist('data/advogato.txt')\n",
    "\n",
    "# Seleção do maior componente conectado:\n",
    "G = G.subgraph(sorted(nx.connected_components(G), key=len, reverse=True)[0])\n",
    "\n",
    "# Transformação dos labels de strings para inteiros:\n",
    "G = nx.convert_node_labels_to_integers(G)\n",
    "\n",
    "# Cálculo do coeficiente de assortatividade:\n",
    "print('Coeficiente de assortatividade =', nx.degree_assortativity_coefficient(G))"
   ]
  },
  {
   "attachments": {},
   "cell_type": "markdown",
   "metadata": {},
   "source": [
    "### Questão 04\n",
    "\n"
   ]
  },
  {
   "cell_type": "code",
   "execution_count": null,
   "metadata": {},
   "outputs": [],
   "source": [
    "# Função que determina a distribuição do comprimento:\n",
    "def build_path_length_distribution(G):\n",
    "    lengths = np.array([l for _,lengths in nx.shortest_path_length(G) for l in lengths.values() if l > 0])\n",
    "    max_length = np.max(lengths)\n",
    "    occurrences = np.zeros(max_length + 1)\n",
    "    for length in lengths:\n",
    "        occurrences[length] += 1\n",
    "    return occurrences / sum(occurrences)  # normalized\n",
    "\n",
    "# Função que calcula a entropia de Sannon:\n",
    "def evaluate_shannon_entropy(G):\n",
    "    ps = build_path_length_distribution(G)\n",
    "    entropy = 0\n",
    "    for p in ps:\n",
    "        if p > 0:\n",
    "            entropy -= p * np.math.log2(p)\n",
    "    return entropy\n",
    "\n",
    "# Leitura da rede a partir de arquivo:\n",
    "G = nx.read_edgelist('data/USairport500.txt')\n",
    "\n",
    "# Seleção do maior componente conectado:\n",
    "G = G.subgraph(sorted(nx.connected_components(G), key=len, reverse=True)[0])\n",
    "\n",
    "# Transformação dos labels de strings para inteiros:\n",
    "G = nx.convert_node_labels_to_integers(G)\n",
    "\n",
    "# Cálculo da Entropia de Shannon para os menores caminhos:\n",
    "print('Entropia de Shannon =', evaluate_shannon_entropy(G))"
   ]
  },
  {
   "attachments": {},
   "cell_type": "markdown",
   "metadata": {},
   "source": [
    "### Questão 05"
   ]
  },
  {
   "cell_type": "code",
   "execution_count": null,
   "metadata": {},
   "outputs": [],
   "source": [
    "# Função que calcula a lista dos graus médios da vizinhança:\n",
    "def evaluate_neighborhood_average_degrees(G):\n",
    "    neighborhood_avg_degrees = []\n",
    "    for node in G.nodes():\n",
    "        neighborhood_avg_degrees.append(float(nx.average_neighbor_degree(G, nodes=[node])[node]))\n",
    "    return np.array(neighborhood_avg_degrees)\n",
    "    \n",
    "# Definição de função para cálculo do coeficiente de Pearson entre o grau dos vizinhos e do nó:\n",
    "def evaluate_pearson_correlation(G):\n",
    "    degrees = list(dict(G.degree()).values())\n",
    "    neighborhood_avg_degrees = evaluate_neighborhood_average_degrees(G)\n",
    "    degrees_with_neighborhood = []\n",
    "    average_clusterings = []\n",
    "    for degree in np.arange(np.min(degrees), np.max(degrees) + 1):\n",
    "        current_degree = degrees == degree\n",
    "        if len(neighborhood_avg_degrees[current_degree]) > 0:\n",
    "            degrees_with_neighborhood.append(degree)\n",
    "            average_clusterings.append(np.mean(neighborhood_avg_degrees[current_degree]))\n",
    "    return np.corrcoef(degrees_with_neighborhood, average_clusterings)[0,1]\n",
    "\n",
    "# Leitura da rede a partir de arquivo:\n",
    "G = nx.read_edgelist('data/word_adjacencies.txt')\n",
    "\n",
    "# Seleção do maior componente conectado:\n",
    "G = G.subgraph(sorted(nx.connected_components(G), key=len, reverse=True)[0])\n",
    "\n",
    "# Transformação dos labels de strings para inteiros:\n",
    "G = nx.convert_node_labels_to_integers(G)\n",
    "\n",
    "print('Coeficiente de correlação de Pearson: ', evaluate_pearson_correlation(G))"
   ]
  }
 ],
 "metadata": {
  "kernelspec": {
   "display_name": "Python 3",
   "language": "python",
   "name": "python3"
  },
  "language_info": {
   "codemirror_mode": {
    "name": "ipython",
    "version": 3
   },
   "file_extension": ".py",
   "mimetype": "text/x-python",
   "name": "python",
   "nbconvert_exporter": "python",
   "pygments_lexer": "ipython3",
   "version": "3.8.10"
  },
  "orig_nbformat": 4
 },
 "nbformat": 4,
 "nbformat_minor": 2
}
