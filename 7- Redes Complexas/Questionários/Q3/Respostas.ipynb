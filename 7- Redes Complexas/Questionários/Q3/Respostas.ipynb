{
 "cells": [
  {
   "attachments": {},
   "cell_type": "markdown",
   "metadata": {},
   "source": [
    "# Respostas Questionário III - SME0130\n",
    "\n",
    "**Aluno:** Luiz Fernando Rabelo (11796893)"
   ]
  },
  {
   "attachments": {},
   "cell_type": "markdown",
   "metadata": {},
   "source": [
    "### Bibliotecas Utilizadas\n",
    "\n",
    "Para a resolução do questionário, foram utilizadas as bibliotecas _numpy_ e _networkx_, as quais são importadas abaixo:\n"
   ]
  },
  {
   "cell_type": "code",
   "execution_count": null,
   "metadata": {},
   "outputs": [],
   "source": [
    "import numpy as np\n",
    "import networkx as nx"
   ]
  },
  {
   "attachments": {},
   "cell_type": "markdown",
   "metadata": {},
   "source": [
    "### Questão 01"
   ]
  },
  {
   "cell_type": "code",
   "execution_count": null,
   "metadata": {},
   "outputs": [],
   "source": [
    "# Leitura da rede a partir de arquivo:\n",
    "G = nx.read_edgelist('data/USairport500.txt')\n",
    "\n",
    "# Remoção de direção e self-loops da rede:\n",
    "G = G.to_undirected()\n",
    "G.remove_edges_from(nx.selfloop_edges(G))\n",
    "\n",
    "# Seleção do maior componente conectado:\n",
    "G = G.subgraph(sorted(nx.connected_components(G), key=len, reverse=True)[0])\n",
    "\n",
    "# Transformação dos labels de strings para inteiros:\n",
    "G = nx.convert_node_labels_to_integers(G)\n",
    "\n",
    "# Cálculo da eigenvector centrality:\n",
    "print('Eigenvector centrality:', np.mean(list(nx.eigenvector_centrality(G, max_iter=2000).values())))"
   ]
  },
  {
   "attachments": {},
   "cell_type": "markdown",
   "metadata": {},
   "source": [
    "### Questão 02"
   ]
  },
  {
   "cell_type": "code",
   "execution_count": null,
   "metadata": {},
   "outputs": [],
   "source": [
    "# Leitura da rede a partir de arquivo:\n",
    "G = nx.read_adjlist('data/hamsterster.txt')\n",
    "\n",
    "# Remoção de direção e self-loops da rede:\n",
    "G = G.to_undirected()\n",
    "G.remove_edges_from(nx.selfloop_edges(G))\n",
    "\n",
    "# Seleção do maior componente conectado:\n",
    "G = G.subgraph(sorted(nx.connected_components(G), key=len, reverse=True)[0])\n",
    "\n",
    "# Transformação dos labels de strings para inteiros:\n",
    "G = nx.convert_node_labels_to_integers(G)\n",
    "\n",
    "# Cálculo da Correlação de Pearson entre betweeness centrality e grau:\n",
    "betweeness = list(dict(nx.betweenness_centrality(G)).values())\n",
    "degrees = list(dict(G.degree()).values())\n",
    "print('Correlação de Pearson entre beetweeness centrality e grau:', np.corrcoef(betweeness, degrees)[0,1])"
   ]
  },
  {
   "attachments": {},
   "cell_type": "markdown",
   "metadata": {},
   "source": [
    "### Questão 03"
   ]
  },
  {
   "cell_type": "code",
   "execution_count": null,
   "metadata": {},
   "outputs": [],
   "source": [
    "# Leitura da rede a partir de arquivo:\n",
    "G = nx.read_edgelist('data/jazz.txt')\n",
    "\n",
    "# Remoção de direção e self-loops da rede:\n",
    "G = G.to_undirected()\n",
    "G.remove_edges_from(nx.selfloop_edges(G))\n",
    "\n",
    "# Seleção do maior componente conectado:\n",
    "G = G.subgraph(sorted(nx.connected_components(G), key=len, reverse=True)[0])\n",
    "\n",
    "# Transformação dos labels de strings para inteiros:\n",
    "G = nx.convert_node_labels_to_integers(G)\n",
    "\n",
    "# Cálculo da Correlação de Pearson entre closeness centrality e k-core:\n",
    "closeness = list(dict(nx.closeness_centrality(G)).values())\n",
    "cores = list(dict(nx.core_number(G)).values())\n",
    "print('Correlação de Pearson entre beetweeness centrality e grau:', np.corrcoef(closeness, cores)[0,1])"
   ]
  },
  {
   "attachments": {},
   "cell_type": "markdown",
   "metadata": {},
   "source": [
    "### Questão 04\n",
    "\n",
    "- É calculada a partir da exponencial da matriz de probabilidade de transição: **Random Walk Accessibility**;\n",
    "- Considera os menores caminhos entre os pares de vértices: **Closeness Centrality**;\n",
    "- É calculada a partir do espectro da matriz de adjacência: **Eigenvector Centrality**;\n",
    "- Usa os menores caminhos de modo a determinar a carga (em termos da quantidade de tráfego) em cada vértice: **Betweeness Centrality**;\n",
    "- É uma medida de centralidade local, pois alguns vértices com valores altos dessa medida podem estar na borda da rede: **Degree Centrality**;\n",
    "- Um vértice é considerado central se estiver conectado a outros centrais. É usada em redes dirigidas: **Page Rank**."
   ]
  }
 ],
 "metadata": {
  "kernelspec": {
   "display_name": "Python 3",
   "language": "python",
   "name": "python3"
  },
  "language_info": {
   "codemirror_mode": {
    "name": "ipython",
    "version": 3
   },
   "file_extension": ".py",
   "mimetype": "text/x-python",
   "name": "python",
   "nbconvert_exporter": "python",
   "pygments_lexer": "ipython3",
   "version": "3.8.10"
  },
  "orig_nbformat": 4
 },
 "nbformat": 4,
 "nbformat_minor": 2
}
