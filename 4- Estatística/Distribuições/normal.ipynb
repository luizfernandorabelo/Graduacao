{
  "cells": [
    {
      "attachments": {},
      "cell_type": "markdown",
      "metadata": {},
      "source": [
        "# Distribuição Normal\n",
        "\n",
        "Uma variável aleatória contínua $X$ que tome todos os valores na reta real $-\\infty \\lt x \\lt \\infty$ segue uma _Distribuição Normal_ (ou Gaussiana) se sua função de densidade de probabilidade é dada por:\n",
        "\n",
        "$$f(x) = \\frac{1}{\\sigma \\sqrt{2\\pi}} exp \\left[\\frac{-1}{2}\\left(\\frac{x-\\mu}{\\sigma}\\right)^2\\right]$$"
      ]
    },
    {
      "attachments": {},
      "cell_type": "markdown",
      "metadata": {},
      "source": [
        "## Geração de Dados com Distribuição Normal\n",
        "\n",
        "Criando uma função _normal\\_dist_ que retorna o valor da função de densidade de probabilidade em um ponto $x$, dado $\\sigma$ e $\\mu$, é possível gerar dados que sigam uma distribuição normal."
      ]
    },
    {
      "cell_type": "code",
      "execution_count": null,
      "metadata": {},
      "outputs": [],
      "source": [
        "import numpy as np\n",
        "import matplotlib.pyplot as plt\n",
        "import math as math\n",
        "\n",
        "normal_dist = lambda x, mean, sd: np.pi * sd * np.exp(-1/2 * ((x - mean) / sd) ** 2)\n",
        "    \n",
        "x = np.linspace(-20, 20, 200)\n",
        "\n",
        "mean = -8\n",
        "sigma = 1\n",
        "y = normal_dist(x, mean, sigma)\n",
        "plt.plot(x, y, color='red', linestyle='dashed', label='μ=' + str(mean) + ', σ=' + str(sigma))\n",
        "\n",
        "mean = 0\n",
        "sigma = 2\n",
        "y = normal_dist(x, mean, sigma)\n",
        "plt.plot(x, y, color='blue', linestyle='dashed', label='μ=' + str(mean) + ', σ=' + str(sigma))\n",
        "\n",
        "mean = 5\n",
        "sigma = 5\n",
        "y = normal_dist(x,mean,sigma)\n",
        "plt.plot(x, y, color='green', linestyle='dashed', label='μ=' + str(mean) + ', σ=' + str(sigma))\n",
        "\n",
        "plt.xlabel('x')\n",
        "plt.ylabel('f(x)')\n",
        "plt.legend()\n",
        "plt.show()"
      ]
    },
    {
      "attachments": {},
      "cell_type": "markdown",
      "metadata": {},
      "source": [
        "## Exemplos de Aplicações\n",
        "\n",
        "Podemos resolver alguns exemplos para verificar algumas aplicações dessa distribuição."
      ]
    },
    {
      "attachments": {},
      "cell_type": "markdown",
      "metadata": {},
      "source": [
        "**Exemplo**: Se $X \\sim N(\\mu=165,\\,\\sigma^{2}=9)$, calcule $P(X<162)$."
      ]
    },
    {
      "cell_type": "code",
      "execution_count": null,
      "metadata": {},
      "outputs": [],
      "source": [
        "import scipy.stats as st\n",
        "\n",
        "mean = 165\n",
        "sd = 3\n",
        "\n",
        "z = (162 - mean) / sd\n",
        "\n",
        "print('Z:', z)\n",
        "print('P(X < 162) = ', st.norm.cdf(z))"
      ]
    },
    {
      "attachments": {},
      "cell_type": "markdown",
      "metadata": {},
      "source": [
        "**Exemplo**: Se $X \\sim N(\\mu=10,\\,\\sigma^{2}=4)$, calcule $P(X>13)$."
      ]
    },
    {
      "cell_type": "code",
      "execution_count": null,
      "metadata": {},
      "outputs": [],
      "source": [
        "import scipy.stats as st\n",
        "\n",
        "mean = 10\n",
        "sd = 2\n",
        "\n",
        "z = (13 - mean) / sd\n",
        "\n",
        "print('Z:', z)\n",
        "print('P(X > 13) =', 1 - st.norm.cdf(z))"
      ]
    },
    {
      "attachments": {},
      "cell_type": "markdown",
      "metadata": {},
      "source": [
        "**Exemplo**: Se $X \\sim N(\\mu=5,\\sigma^2=4)$, calcule $P(4 \\leq X \\leq 6)$. "
      ]
    },
    {
      "cell_type": "code",
      "execution_count": null,
      "metadata": {},
      "outputs": [],
      "source": [
        "import scipy.stats as st\n",
        "\n",
        "mean = 5\n",
        "sd = 2\n",
        "\n",
        "z_low = (4 - mean) / sd\n",
        "z_high = (6 - mean) / sd\n",
        "\n",
        "print('z_high =', z_high, '| z_low = ', z_low)\n",
        "print('P(4 < X < 6)=', st.norm.cdf(z_high) - st.norm.cdf(z_low))"
      ]
    },
    {
      "attachments": {},
      "cell_type": "markdown",
      "metadata": {},
      "source": [
        "**Exemplo:** O peso médio de 500 estudantes do sexo masculino de uma determinada universidade é 70 Kg e o desvio padrão é 5 Kg. Admitindo que os pesos são normalmente distribuídos, de forma aproximada, determine a porcentagem de estudantes que pesam entre 65 Kg e 75 Kg."
      ]
    },
    {
      "cell_type": "markdown",
      "metadata": {},
      "source": [
        "$$\n",
        "\\begin{aligned}\n",
        "P(65\\leq X \\leq 75) &=  P\\left(\\frac{65-\\mu}{\\sigma} \\leq \\frac{X-\\mu}{\\sigma} \\leq \\frac{75 - \\mu}{\\sigma} \\right) = \\\\\n",
        "& =  P\\left(\\frac{65-70}{5} \\leq Z \\leq \\frac{75 -70}{5} \\right) =  \\\\ \n",
        "& = P(Z \\leq 1) - P(Z \\leq -1) = 0,68.\n",
        "\\end{aligned}\n",
        "$$"
      ]
    },
    {
      "cell_type": "code",
      "execution_count": null,
      "metadata": {},
      "outputs": [],
      "source": [
        "import scipy.stats as st \n",
        "\n",
        "mean = 70\n",
        "sd = 5\n",
        "\n",
        "z_low = (65 - mean) / sd\n",
        "z_high = (75 - mean) / sd\n",
        "\n",
        "print('z_low =', z_low, '| z_high =', z_high)\n",
        "print('Probabilidade Teórica:', st.norm.cdf(z_high) - st.norm.cdf(z_low))"
      ]
    },
    {
      "cell_type": "code",
      "execution_count": null,
      "metadata": {},
      "outputs": [],
      "source": [
        "import numpy as np\n",
        "\n",
        "mean = 70\n",
        "sd = 5\n",
        "\n",
        "n_heights = 1000\n",
        "heights = np.random.normal(mean, sd, n_heights)\n",
        "\n",
        "total_successes = 0\n",
        "for h in heights:\n",
        "    if 65 < h < 75:\n",
        "        total_successes += 1\n",
        "\n",
        "print('Probabilidade Simulada:', total_successes / n_heights)"
      ]
    },
    {
      "cell_type": "markdown",
      "metadata": {},
      "source": [
        "b) mais do que 80 Kg. "
      ]
    },
    {
      "cell_type": "code",
      "execution_count": null,
      "metadata": {},
      "outputs": [],
      "source": [
        "import scipy.stats as st\n",
        "\n",
        "mean = 70\n",
        "sd = 5\n",
        "\n",
        "z = (80 - mean) / sd\n",
        "\n",
        "print('Probabilidade teórica:', 1 - st.norm.cdf(z))"
      ]
    },
    {
      "cell_type": "code",
      "execution_count": null,
      "metadata": {},
      "outputs": [],
      "source": [
        "import numpy as np\n",
        "\n",
        "mean = 70\n",
        "sd = 5\n",
        "\n",
        "n_heights = 1000\n",
        "heights = np.random.normal(mean, sd, n_heights)\n",
        "\n",
        "total_successes = 0\n",
        "for h in heights:\n",
        "    if h > 80:\n",
        "        total_successes += 1\n",
        "\n",
        "print('Probabilidade Simulada:', total_successes / n_heights)"
      ]
    }
  ],
  "metadata": {
    "kernelspec": {
      "display_name": "Python 3",
      "language": "python",
      "name": "python3"
    },
    "language_info": {
      "codemirror_mode": {
        "name": "ipython",
        "version": 3
      },
      "file_extension": ".py",
      "mimetype": "text/x-python",
      "name": "python",
      "nbconvert_exporter": "python",
      "pygments_lexer": "ipython3",
      "version": "3.8.10 (default, Nov 14 2022, 12:59:47) \n[GCC 9.4.0]"
    },
    "vscode": {
      "interpreter": {
        "hash": "916dbcbb3f70747c44a77c7bcd40155683ae19c65e1c03b4aa3499c5328201f1"
      }
    }
  },
  "nbformat": 4,
  "nbformat_minor": 2
}
