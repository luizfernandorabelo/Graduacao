{
  "cells": [
    {
      "attachments": {},
      "cell_type": "markdown",
      "metadata": {},
      "source": [
        "# Distribuição Geométrica\n",
        "\n",
        "Uma variável aleatória discreta $X$ segue uma _Distribuição Geométrica_ com parâmetro $p$, se:\n",
        "\n",
        "$$\n",
        "P(X=k) = p(1-p)^{k-1}\n",
        "$$\n",
        "\n",
        "Em outras palavras, a _Distribuição Geométrica_, nos auxilia na estimativa do número $k$ de tentativas necessárias para se obter um primeiro sucesso."
      ]
    },
    {
      "attachments": {},
      "cell_type": "markdown",
      "metadata": {},
      "source": [
        "## Média e Variância\n",
        "\n",
        "$$\\mu=\\frac{1}{p}$$\n",
        "$$\\sigma^2=\\frac{1-p}{p^2}$$"
      ]
    },
    {
      "attachments": {},
      "cell_type": "markdown",
      "metadata": {},
      "source": [
        "## Geração de Dados com Distribuição Geométrica\n",
        "\n",
        "A biblioteca _numpy_ possui um método que auxilia na produção de dados aleatórios modelados com Distribuição Geométrica."
      ]
    },
    {
      "cell_type": "code",
      "execution_count": null,
      "metadata": {},
      "outputs": [],
      "source": [
        "import numpy as np\n",
        "import matplotlib.pyplot as plt\n",
        "\n",
        "p = 0.2\n",
        "n_pontos = 1000\n",
        "\n",
        "pontos = np.random.geometric(p, n_pontos)\n",
        "\n",
        "plt.hist(pontos, bins=np.arange(np.max(pontos)), density=True, rwidth=0.9)\n",
        "plt.xlabel('k')\n",
        "plt.ylabel('P(X=k)')\n",
        "plt.show(True)\n",
        "\n",
        "print(\"Valor Esperado Teórico:\", 1 / p)\n",
        "print(\"Valor Esperado Simulado:\", np.sum(pontos) / len(pontos))"
      ]
    },
    {
      "attachments": {},
      "cell_type": "markdown",
      "metadata": {},
      "source": [
        "## Simulação\n",
        "\n",
        "Na simulação abaixo, é considerado um número de tentativas até que um sucesso ocorra. Nesse sentido,  $X=k$ indica $k$ experimentos para que ocorram $k-1$ falhas seguidas de um sucesso."
      ]
    },
    {
      "cell_type": "code",
      "execution_count": null,
      "metadata": {
        "scrolled": true
      },
      "outputs": [],
      "source": [
        "import numpy as np\n",
        "from matplotlib import pyplot as plt\n",
        "\n",
        "p = 0.2\n",
        "total_simulacoes = 10000\n",
        "\n",
        "tentativas_registradas = []  # lista do número de tentativas p/ o primeiro sucesso\n",
        "\n",
        "for _ in range(total_simulacoes):\n",
        "    contagem_tentativas = 0\n",
        "    houve_sucesso = False\n",
        "    while not houve_sucesso:\n",
        "        if np.random.uniform() <= p:\n",
        "            houve_sucesso = True\n",
        "        contagem_tentativas += 1\n",
        "    tentativas_registradas.append(contagem_tentativas)\n",
        "\n",
        "plt.hist(tentativas_registradas, bins=np.arange(np.max(tentativas_registradas)), density=True, rwidth=0.9)\n",
        "plt.xlabel('k')\n",
        "plt.ylabel('P(X=k)')\n",
        "plt.show(True)"
      ]
    }
  ],
  "metadata": {
    "kernelspec": {
      "display_name": "Python 3",
      "language": "python",
      "name": "python3"
    },
    "language_info": {
      "codemirror_mode": {
        "name": "ipython",
        "version": 3
      },
      "file_extension": ".py",
      "mimetype": "text/x-python",
      "name": "python",
      "nbconvert_exporter": "python",
      "pygments_lexer": "ipython3",
      "version": "3.8.10"
    },
    "vscode": {
      "interpreter": {
        "hash": "916dbcbb3f70747c44a77c7bcd40155683ae19c65e1c03b4aa3499c5328201f1"
      }
    }
  },
  "nbformat": 4,
  "nbformat_minor": 2
}
