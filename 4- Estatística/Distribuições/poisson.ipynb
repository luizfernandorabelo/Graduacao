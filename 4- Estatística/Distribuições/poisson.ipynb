{
  "cells": [
    {
      "attachments": {},
      "cell_type": "markdown",
      "metadata": {},
      "source": [
        "# Distribuição de Poisson\n",
        "\n",
        "Uma variável aleatória discreta $X$ tem _Distribuição de Poisson_ com parâmetro $\\lambda \\gt 0$ _(taxa)_ se sua função de probabilidade é dada por:\n",
        "\n",
        "$$P(X=k) = \\frac{e^{-\\lambda}\\lambda^k}{k!} $$\n",
        "\n",
        "A _Distribuição de Poisson_ é bastante utilizada em contextos baseados em taxas conhecidas (por exemplo peças por minuto, clientes por hora, pacotes por segundo, etc)."
      ]
    },
    {
      "attachments": {},
      "cell_type": "markdown",
      "metadata": {},
      "source": [
        "## Média e Variância\n",
        "\n",
        "$$\\mu = \\lambda$$\n",
        "$$\\sigma^2 = \\lambda$$"
      ]
    },
    {
      "attachments": {},
      "cell_type": "markdown",
      "metadata": {},
      "source": [
        "## Geração de Dados com Distribuição de Poisson\n",
        "\n",
        "A biblioteca _numpy_ possui um método que auxilia na produção de dados aleatórios modelados com Distribuição de Poisson."
      ]
    },
    {
      "cell_type": "code",
      "execution_count": null,
      "metadata": {},
      "outputs": [],
      "source": [
        "import numpy as np\n",
        "import matplotlib.pyplot as plt\n",
        "\n",
        "taxa_lambda = 10\n",
        "n_pontos = 1000\n",
        "\n",
        "pontos = np.random.poisson(taxa_lambda, n_pontos)\n",
        "\n",
        "plt.hist(pontos, bins=np.arange(max(pontos)), density=True, rwidth=0.9)\n",
        "plt.xlabel('k')\n",
        "plt.ylabel('P(X=k)')\n",
        "plt.title('Dados aleatórios gerados pelo numpy com λ =' + str(taxa_lambda))\n",
        "plt.show(True)"
      ]
    },
    {
      "attachments": {},
      "cell_type": "markdown",
      "metadata": {},
      "source": [
        "## Lei dos Eventos Raros\n",
        "\n",
        "A distribuição de Poisson é obtida quando aumentamos o número de experimentos e a probabilidade e sucesso é próxima de zero.\n",
        "\n",
        "$$\n",
        "\\lim_{n\\rightarrow \\infty, p\\rightarrow 0} \\frac{n!}{(n-k)!k!}p^k(1-p)^{n-k} = \\frac{e^{-\\lambda}\\lambda^k}{k!}\n",
        "$$"
      ]
    },
    {
      "attachments": {},
      "cell_type": "markdown",
      "metadata": {},
      "source": [
        "Na simulação abaixo, é possível perceber que, se diminuirmos a probabilidade de sucesso, a distribuição binomial se aproxima da de Poisson."
      ]
    },
    {
      "cell_type": "code",
      "execution_count": null,
      "metadata": {},
      "outputs": [],
      "source": [
        "import numpy as np\n",
        "from matplotlib import pyplot as plt\n",
        "from math import factorial as fact\n",
        "\n",
        "n = 100\n",
        "probabilidades_sucesso = [0.5, 0.2, 0.075]\n",
        "\n",
        "total_simulacoes = 1000\n",
        "\n",
        "for p in probabilidades_sucesso:\n",
        "    sucessos_registrados = np.zeros(n)\n",
        "    for _ in range(total_simulacoes):\n",
        "        total_sucessos = 0\n",
        "        for _ in range(n):\n",
        "            if np.random.uniform() <= p:\n",
        "                total_sucessos += 1\n",
        "        sucessos_registrados[total_sucessos] += 1\n",
        "\n",
        "    sucessos_registrados /= sum(sucessos_registrados)\n",
        "    sucessos_teoricos_binomial = [fact(n) / (fact(n-k) * fact(k)) * p ** k  * (1-p) ** (n-k) for k in range(n)]\n",
        "    sucessos_teoricos_poisson = [(np.exp(-n * p) * (n * p) ** k) / fact(k) for k in range(n)]\n",
        "    valores_k = np.arange(n)\n",
        "\n",
        "    plt.xlim(np.min(valores_k[sucessos_registrados>0]), np.max(valores_k[sucessos_registrados > 0]))\n",
        "    plt.bar(valores_k, sucessos_registrados, label='Sucessos Simulados Poisson')\n",
        "    plt.plot(valores_k, sucessos_teoricos_binomial, 'r--', label='Probabilidade Teórica Binomial')\n",
        "    plt.plot(valores_k, sucessos_teoricos_poisson, 'k--', label='Probabilidade Teórica Poisson')\n",
        "    plt.title('p = ' + str(p) + ', λ = ' + str(n * p))\n",
        "    plt.xlabel('k')\n",
        "    plt.ylabel('P(X=k)')\n",
        "    plt.legend()\n",
        "    plt.show(True)"
      ]
    }
  ],
  "metadata": {
    "kernelspec": {
      "display_name": "Python 3",
      "language": "python",
      "name": "python3"
    },
    "language_info": {
      "codemirror_mode": {
        "name": "ipython",
        "version": 3
      },
      "file_extension": ".py",
      "mimetype": "text/x-python",
      "name": "python",
      "nbconvert_exporter": "python",
      "pygments_lexer": "ipython3",
      "version": "3.8.10 (default, Nov 14 2022, 12:59:47) \n[GCC 9.4.0]"
    },
    "vscode": {
      "interpreter": {
        "hash": "916dbcbb3f70747c44a77c7bcd40155683ae19c65e1c03b4aa3499c5328201f1"
      }
    }
  },
  "nbformat": 4,
  "nbformat_minor": 2
}
