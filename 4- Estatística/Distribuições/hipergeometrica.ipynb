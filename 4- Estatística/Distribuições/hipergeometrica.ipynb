{
  "cells": [
    {
      "attachments": {},
      "cell_type": "markdown",
      "metadata": {},
      "source": [
        "# Distribuição Hipergeométrica\n",
        "\n",
        "Considere um conjunto de $N$ objetos, dos quais $N_1$ são do _tipo I_ e $N_2 = N - N_1$ são do _tipo II_. Para um sorteio de $r$ objetos, $(r\\lt N)$, feito ao acaso e sem reposição, defina: $X$: número inteiro de objetos selecionados do _tipo I_.  \n",
        "\n",
        "Então:  \n",
        "\n",
        "$$\n",
        "P(X=k)=\\frac{{{N_1}\\choose{k}}{{N_2}\\choose{r-k}}}{{{N}\\choose{r}}}\n",
        "$$"
      ]
    },
    {
      "attachments": {},
      "cell_type": "markdown",
      "metadata": {},
      "source": [
        "## Média e Variância\n",
        "\n",
        "$$\\mu=\\frac{rN_1}{N}$$\n",
        "\n",
        "$$\\sigma^2=r\\frac{N_1N_2}{N^2}\\frac{N-r}{N-1}$$"
      ]
    },
    {
      "attachments": {},
      "cell_type": "markdown",
      "metadata": {},
      "source": [
        "## Geração de Dados com Distribuição Hipergeométrica\n",
        "\n",
        "A biblioteca _numpy_ possui um método que auxilia na produção de dados aleatórios modelados com Distribuição Hipergeométrica."
      ]
    },
    {
      "cell_type": "code",
      "execution_count": null,
      "metadata": {},
      "outputs": [],
      "source": [
        "import numpy as np\n",
        "import matplotlib.pyplot as plt\n",
        "\n",
        "n1 = 8       # total do tipo 1\n",
        "n2 = 12      # total do tipo 2\n",
        "n = n1 + n2  # total dos diferentes tipos\n",
        "r = 5        # número de objetos selecionados sem reposição\n",
        "\n",
        "n_pontos = 1000\n",
        "\n",
        "pontos = np.random.hypergeometric(n1, n2, r, n_pontos)\n",
        "\n",
        "plt.hist(pontos, bins=np.arange(np.max(pontos)), density=True, rwidth=0.9)\n",
        "plt.xlabel('k')\n",
        "plt.ylabel('P(X=k)')\n",
        "plt.show(True)\n",
        "\n",
        "print(\"Valor Esperado Teórico:\", n1 * r / n)\n",
        "print(\"Valor Esperado Simulado:\", np.sum(pontos) / len(pontos))"
      ]
    }
  ],
  "metadata": {
    "kernelspec": {
      "display_name": "Python 3",
      "language": "python",
      "name": "python3"
    },
    "language_info": {
      "codemirror_mode": {
        "name": "ipython",
        "version": 3
      },
      "file_extension": ".py",
      "mimetype": "text/x-python",
      "name": "python",
      "nbconvert_exporter": "python",
      "pygments_lexer": "ipython3",
      "version": "3.8.10"
    },
    "vscode": {
      "interpreter": {
        "hash": "916dbcbb3f70747c44a77c7bcd40155683ae19c65e1c03b4aa3499c5328201f1"
      }
    }
  },
  "nbformat": 4,
  "nbformat_minor": 2
}
