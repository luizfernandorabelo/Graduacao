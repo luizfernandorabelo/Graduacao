{
 "cells": [
  {
   "attachments": {},
   "cell_type": "markdown",
   "metadata": {},
   "source": [
    "# Distribuição Binomial\n",
    "\n",
    "Seja $X$ uma variável aleatória discreta baseada em $n$ repetições de um _Processo de Bernoulli_. Então:\n",
    "\n",
    "$$P(X=k) = \\frac{n!}{(n-k)!k!} p^k(1-p)^{n-k}$$\n",
    "\n",
    "Em outras palavras, a _Distribuição Binomial_ mede a probabilidade de que $k$ sucessos ocorram em $n$ tentativas de Bernoulli independentes, cada qual com probabilidade de sucesso $p$."
   ]
  },
  {
   "attachments": {},
   "cell_type": "markdown",
   "metadata": {},
   "source": [
    "## Média e Variância\n",
    "\n",
    "$$\\mu=np$$\n",
    "$$\\sigma^2=np(1-p)$$"
   ]
  },
  {
   "attachments": {},
   "cell_type": "markdown",
   "metadata": {},
   "source": [
    "## Simulação\n",
    "\n",
    "É possível simular o lançamento de $n$ moedas, observando as ocorrências de $k$ caras. Ou seja, é possível examinar o acontecimento de $k$ sucessos em $n$ tentativas."
   ]
  },
  {
   "cell_type": "code",
   "execution_count": null,
   "metadata": {},
   "outputs": [],
   "source": [
    "import matplotlib.pyplot as plt\n",
    "import numpy as np\n",
    "from math import factorial as fact\n",
    "\n",
    "n = 1000\n",
    "p = 0.5\n",
    "\n",
    "total_simulacoes = 1000\n",
    "sucessos_registrados = np.zeros(n)\n",
    "\n",
    "for _ in range(total_simulacoes):\n",
    "    total_sucessos = 0\n",
    "    for _ in range(n):\n",
    "        if np.random.uniform() <= p:\n",
    "            total_sucessos += 1\n",
    "    sucessos_registrados[total_sucessos] += 1\n",
    "\n",
    "sucessos_registrados /=  sum(sucessos_registrados)\n",
    "\n",
    "sucessos_teoricos = [fact(n) / (fact(n-k) * fact(k)) * p ** k  * (1-p) ** (n-k) for k in range(n)]\n",
    "\n",
    "plt.figure(figsize=(16,8))\n",
    "plt.bar(np.arange(n), sucessos_registrados, label='Sucessos Simulados')\n",
    "plt.plot(np.arange(n), sucessos_teoricos, 'r--', label='Probabilidade Teórica')\n",
    "plt.xlabel('k')\n",
    "plt.ylabel('P(X=k)')\n",
    "plt.legend()\n",
    "plt.show()"
   ]
  }
 ],
 "metadata": {
  "kernelspec": {
   "display_name": "Python 3",
   "language": "python",
   "name": "python3"
  },
  "language_info": {
   "codemirror_mode": {
    "name": "ipython",
    "version": 3
   },
   "file_extension": ".py",
   "mimetype": "text/x-python",
   "name": "python",
   "nbconvert_exporter": "python",
   "pygments_lexer": "ipython3",
   "version": "3.8.10 (default, Nov 14 2022, 12:59:47) \n[GCC 9.4.0]"
  },
  "orig_nbformat": 4,
  "vscode": {
   "interpreter": {
    "hash": "916dbcbb3f70747c44a77c7bcd40155683ae19c65e1c03b4aa3499c5328201f1"
   }
  }
 },
 "nbformat": 4,
 "nbformat_minor": 2
}
