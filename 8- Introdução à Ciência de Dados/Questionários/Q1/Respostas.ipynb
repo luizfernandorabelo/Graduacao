{
 "cells": [
  {
   "cell_type": "markdown",
   "metadata": {},
   "source": [
    "# Respostas Questionário I - SME0828\n",
    "\n",
    "**Aluno:** Luiz Fernando Rabelo (11796893)"
   ]
  },
  {
   "cell_type": "markdown",
   "metadata": {},
   "source": [
    "### Bibliotecas Utilizadas\n",
    "\n",
    "Para a resolução do questionário, foram utilizadas as bibliotecas _numpy_, _pandas_, _matplotlib_, _seaborn_, _requests_ e _io_ as quais são importadas abaixo:"
   ]
  },
  {
   "cell_type": "code",
   "execution_count": null,
   "metadata": {},
   "outputs": [],
   "source": [
    "import numpy as np\n",
    "import pandas as pd\n",
    "import matplotlib.pyplot as plt\n",
    "import seaborn as sns\n",
    "import requests\n",
    "from io import StringIO"
   ]
  },
  {
   "cell_type": "markdown",
   "metadata": {},
   "source": [
    "### Questão 01"
   ]
  },
  {
   "cell_type": "code",
   "execution_count": null,
   "metadata": {},
   "outputs": [],
   "source": [
    "# Leitura do dataframe:\n",
    "df = pd.read_csv('data/iris-with-errors.csv', header=0)\n",
    "\n",
    "# Limpeza dos dados:\n",
    "df.replace('?', np.nan, inplace=True)\n",
    "df.dropna(inplace=True)\n",
    "df.drop_duplicates(inplace=True)\n",
    "\n",
    "# Remoção das 2 últimas colunas:\n",
    "df.drop(df.columns[[-2, -1]], axis=1, inplace=True)\n",
    "\n",
    "# Exibição do shape final:\n",
    "print(f'Shape final = {df.shape}')"
   ]
  },
  {
   "cell_type": "markdown",
   "metadata": {},
   "source": [
    "### Questão 02"
   ]
  },
  {
   "cell_type": "code",
   "execution_count": null,
   "metadata": {},
   "outputs": [],
   "source": [
    "# Leitura do dataframe:\n",
    "df = pd.read_csv('data/iris-with-errors.csv', header=0)\n",
    "\n",
    "# Substituição de valores desconhecidos por nan:\n",
    "df.replace('?', np.nan, inplace=True)\n",
    "\n",
    "# Separação dos atributos quantitativos em matriz e cálculo de suas médias:\n",
    "quantitativos = np.array(df[df.columns[0:-1]], dtype=float)  # -1 (último atributo string)\n",
    "medias = np.nanmean(quantitativos, axis=0)\n",
    "\n",
    "# Substituição dos valores ausentes pela média correspondente:\n",
    "for i in range(quantitativos.shape[0]):\n",
    "    for j in range(quantitativos.shape[1]):\n",
    "        if np.isnan(quantitativos[i,j]):\n",
    "            df.iloc[i,j] = medias[j]\n",
    "            quantitativos[i,j] = medias[j]\n",
    "\n",
    "# Determinação das medianas dos atributos:\n",
    "medianas = []\n",
    "for j in range(quantitativos.shape[1]):\n",
    "    medianas.append(np.median(quantitativos[:,j]))\n",
    "\n",
    "# Exibição das medianas calculadas:\n",
    "print(f'Medianas = {np.around(medianas, 2)}')"
   ]
  },
  {
   "cell_type": "markdown",
   "metadata": {},
   "source": [
    "### Questão 03"
   ]
  },
  {
   "cell_type": "code",
   "execution_count": null,
   "metadata": {},
   "outputs": [],
   "source": [
    "# Leitura do dataframe:\n",
    "df = pd.read_csv('data/iris.csv', header=0)\n",
    "\n",
    "# Determinação dos atributos a serem analisados:\n",
    "atributos = df.columns[:-1]\n",
    "\n",
    "# Exibição dos boxplots:\n",
    "fig = plt.figure(figsize=(10,10))\n",
    "for i in range(len(atributos)):\n",
    "    plt.subplot(2, 2, i+1)\n",
    "    sns.boxplot(data=df, x='species', y=atributos[i])\n",
    "    plt.xlabel('Espécie')\n",
    "    plt.ylabel(atributos[i])\n",
    "plt.show(True)"
   ]
  },
  {
   "cell_type": "markdown",
   "metadata": {},
   "source": [
    "Como se pode perceber, todos os atributos apresentam outliers."
   ]
  },
  {
   "cell_type": "markdown",
   "metadata": {},
   "source": [
    "### Questão 04"
   ]
  },
  {
   "cell_type": "code",
   "execution_count": null,
   "metadata": {},
   "outputs": [],
   "source": [
    "# Definição da url para a base de dados:\n",
    "url = 'http://raw.githubusercontent.com/datasciencedojo/datasets/master/titanic.csv'\n",
    "\n",
    "# Requisição para obtenção do conteúdo:\n",
    "resposta = requests.get(url)\n",
    "\n",
    "# Criação de dataframe com o conteúdo textual obtido:\n",
    "df = pd.read_csv(StringIO(resposta.text))\n",
    "\n",
    "# # Limpeza dos dados nulos e desconhecidos (leva à exclusão da maioria dos dados):\n",
    "# df.replace('?', np.nan, inplace=True)\n",
    "# df.dropna(inplace=True)\n",
    "# df.drop_duplicates(inplace=True)\n",
    "\n",
    "# Separação dos atributos quantitativos em matriz e cálculo de suas médias:\n",
    "quantitativos = np.array(df[['Survived', 'Pclass', 'Age', 'SibSp', 'Parch', 'Fare']])\n",
    "medias = np.nanmean(quantitativos, axis=0)\n",
    "\n",
    "# Substituição dos valores ausentes pela média correspondente:\n",
    "for i in range(quantitativos.shape[0]):\n",
    "    for j in range(quantitativos.shape[1]):\n",
    "        if np.isnan(quantitativos[i,j]):\n",
    "            df.iloc[i,j] = medias[j]\n",
    "\n",
    "# Construção da matriz de correlação:\n",
    "matriz_correlacao = df.corr(numeric_only=True)\n",
    "\n",
    "# Exibição gráfica da matriz:\n",
    "plt.figure(figsize=(5,4))\n",
    "plt.imshow(matriz_correlacao, cmap='gist_yarg', interpolation='none', aspect='auto')\n",
    "plt.colorbar()\n",
    "plt.xticks(range(len(matriz_correlacao)), matriz_correlacao.columns, rotation='vertical')\n",
    "plt.yticks(range(len(matriz_correlacao)), matriz_correlacao.columns)\n",
    "plt.suptitle('Correlação Entre as Variáveis')\n",
    "plt.grid(False)\n",
    "plt.show()"
   ]
  },
  {
   "cell_type": "markdown",
   "metadata": {},
   "source": [
    "Os atributos mais correlacionados são (parch, sibsp) e (survived, fare)."
   ]
  },
  {
   "cell_type": "markdown",
   "metadata": {},
   "source": [
    "### Questão 05\n",
    "\n",
    "O objetivo principal da limpeza de dados é garantir que os dados estejam livres de erros, inconsistências e valores inválidos."
   ]
  }
 ],
 "metadata": {
  "kernelspec": {
   "display_name": "Python 3",
   "language": "python",
   "name": "python3"
  },
  "language_info": {
   "codemirror_mode": {
    "name": "ipython",
    "version": 3
   },
   "file_extension": ".py",
   "mimetype": "text/x-python",
   "name": "python",
   "nbconvert_exporter": "python",
   "pygments_lexer": "ipython3",
   "version": "3.8.10"
  },
  "orig_nbformat": 4
 },
 "nbformat": 4,
 "nbformat_minor": 2
}
