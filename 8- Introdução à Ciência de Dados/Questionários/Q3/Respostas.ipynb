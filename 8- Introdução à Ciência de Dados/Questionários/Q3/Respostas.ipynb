{
 "cells": [
  {
   "cell_type": "markdown",
   "metadata": {},
   "source": [
    "# Respostas Questionário III - SME0828\n",
    "\n",
    "**Aluno:** Luiz Fernando Rabelo (11796893)"
   ]
  },
  {
   "cell_type": "markdown",
   "metadata": {},
   "source": [
    "### Questão 01\n",
    "\n",
    "(V) A Regressão Logística pode ser conceptualizada como uma rede neural composta por apenas um neurônio.  \n",
    "(V) A Regressão Logística é um classificador de natureza linear.  \n",
    "(F) Ao aumentarmos indefinidamente o número de classes, convertemos o problema de classificação em um problema de regressão.  \n",
    "(V) O classificador Bayesiano atribui a classificação com base na classe mais provável.  \n",
    "(V) O método KNN é caracterizado como um método não paramétrico.\n"
   ]
  },
  {
   "cell_type": "markdown",
   "metadata": {},
   "source": [
    "### Questão 02\n",
    "\n",
    "Em um experimento de Aprendizado de Máquina, um modelo sofisticado foi treinado com um conjunto de dados de treinamento. Ao avaliá-lo em um conjunto de teste, foi observado um desempenho significativamente inferior em comparação com o desempenho no conjunto de treinamento. O fenômeno que melhor caracteriza essa disparidade é:\n",
    "\n",
    "Sobreajuste (Overfitting)."
   ]
  },
  {
   "cell_type": "markdown",
   "metadata": {},
   "source": [
    "### Questão 03\n",
    "\n",
    "(V) A Regressão Logística é um modelo de aprendizado supervisionado aplicado em problemas de classificação, tanto binária quanto multiclasse.  \n",
    "(F) A Regressão Logística se enquadra como um algoritmo de aprendizado não linear.  \n",
    "(V) Devido à sensibilidade da Regressão Logística à escala das variáveis de entrada, é comum realizar a padronização ou normalização dos dados antes do treinamento do modelo.  \n",
    "(V) Na Regressão Logística, a probabilidade de uma instância pertencer a uma classe específica é calculada por meio da utilização da função logística. \n"
   ]
  },
  {
   "cell_type": "markdown",
   "metadata": {},
   "source": [
    "### Questão 04\n",
    "\n",
    "Sobre a curva ROC, quanto mais próxima a curva estiver da linha diagonal (linha referencial), pode-se dizer que:\n",
    "\n",
    "Melhor será o desempenho do classificador."
   ]
  },
  {
   "cell_type": "markdown",
   "metadata": {},
   "source": [
    "### Questão 05\n",
    "\n",
    "(V) Classificadores não paramétricos incluem as Árvores de Decisão.  \n",
    "(F) A medida de acurácia é empregada para avaliar o nível de impureza em uma classificação.  \n",
    "(V) Árvores têm a capacidade de lidar simultaneamente com atributos numéricos e nominais.  \n",
    "(V) Árvores de Decisão são aplicáveis tanto em problemas de regressão como em problemas de classificação.  \n",
    "(V) Exemplos de hiperparâmetros fornecidos pelo usuário incluem o tamanho da árvore e a medida de impureza."
   ]
  },
  {
   "cell_type": "markdown",
   "metadata": {},
   "source": [
    "### Questão 06\n",
    "\n",
    "Sobre a regressão linear, pode-se afirmar que:\n",
    "\n",
    "É robusta a outliers e é eficaz para modelar relações não lineares entre variáveis independentes e dependentes."
   ]
  },
  {
   "cell_type": "markdown",
   "metadata": {},
   "source": [
    "### Questão 07\n",
    "\n",
    "(V) Bagging é uma técnica de ensemble que gera múltiplas réplicas do conjunto de treinamento através de amostragem com reposição e combina suas previsões por votação ou média.  \n",
    "(V) O Boosting é um método de ensemble que atribui pesos mais elevados às instâncias classificadas incorretamente nas iterações anteriores, concentrando-se na correção de erros.  \n",
    "(V) Os métodos de ensemble são comumente empregados quando se busca diminuir a variância do modelo e prevenir o overfitting.  \n",
    "(V) O Random Forest exemplifica um método de ensemble que combina diversas árvores de decisão para aprimorar a precisão e mitigar o overfitting.\n",
    "\n"
   ]
  }
 ],
 "metadata": {
  "kernelspec": {
   "display_name": "Python 3",
   "language": "python",
   "name": "python3"
  },
  "language_info": {
   "codemirror_mode": {
    "name": "ipython",
    "version": 3
   },
   "file_extension": ".py",
   "mimetype": "text/x-python",
   "name": "python",
   "nbconvert_exporter": "python",
   "pygments_lexer": "ipython3",
   "version": "3.8.10"
  },
  "orig_nbformat": 4
 },
 "nbformat": 4,
 "nbformat_minor": 2
}
