{
 "cells": [
  {
   "cell_type": "markdown",
   "metadata": {},
   "source": [
    "# Respostas Questionário II - SME0828\n",
    "\n",
    "**Aluno:** Luiz Fernando Rabelo (11796893)"
   ]
  },
  {
   "cell_type": "markdown",
   "metadata": {},
   "source": [
    "### Bibliotecas Utilizadas\n",
    "\n",
    "Para a resolução do questionário, foram utilizadas as bibliotecas _numpy_, _pandas_, _matplotlib_, _requests_, _beautifulsoup_ e _io_ as quais são importadas abaixo:"
   ]
  },
  {
   "cell_type": "code",
   "execution_count": null,
   "metadata": {},
   "outputs": [],
   "source": [
    "import numpy as np\n",
    "import pandas as pd\n",
    "import matplotlib.pyplot as plt\n",
    "import requests\n",
    "from bs4 import BeautifulSoup as bs\n",
    "from io import StringIO"
   ]
  },
  {
   "cell_type": "markdown",
   "metadata": {},
   "source": [
    "### Questão 01"
   ]
  },
  {
   "cell_type": "code",
   "execution_count": null,
   "metadata": {},
   "outputs": [],
   "source": [
    "# Leitura do dataframe:\n",
    "df = pd.read_csv('data/Life Expectancy Data.csv')\n",
    "\n",
    "# Limpeza dos dados:\n",
    "df.drop(df[np.isnan(df['Year'])].index, inplace=True)\n",
    "df.drop(df[np.isnan(df['Life expectancy '])].index, inplace=True)\n",
    "\n",
    "# Especificação dos países de interesse e filtro do dataframe:\n",
    "nomes_paises = ['Ireland', 'Finland', 'Netherlands', 'Zambia', 'Angola']\n",
    "df_filtrado = df[df['Country'].isin(nomes_paises)]\n",
    "\n",
    "# Exibição do gráfico com a série temporal:\n",
    "plt.figure(figsize=(10, 6))\n",
    "for nome_pais in nomes_paises:\n",
    "    anos = df_filtrado.loc[df_filtrado['Country'] == nome_pais, 'Year']\n",
    "    expectativas = df_filtrado.loc[df_filtrado['Country'] == nome_pais, 'Life expectancy ']\n",
    "    plt.plot(anos, expectativas, label=nome_pais)\n",
    "plt.xlabel('Ano')\n",
    "plt.ylabel('Expectativa de Vida')\n",
    "plt.title('Série Temporal da Expectativa de Vida em Diferentes Países')\n",
    "plt.legend()\n",
    "plt.grid(True)\n",
    "plt.show()\n",
    "\n",
    "# Exibição das expectativas de vida em 2014:\n",
    "display(df_filtrado[df_filtrado['Year'] == 2014][['Country', 'Life expectancy ']])"
   ]
  },
  {
   "cell_type": "markdown",
   "metadata": {},
   "source": [
    "### Questão 02"
   ]
  },
  {
   "cell_type": "code",
   "execution_count": null,
   "metadata": {},
   "outputs": [],
   "source": [
    "# Leitura do dataframe:\n",
    "df = pd.read_csv('data/Life Expectancy Data.csv')\n",
    "\n",
    "# Limpeza dos dados:\n",
    "df.drop(df[np.isnan(df['Year'])].index, inplace=True)\n",
    "df.drop(df[np.isnan(df['Life expectancy '])].index, inplace=True)\n",
    "\n",
    "# Plot do histograma:\n",
    "plt.figure(figsize=(10,6))\n",
    "n, bins, patches = plt.hist(df['Life expectancy '], bins=10, density=True, width=5, edgecolor='black')\n",
    "plt.title('Expectativa de Vida')\n",
    "plt.xlabel('x (expectativa de vida)')\n",
    "plt.ylabel('f(x)')\n",
    "plt.xticks()\n",
    "plt.yticks()\n",
    "plt.show()\n",
    "\n",
    "# Cálculo da média:\n",
    "print(f'Média da Expectativa de Vida: {np.mean(np.array(df[\"Life expectancy \"]))}')\n",
    "print(f'Variância da Expectativa de Vida: {np.var(np.array(df[\"Life expectancy \"]))}')"
   ]
  },
  {
   "cell_type": "markdown",
   "metadata": {},
   "source": [
    "### Questão 03"
   ]
  },
  {
   "cell_type": "code",
   "execution_count": null,
   "metadata": {},
   "outputs": [],
   "source": [
    "# Leitura do dataframe:\n",
    "df = pd.read_csv('data/Life Expectancy Data.csv')\n",
    "\n",
    "# Limpeza dos dados:\n",
    "df.drop(df[np.isnan(df['Year'])].index, inplace=True)\n",
    "df.drop(df[np.isnan(df['Life expectancy '])].index, inplace=True)\n",
    "\n",
    "# Especificação dos países de interesse e filtro do dataframe:\n",
    "nomes_paises = ['Ireland', 'Finland', 'Netherlands', 'Zambia', 'Angola']\n",
    "df_filtrado = df[df['Country'].isin(nomes_paises)]\n",
    "\n",
    "display(df_filtrado.groupby(['Country']).median(numeric_only=True)[['Schooling']])"
   ]
  },
  {
   "cell_type": "markdown",
   "metadata": {},
   "source": [
    "O país com maior nível de escolaridade, em termos de mediana, é a Irlanda."
   ]
  },
  {
   "cell_type": "markdown",
   "metadata": {},
   "source": [
    "### Questão 04"
   ]
  },
  {
   "cell_type": "code",
   "execution_count": null,
   "metadata": {},
   "outputs": [],
   "source": [
    "# Definição da url para a página:\n",
    "url = 'https://www.worldometers.info/world-population/population-by-country'\n",
    "\n",
    "# Requisição do conteúdo da página:\n",
    "r = requests.get(url)\n",
    "\n",
    "# Parse da página para estrutura do Beautiful Soup:\n",
    "soup = bs(r.content)\n",
    "\n",
    "# Extração dos nomes das colunas e do conteúdo dos dados:\n",
    "colunas = [th.get_text() for th in soup.find('thead').find('tr').find_all('th')]\n",
    "dados = [[td.get_text() for td in row.find_all('td')] for row in soup.find('tbody').find_all('tr')]\n",
    "\n",
    "# Criação de dataframe com as informações extraídas:\n",
    "df = pd.DataFrame(dados, columns=colunas, index=None)\n",
    "\n",
    "# Remoção de vírgulas em dados numéricos:\n",
    "colunas_virgula = [2, 4, 5, 6, 7]\n",
    "for cv in colunas_virgula:\n",
    "    df[colunas[cv]] = df[colunas[cv]].str.replace(',', '')\n",
    "\n",
    "# Remoção de sinais de percentual em dados numéricos:\n",
    "colunas_porcentagem = [3, 10, 11]\n",
    "for cp in colunas_porcentagem:\n",
    "    df[colunas[cp]] = df[colunas[cp]].str.replace(' %', '')\n",
    "df.replace('N.A.', None, inplace=True)\n",
    "\n",
    "# Conversão de valores de string para float:\n",
    "for cs in range(2, df.shape[1]):\n",
    "    df[colunas[cs]] = df[colunas[cs]].replace('', '0')\n",
    "    df[colunas[cs]] = df[colunas[cs]].astype(float)\n",
    "\n",
    "# Substituição de valores nulos por suas médias:\n",
    "nulos = df.isnull().sum()\n",
    "colunas_nulos = df[nulos[nulos > 0].index]\n",
    "df.fillna(colunas_nulos.mean(), inplace=True)\n",
    "\n",
    "# Construção da matriz de correlação:\n",
    "matriz_correlacao = df.corr(numeric_only=True)\n",
    "\n",
    "# Exibição gráfica da matriz:\n",
    "plt.figure(figsize=(5,4))\n",
    "plt.imshow(matriz_correlacao, cmap='gist_yarg', interpolation='none', aspect='auto')\n",
    "plt.colorbar()\n",
    "plt.xticks(range(len(matriz_correlacao)), matriz_correlacao.columns, rotation='vertical')\n",
    "plt.yticks(range(len(matriz_correlacao)), matriz_correlacao.columns)\n",
    "plt.suptitle('Correlação Entre as Variáveis')\n",
    "plt.grid(False)\n",
    "plt.show()"
   ]
  },
  {
   "cell_type": "markdown",
   "metadata": {},
   "source": [
    "### Questão 05"
   ]
  },
  {
   "cell_type": "code",
   "execution_count": null,
   "metadata": {},
   "outputs": [],
   "source": [
    "# Definição da url para a base de dados:\n",
    "url = 'https://gist.githubusercontent.com/aishwarya8615/89d9f36fc014dea62487f7347864d16a/raw/8629d284e13976dcb13bb0b27043224b9266fffa/Life_Expectancy_Data.csv'\n",
    "\n",
    "# Requisição do conteúdo:\n",
    "resposta = requests.get(url)\n",
    "\n",
    "# Criação de dataframe com o conteúdo textual obtido:\n",
    "df = pd.read_csv(StringIO(resposta.text))\n",
    "\n",
    "contagem_por_status = df['Status'].value_counts()\n",
    "\n",
    "# Criação do gráfico de setores para a variável status:\n",
    "plt.figure(figsize=(6,6))\n",
    "plt.title('Distribuição de Países por Status')\n",
    "plt.pie(contagem_por_status, labels=contagem_por_status.index, autopct='%1.1f%%', explode=[0, 0.05]);"
   ]
  }
 ],
 "metadata": {
  "kernelspec": {
   "display_name": "Python 3",
   "language": "python",
   "name": "python3"
  },
  "language_info": {
   "codemirror_mode": {
    "name": "ipython",
    "version": 3
   },
   "file_extension": ".py",
   "mimetype": "text/x-python",
   "name": "python",
   "nbconvert_exporter": "python",
   "pygments_lexer": "ipython3",
   "version": "3.8.10"
  },
  "orig_nbformat": 4
 },
 "nbformat": 4,
 "nbformat_minor": 2
}
